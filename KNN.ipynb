{
 "cells": [
  {
   "cell_type": "code",
   "execution_count": 52,
   "id": "96b5787c",
   "metadata": {},
   "outputs": [
    {
     "name": "stdout",
     "output_type": "stream",
     "text": [
      "Collecting mlxtend\n",
      "  Downloading mlxtend-0.21.0-py2.py3-none-any.whl (1.3 MB)\n",
      "\u001b[K     |████████████████████████████████| 1.3 MB 1.6 MB/s eta 0:00:01\n",
      "\u001b[?25hRequirement already satisfied: matplotlib>=3.0.0 in /Users/weiwei/opt/anaconda3/lib/python3.9/site-packages (from mlxtend) (3.5.1)\n",
      "Requirement already satisfied: scikit-learn>=1.0.2 in /Users/weiwei/opt/anaconda3/lib/python3.9/site-packages (from mlxtend) (1.0.2)\n",
      "Requirement already satisfied: numpy>=1.16.2 in /Users/weiwei/opt/anaconda3/lib/python3.9/site-packages (from mlxtend) (1.21.5)\n",
      "Requirement already satisfied: scipy>=1.2.1 in /Users/weiwei/opt/anaconda3/lib/python3.9/site-packages (from mlxtend) (1.7.3)\n",
      "Requirement already satisfied: setuptools in /Users/weiwei/opt/anaconda3/lib/python3.9/site-packages (from mlxtend) (61.2.0)\n",
      "Requirement already satisfied: pandas>=0.24.2 in /Users/weiwei/opt/anaconda3/lib/python3.9/site-packages (from mlxtend) (1.4.2)\n",
      "Requirement already satisfied: joblib>=0.13.2 in /Users/weiwei/opt/anaconda3/lib/python3.9/site-packages (from mlxtend) (1.1.0)\n",
      "Requirement already satisfied: packaging>=20.0 in /Users/weiwei/opt/anaconda3/lib/python3.9/site-packages (from matplotlib>=3.0.0->mlxtend) (21.3)\n",
      "Requirement already satisfied: cycler>=0.10 in /Users/weiwei/opt/anaconda3/lib/python3.9/site-packages (from matplotlib>=3.0.0->mlxtend) (0.11.0)\n",
      "Requirement already satisfied: pyparsing>=2.2.1 in /Users/weiwei/opt/anaconda3/lib/python3.9/site-packages (from matplotlib>=3.0.0->mlxtend) (3.0.4)\n",
      "Requirement already satisfied: pillow>=6.2.0 in /Users/weiwei/opt/anaconda3/lib/python3.9/site-packages (from matplotlib>=3.0.0->mlxtend) (9.0.1)\n",
      "Requirement already satisfied: kiwisolver>=1.0.1 in /Users/weiwei/opt/anaconda3/lib/python3.9/site-packages (from matplotlib>=3.0.0->mlxtend) (1.3.2)\n",
      "Requirement already satisfied: python-dateutil>=2.7 in /Users/weiwei/opt/anaconda3/lib/python3.9/site-packages (from matplotlib>=3.0.0->mlxtend) (2.8.2)\n",
      "Requirement already satisfied: fonttools>=4.22.0 in /Users/weiwei/opt/anaconda3/lib/python3.9/site-packages (from matplotlib>=3.0.0->mlxtend) (4.25.0)\n",
      "Requirement already satisfied: pytz>=2020.1 in /Users/weiwei/opt/anaconda3/lib/python3.9/site-packages (from pandas>=0.24.2->mlxtend) (2021.3)\n",
      "Requirement already satisfied: six>=1.5 in /Users/weiwei/opt/anaconda3/lib/python3.9/site-packages (from python-dateutil>=2.7->matplotlib>=3.0.0->mlxtend) (1.16.0)\n",
      "Requirement already satisfied: threadpoolctl>=2.0.0 in /Users/weiwei/opt/anaconda3/lib/python3.9/site-packages (from scikit-learn>=1.0.2->mlxtend) (2.2.0)\n",
      "Installing collected packages: mlxtend\n",
      "Successfully installed mlxtend-0.21.0\n"
     ]
    }
   ],
   "source": [
    "!pip install mlxtend"
   ]
  },
  {
   "cell_type": "code",
   "execution_count": 1,
   "id": "984c5fe9",
   "metadata": {},
   "outputs": [],
   "source": [
    "from sklearn.cluster import KMeans\n",
    "from sklearn import metrics\n",
    "from scipy.spatial.distance import cdist\n",
    "import numpy as np\n",
    "import pandas as pd\n",
    "import matplotlib.pyplot as plt"
   ]
  },
  {
   "cell_type": "code",
   "execution_count": 2,
   "id": "4feb604c",
   "metadata": {},
   "outputs": [
    {
     "data": {
      "text/html": [
       "<div>\n",
       "<style scoped>\n",
       "    .dataframe tbody tr th:only-of-type {\n",
       "        vertical-align: middle;\n",
       "    }\n",
       "\n",
       "    .dataframe tbody tr th {\n",
       "        vertical-align: top;\n",
       "    }\n",
       "\n",
       "    .dataframe thead th {\n",
       "        text-align: right;\n",
       "    }\n",
       "</style>\n",
       "<table border=\"1\" class=\"dataframe\">\n",
       "  <thead>\n",
       "    <tr style=\"text-align: right;\">\n",
       "      <th></th>\n",
       "      <th>id</th>\n",
       "      <th>diagnosis</th>\n",
       "      <th>radius_mean</th>\n",
       "      <th>texture_mean</th>\n",
       "      <th>perimeter_mean</th>\n",
       "      <th>area_mean</th>\n",
       "      <th>smoothness_mean</th>\n",
       "      <th>compactness_mean</th>\n",
       "      <th>concavity_mean</th>\n",
       "      <th>concave points_mean</th>\n",
       "      <th>...</th>\n",
       "      <th>radius_worst</th>\n",
       "      <th>texture_worst</th>\n",
       "      <th>perimeter_worst</th>\n",
       "      <th>area_worst</th>\n",
       "      <th>smoothness_worst</th>\n",
       "      <th>compactness_worst</th>\n",
       "      <th>concavity_worst</th>\n",
       "      <th>concave points_worst</th>\n",
       "      <th>symmetry_worst</th>\n",
       "      <th>fractal_dimension_worst</th>\n",
       "    </tr>\n",
       "  </thead>\n",
       "  <tbody>\n",
       "    <tr>\n",
       "      <th>0</th>\n",
       "      <td>842302</td>\n",
       "      <td>M</td>\n",
       "      <td>17.99</td>\n",
       "      <td>10.38</td>\n",
       "      <td>122.80</td>\n",
       "      <td>1001.0</td>\n",
       "      <td>0.11840</td>\n",
       "      <td>0.27760</td>\n",
       "      <td>0.3001</td>\n",
       "      <td>0.14710</td>\n",
       "      <td>...</td>\n",
       "      <td>25.38</td>\n",
       "      <td>17.33</td>\n",
       "      <td>184.60</td>\n",
       "      <td>2019.0</td>\n",
       "      <td>0.1622</td>\n",
       "      <td>0.6656</td>\n",
       "      <td>0.7119</td>\n",
       "      <td>0.2654</td>\n",
       "      <td>0.4601</td>\n",
       "      <td>0.11890</td>\n",
       "    </tr>\n",
       "    <tr>\n",
       "      <th>1</th>\n",
       "      <td>842517</td>\n",
       "      <td>M</td>\n",
       "      <td>20.57</td>\n",
       "      <td>17.77</td>\n",
       "      <td>132.90</td>\n",
       "      <td>1326.0</td>\n",
       "      <td>0.08474</td>\n",
       "      <td>0.07864</td>\n",
       "      <td>0.0869</td>\n",
       "      <td>0.07017</td>\n",
       "      <td>...</td>\n",
       "      <td>24.99</td>\n",
       "      <td>23.41</td>\n",
       "      <td>158.80</td>\n",
       "      <td>1956.0</td>\n",
       "      <td>0.1238</td>\n",
       "      <td>0.1866</td>\n",
       "      <td>0.2416</td>\n",
       "      <td>0.1860</td>\n",
       "      <td>0.2750</td>\n",
       "      <td>0.08902</td>\n",
       "    </tr>\n",
       "    <tr>\n",
       "      <th>2</th>\n",
       "      <td>84300903</td>\n",
       "      <td>M</td>\n",
       "      <td>19.69</td>\n",
       "      <td>21.25</td>\n",
       "      <td>130.00</td>\n",
       "      <td>1203.0</td>\n",
       "      <td>0.10960</td>\n",
       "      <td>0.15990</td>\n",
       "      <td>0.1974</td>\n",
       "      <td>0.12790</td>\n",
       "      <td>...</td>\n",
       "      <td>23.57</td>\n",
       "      <td>25.53</td>\n",
       "      <td>152.50</td>\n",
       "      <td>1709.0</td>\n",
       "      <td>0.1444</td>\n",
       "      <td>0.4245</td>\n",
       "      <td>0.4504</td>\n",
       "      <td>0.2430</td>\n",
       "      <td>0.3613</td>\n",
       "      <td>0.08758</td>\n",
       "    </tr>\n",
       "    <tr>\n",
       "      <th>3</th>\n",
       "      <td>84348301</td>\n",
       "      <td>M</td>\n",
       "      <td>11.42</td>\n",
       "      <td>20.38</td>\n",
       "      <td>77.58</td>\n",
       "      <td>386.1</td>\n",
       "      <td>0.14250</td>\n",
       "      <td>0.28390</td>\n",
       "      <td>0.2414</td>\n",
       "      <td>0.10520</td>\n",
       "      <td>...</td>\n",
       "      <td>14.91</td>\n",
       "      <td>26.50</td>\n",
       "      <td>98.87</td>\n",
       "      <td>567.7</td>\n",
       "      <td>0.2098</td>\n",
       "      <td>0.8663</td>\n",
       "      <td>0.6869</td>\n",
       "      <td>0.2575</td>\n",
       "      <td>0.6638</td>\n",
       "      <td>0.17300</td>\n",
       "    </tr>\n",
       "    <tr>\n",
       "      <th>4</th>\n",
       "      <td>84358402</td>\n",
       "      <td>M</td>\n",
       "      <td>20.29</td>\n",
       "      <td>14.34</td>\n",
       "      <td>135.10</td>\n",
       "      <td>1297.0</td>\n",
       "      <td>0.10030</td>\n",
       "      <td>0.13280</td>\n",
       "      <td>0.1980</td>\n",
       "      <td>0.10430</td>\n",
       "      <td>...</td>\n",
       "      <td>22.54</td>\n",
       "      <td>16.67</td>\n",
       "      <td>152.20</td>\n",
       "      <td>1575.0</td>\n",
       "      <td>0.1374</td>\n",
       "      <td>0.2050</td>\n",
       "      <td>0.4000</td>\n",
       "      <td>0.1625</td>\n",
       "      <td>0.2364</td>\n",
       "      <td>0.07678</td>\n",
       "    </tr>\n",
       "  </tbody>\n",
       "</table>\n",
       "<p>5 rows × 32 columns</p>\n",
       "</div>"
      ],
      "text/plain": [
       "         id diagnosis  radius_mean  texture_mean  perimeter_mean  area_mean  \\\n",
       "0    842302         M        17.99         10.38          122.80     1001.0   \n",
       "1    842517         M        20.57         17.77          132.90     1326.0   \n",
       "2  84300903         M        19.69         21.25          130.00     1203.0   \n",
       "3  84348301         M        11.42         20.38           77.58      386.1   \n",
       "4  84358402         M        20.29         14.34          135.10     1297.0   \n",
       "\n",
       "   smoothness_mean  compactness_mean  concavity_mean  concave points_mean  \\\n",
       "0          0.11840           0.27760          0.3001              0.14710   \n",
       "1          0.08474           0.07864          0.0869              0.07017   \n",
       "2          0.10960           0.15990          0.1974              0.12790   \n",
       "3          0.14250           0.28390          0.2414              0.10520   \n",
       "4          0.10030           0.13280          0.1980              0.10430   \n",
       "\n",
       "   ...  radius_worst  texture_worst  perimeter_worst  area_worst  \\\n",
       "0  ...         25.38          17.33           184.60      2019.0   \n",
       "1  ...         24.99          23.41           158.80      1956.0   \n",
       "2  ...         23.57          25.53           152.50      1709.0   \n",
       "3  ...         14.91          26.50            98.87       567.7   \n",
       "4  ...         22.54          16.67           152.20      1575.0   \n",
       "\n",
       "   smoothness_worst  compactness_worst  concavity_worst  concave points_worst  \\\n",
       "0            0.1622             0.6656           0.7119                0.2654   \n",
       "1            0.1238             0.1866           0.2416                0.1860   \n",
       "2            0.1444             0.4245           0.4504                0.2430   \n",
       "3            0.2098             0.8663           0.6869                0.2575   \n",
       "4            0.1374             0.2050           0.4000                0.1625   \n",
       "\n",
       "   symmetry_worst  fractal_dimension_worst  \n",
       "0          0.4601                  0.11890  \n",
       "1          0.2750                  0.08902  \n",
       "2          0.3613                  0.08758  \n",
       "3          0.6638                  0.17300  \n",
       "4          0.2364                  0.07678  \n",
       "\n",
       "[5 rows x 32 columns]"
      ]
     },
     "execution_count": 2,
     "metadata": {},
     "output_type": "execute_result"
    }
   ],
   "source": [
    "df = pd.read_csv('/Users/weiwei/Desktop/UCI - MSBA/Fall/Machine Learning/Project/bc_test_data_10.csv')\n",
    "df.head()"
   ]
  },
  {
   "cell_type": "code",
   "execution_count": 3,
   "id": "b7411101",
   "metadata": {},
   "outputs": [
    {
     "data": {
      "text/html": [
       "<div>\n",
       "<style scoped>\n",
       "    .dataframe tbody tr th:only-of-type {\n",
       "        vertical-align: middle;\n",
       "    }\n",
       "\n",
       "    .dataframe tbody tr th {\n",
       "        vertical-align: top;\n",
       "    }\n",
       "\n",
       "    .dataframe thead th {\n",
       "        text-align: right;\n",
       "    }\n",
       "</style>\n",
       "<table border=\"1\" class=\"dataframe\">\n",
       "  <thead>\n",
       "    <tr style=\"text-align: right;\">\n",
       "      <th></th>\n",
       "      <th>id</th>\n",
       "      <th>radius_mean</th>\n",
       "      <th>texture_mean</th>\n",
       "      <th>perimeter_mean</th>\n",
       "      <th>area_mean</th>\n",
       "      <th>smoothness_mean</th>\n",
       "      <th>compactness_mean</th>\n",
       "      <th>concavity_mean</th>\n",
       "      <th>concave points_mean</th>\n",
       "      <th>symmetry_mean</th>\n",
       "      <th>...</th>\n",
       "      <th>perimeter_worst</th>\n",
       "      <th>area_worst</th>\n",
       "      <th>smoothness_worst</th>\n",
       "      <th>compactness_worst</th>\n",
       "      <th>concavity_worst</th>\n",
       "      <th>concave points_worst</th>\n",
       "      <th>symmetry_worst</th>\n",
       "      <th>fractal_dimension_worst</th>\n",
       "      <th>diagnosis_B</th>\n",
       "      <th>diagnosis_M</th>\n",
       "    </tr>\n",
       "  </thead>\n",
       "  <tbody>\n",
       "    <tr>\n",
       "      <th>0</th>\n",
       "      <td>842302</td>\n",
       "      <td>17.99</td>\n",
       "      <td>10.38</td>\n",
       "      <td>122.80</td>\n",
       "      <td>1001.0</td>\n",
       "      <td>0.11840</td>\n",
       "      <td>0.27760</td>\n",
       "      <td>0.30010</td>\n",
       "      <td>0.14710</td>\n",
       "      <td>0.2419</td>\n",
       "      <td>...</td>\n",
       "      <td>184.60</td>\n",
       "      <td>2019.0</td>\n",
       "      <td>0.16220</td>\n",
       "      <td>0.66560</td>\n",
       "      <td>0.7119</td>\n",
       "      <td>0.2654</td>\n",
       "      <td>0.4601</td>\n",
       "      <td>0.11890</td>\n",
       "      <td>0</td>\n",
       "      <td>1</td>\n",
       "    </tr>\n",
       "    <tr>\n",
       "      <th>1</th>\n",
       "      <td>842517</td>\n",
       "      <td>20.57</td>\n",
       "      <td>17.77</td>\n",
       "      <td>132.90</td>\n",
       "      <td>1326.0</td>\n",
       "      <td>0.08474</td>\n",
       "      <td>0.07864</td>\n",
       "      <td>0.08690</td>\n",
       "      <td>0.07017</td>\n",
       "      <td>0.1812</td>\n",
       "      <td>...</td>\n",
       "      <td>158.80</td>\n",
       "      <td>1956.0</td>\n",
       "      <td>0.12380</td>\n",
       "      <td>0.18660</td>\n",
       "      <td>0.2416</td>\n",
       "      <td>0.1860</td>\n",
       "      <td>0.2750</td>\n",
       "      <td>0.08902</td>\n",
       "      <td>0</td>\n",
       "      <td>1</td>\n",
       "    </tr>\n",
       "    <tr>\n",
       "      <th>2</th>\n",
       "      <td>84300903</td>\n",
       "      <td>19.69</td>\n",
       "      <td>21.25</td>\n",
       "      <td>130.00</td>\n",
       "      <td>1203.0</td>\n",
       "      <td>0.10960</td>\n",
       "      <td>0.15990</td>\n",
       "      <td>0.19740</td>\n",
       "      <td>0.12790</td>\n",
       "      <td>0.2069</td>\n",
       "      <td>...</td>\n",
       "      <td>152.50</td>\n",
       "      <td>1709.0</td>\n",
       "      <td>0.14440</td>\n",
       "      <td>0.42450</td>\n",
       "      <td>0.4504</td>\n",
       "      <td>0.2430</td>\n",
       "      <td>0.3613</td>\n",
       "      <td>0.08758</td>\n",
       "      <td>0</td>\n",
       "      <td>1</td>\n",
       "    </tr>\n",
       "    <tr>\n",
       "      <th>3</th>\n",
       "      <td>84348301</td>\n",
       "      <td>11.42</td>\n",
       "      <td>20.38</td>\n",
       "      <td>77.58</td>\n",
       "      <td>386.1</td>\n",
       "      <td>0.14250</td>\n",
       "      <td>0.28390</td>\n",
       "      <td>0.24140</td>\n",
       "      <td>0.10520</td>\n",
       "      <td>0.2597</td>\n",
       "      <td>...</td>\n",
       "      <td>98.87</td>\n",
       "      <td>567.7</td>\n",
       "      <td>0.20980</td>\n",
       "      <td>0.86630</td>\n",
       "      <td>0.6869</td>\n",
       "      <td>0.2575</td>\n",
       "      <td>0.6638</td>\n",
       "      <td>0.17300</td>\n",
       "      <td>0</td>\n",
       "      <td>1</td>\n",
       "    </tr>\n",
       "    <tr>\n",
       "      <th>4</th>\n",
       "      <td>84358402</td>\n",
       "      <td>20.29</td>\n",
       "      <td>14.34</td>\n",
       "      <td>135.10</td>\n",
       "      <td>1297.0</td>\n",
       "      <td>0.10030</td>\n",
       "      <td>0.13280</td>\n",
       "      <td>0.19800</td>\n",
       "      <td>0.10430</td>\n",
       "      <td>0.1809</td>\n",
       "      <td>...</td>\n",
       "      <td>152.20</td>\n",
       "      <td>1575.0</td>\n",
       "      <td>0.13740</td>\n",
       "      <td>0.20500</td>\n",
       "      <td>0.4000</td>\n",
       "      <td>0.1625</td>\n",
       "      <td>0.2364</td>\n",
       "      <td>0.07678</td>\n",
       "      <td>0</td>\n",
       "      <td>1</td>\n",
       "    </tr>\n",
       "    <tr>\n",
       "      <th>...</th>\n",
       "      <td>...</td>\n",
       "      <td>...</td>\n",
       "      <td>...</td>\n",
       "      <td>...</td>\n",
       "      <td>...</td>\n",
       "      <td>...</td>\n",
       "      <td>...</td>\n",
       "      <td>...</td>\n",
       "      <td>...</td>\n",
       "      <td>...</td>\n",
       "      <td>...</td>\n",
       "      <td>...</td>\n",
       "      <td>...</td>\n",
       "      <td>...</td>\n",
       "      <td>...</td>\n",
       "      <td>...</td>\n",
       "      <td>...</td>\n",
       "      <td>...</td>\n",
       "      <td>...</td>\n",
       "      <td>...</td>\n",
       "      <td>...</td>\n",
       "    </tr>\n",
       "    <tr>\n",
       "      <th>564</th>\n",
       "      <td>926424</td>\n",
       "      <td>21.56</td>\n",
       "      <td>22.39</td>\n",
       "      <td>142.00</td>\n",
       "      <td>1479.0</td>\n",
       "      <td>0.11100</td>\n",
       "      <td>0.11590</td>\n",
       "      <td>0.24390</td>\n",
       "      <td>0.13890</td>\n",
       "      <td>0.1726</td>\n",
       "      <td>...</td>\n",
       "      <td>166.10</td>\n",
       "      <td>2027.0</td>\n",
       "      <td>0.14100</td>\n",
       "      <td>0.21130</td>\n",
       "      <td>0.4107</td>\n",
       "      <td>0.2216</td>\n",
       "      <td>0.2060</td>\n",
       "      <td>0.07115</td>\n",
       "      <td>0</td>\n",
       "      <td>1</td>\n",
       "    </tr>\n",
       "    <tr>\n",
       "      <th>565</th>\n",
       "      <td>926682</td>\n",
       "      <td>20.13</td>\n",
       "      <td>28.25</td>\n",
       "      <td>131.20</td>\n",
       "      <td>1261.0</td>\n",
       "      <td>0.09780</td>\n",
       "      <td>0.10340</td>\n",
       "      <td>0.14400</td>\n",
       "      <td>0.09791</td>\n",
       "      <td>0.1752</td>\n",
       "      <td>...</td>\n",
       "      <td>155.00</td>\n",
       "      <td>1731.0</td>\n",
       "      <td>0.11660</td>\n",
       "      <td>0.19220</td>\n",
       "      <td>0.3215</td>\n",
       "      <td>0.1628</td>\n",
       "      <td>0.2572</td>\n",
       "      <td>0.06637</td>\n",
       "      <td>0</td>\n",
       "      <td>1</td>\n",
       "    </tr>\n",
       "    <tr>\n",
       "      <th>566</th>\n",
       "      <td>926954</td>\n",
       "      <td>16.60</td>\n",
       "      <td>28.08</td>\n",
       "      <td>108.30</td>\n",
       "      <td>858.1</td>\n",
       "      <td>0.08455</td>\n",
       "      <td>0.10230</td>\n",
       "      <td>0.09251</td>\n",
       "      <td>0.05302</td>\n",
       "      <td>0.1590</td>\n",
       "      <td>...</td>\n",
       "      <td>126.70</td>\n",
       "      <td>1124.0</td>\n",
       "      <td>0.11390</td>\n",
       "      <td>0.30940</td>\n",
       "      <td>0.3403</td>\n",
       "      <td>0.1418</td>\n",
       "      <td>0.2218</td>\n",
       "      <td>0.07820</td>\n",
       "      <td>0</td>\n",
       "      <td>1</td>\n",
       "    </tr>\n",
       "    <tr>\n",
       "      <th>567</th>\n",
       "      <td>927241</td>\n",
       "      <td>20.60</td>\n",
       "      <td>29.33</td>\n",
       "      <td>140.10</td>\n",
       "      <td>1265.0</td>\n",
       "      <td>0.11780</td>\n",
       "      <td>0.27700</td>\n",
       "      <td>0.35140</td>\n",
       "      <td>0.15200</td>\n",
       "      <td>0.2397</td>\n",
       "      <td>...</td>\n",
       "      <td>184.60</td>\n",
       "      <td>1821.0</td>\n",
       "      <td>0.16500</td>\n",
       "      <td>0.86810</td>\n",
       "      <td>0.9387</td>\n",
       "      <td>0.2650</td>\n",
       "      <td>0.4087</td>\n",
       "      <td>0.12400</td>\n",
       "      <td>0</td>\n",
       "      <td>1</td>\n",
       "    </tr>\n",
       "    <tr>\n",
       "      <th>568</th>\n",
       "      <td>92751</td>\n",
       "      <td>7.76</td>\n",
       "      <td>24.54</td>\n",
       "      <td>47.92</td>\n",
       "      <td>181.0</td>\n",
       "      <td>0.05263</td>\n",
       "      <td>0.04362</td>\n",
       "      <td>0.00000</td>\n",
       "      <td>0.00000</td>\n",
       "      <td>0.1587</td>\n",
       "      <td>...</td>\n",
       "      <td>59.16</td>\n",
       "      <td>268.6</td>\n",
       "      <td>0.08996</td>\n",
       "      <td>0.06444</td>\n",
       "      <td>0.0000</td>\n",
       "      <td>0.0000</td>\n",
       "      <td>0.2871</td>\n",
       "      <td>0.07039</td>\n",
       "      <td>1</td>\n",
       "      <td>0</td>\n",
       "    </tr>\n",
       "  </tbody>\n",
       "</table>\n",
       "<p>569 rows × 33 columns</p>\n",
       "</div>"
      ],
      "text/plain": [
       "           id  radius_mean  texture_mean  perimeter_mean  area_mean  \\\n",
       "0      842302        17.99         10.38          122.80     1001.0   \n",
       "1      842517        20.57         17.77          132.90     1326.0   \n",
       "2    84300903        19.69         21.25          130.00     1203.0   \n",
       "3    84348301        11.42         20.38           77.58      386.1   \n",
       "4    84358402        20.29         14.34          135.10     1297.0   \n",
       "..        ...          ...           ...             ...        ...   \n",
       "564    926424        21.56         22.39          142.00     1479.0   \n",
       "565    926682        20.13         28.25          131.20     1261.0   \n",
       "566    926954        16.60         28.08          108.30      858.1   \n",
       "567    927241        20.60         29.33          140.10     1265.0   \n",
       "568     92751         7.76         24.54           47.92      181.0   \n",
       "\n",
       "     smoothness_mean  compactness_mean  concavity_mean  concave points_mean  \\\n",
       "0            0.11840           0.27760         0.30010              0.14710   \n",
       "1            0.08474           0.07864         0.08690              0.07017   \n",
       "2            0.10960           0.15990         0.19740              0.12790   \n",
       "3            0.14250           0.28390         0.24140              0.10520   \n",
       "4            0.10030           0.13280         0.19800              0.10430   \n",
       "..               ...               ...             ...                  ...   \n",
       "564          0.11100           0.11590         0.24390              0.13890   \n",
       "565          0.09780           0.10340         0.14400              0.09791   \n",
       "566          0.08455           0.10230         0.09251              0.05302   \n",
       "567          0.11780           0.27700         0.35140              0.15200   \n",
       "568          0.05263           0.04362         0.00000              0.00000   \n",
       "\n",
       "     symmetry_mean  ...  perimeter_worst  area_worst  smoothness_worst  \\\n",
       "0           0.2419  ...           184.60      2019.0           0.16220   \n",
       "1           0.1812  ...           158.80      1956.0           0.12380   \n",
       "2           0.2069  ...           152.50      1709.0           0.14440   \n",
       "3           0.2597  ...            98.87       567.7           0.20980   \n",
       "4           0.1809  ...           152.20      1575.0           0.13740   \n",
       "..             ...  ...              ...         ...               ...   \n",
       "564         0.1726  ...           166.10      2027.0           0.14100   \n",
       "565         0.1752  ...           155.00      1731.0           0.11660   \n",
       "566         0.1590  ...           126.70      1124.0           0.11390   \n",
       "567         0.2397  ...           184.60      1821.0           0.16500   \n",
       "568         0.1587  ...            59.16       268.6           0.08996   \n",
       "\n",
       "     compactness_worst  concavity_worst  concave points_worst  symmetry_worst  \\\n",
       "0              0.66560           0.7119                0.2654          0.4601   \n",
       "1              0.18660           0.2416                0.1860          0.2750   \n",
       "2              0.42450           0.4504                0.2430          0.3613   \n",
       "3              0.86630           0.6869                0.2575          0.6638   \n",
       "4              0.20500           0.4000                0.1625          0.2364   \n",
       "..                 ...              ...                   ...             ...   \n",
       "564            0.21130           0.4107                0.2216          0.2060   \n",
       "565            0.19220           0.3215                0.1628          0.2572   \n",
       "566            0.30940           0.3403                0.1418          0.2218   \n",
       "567            0.86810           0.9387                0.2650          0.4087   \n",
       "568            0.06444           0.0000                0.0000          0.2871   \n",
       "\n",
       "     fractal_dimension_worst  diagnosis_B  diagnosis_M  \n",
       "0                    0.11890            0            1  \n",
       "1                    0.08902            0            1  \n",
       "2                    0.08758            0            1  \n",
       "3                    0.17300            0            1  \n",
       "4                    0.07678            0            1  \n",
       "..                       ...          ...          ...  \n",
       "564                  0.07115            0            1  \n",
       "565                  0.06637            0            1  \n",
       "566                  0.07820            0            1  \n",
       "567                  0.12400            0            1  \n",
       "568                  0.07039            1            0  \n",
       "\n",
       "[569 rows x 33 columns]"
      ]
     },
     "execution_count": 3,
     "metadata": {},
     "output_type": "execute_result"
    }
   ],
   "source": [
    "# Create dummy variable for diagnosis\n",
    "df_1 = pd.get_dummies(df)\n",
    "df_1"
   ]
  },
  {
   "cell_type": "code",
   "execution_count": 4,
   "id": "486a486b",
   "metadata": {},
   "outputs": [
    {
     "data": {
      "text/plain": [
       "diagnosis\n",
       "B    357\n",
       "M    212\n",
       "Name: diagnosis, dtype: int64"
      ]
     },
     "execution_count": 4,
     "metadata": {},
     "output_type": "execute_result"
    }
   ],
   "source": [
    "df2 = df.groupby(['diagnosis'])['diagnosis'].count()\n",
    "df2"
   ]
  },
  {
   "cell_type": "code",
   "execution_count": 5,
   "id": "1e8b490b",
   "metadata": {},
   "outputs": [
    {
     "data": {
      "text/html": [
       "<div>\n",
       "<style scoped>\n",
       "    .dataframe tbody tr th:only-of-type {\n",
       "        vertical-align: middle;\n",
       "    }\n",
       "\n",
       "    .dataframe tbody tr th {\n",
       "        vertical-align: top;\n",
       "    }\n",
       "\n",
       "    .dataframe thead th {\n",
       "        text-align: right;\n",
       "    }\n",
       "</style>\n",
       "<table border=\"1\" class=\"dataframe\">\n",
       "  <thead>\n",
       "    <tr style=\"text-align: right;\">\n",
       "      <th></th>\n",
       "      <th>id</th>\n",
       "      <th>radius_mean</th>\n",
       "      <th>texture_mean</th>\n",
       "      <th>perimeter_mean</th>\n",
       "      <th>area_mean</th>\n",
       "      <th>smoothness_mean</th>\n",
       "      <th>compactness_mean</th>\n",
       "      <th>concavity_mean</th>\n",
       "      <th>concave points_mean</th>\n",
       "      <th>symmetry_mean</th>\n",
       "      <th>...</th>\n",
       "      <th>perimeter_worst</th>\n",
       "      <th>area_worst</th>\n",
       "      <th>smoothness_worst</th>\n",
       "      <th>compactness_worst</th>\n",
       "      <th>concavity_worst</th>\n",
       "      <th>concave points_worst</th>\n",
       "      <th>symmetry_worst</th>\n",
       "      <th>fractal_dimension_worst</th>\n",
       "      <th>diagnosis_B</th>\n",
       "      <th>diagnosis_M</th>\n",
       "    </tr>\n",
       "  </thead>\n",
       "  <tbody>\n",
       "    <tr>\n",
       "      <th>0</th>\n",
       "      <td>-0.236405</td>\n",
       "      <td>1.097064</td>\n",
       "      <td>-2.073335</td>\n",
       "      <td>1.269934</td>\n",
       "      <td>0.984375</td>\n",
       "      <td>1.568466</td>\n",
       "      <td>3.283515</td>\n",
       "      <td>2.652874</td>\n",
       "      <td>2.532475</td>\n",
       "      <td>2.217515</td>\n",
       "      <td>...</td>\n",
       "      <td>2.303601</td>\n",
       "      <td>2.001237</td>\n",
       "      <td>1.307686</td>\n",
       "      <td>2.616665</td>\n",
       "      <td>2.109526</td>\n",
       "      <td>2.296076</td>\n",
       "      <td>2.750622</td>\n",
       "      <td>1.937015</td>\n",
       "      <td>-1.297676</td>\n",
       "      <td>1.297676</td>\n",
       "    </tr>\n",
       "    <tr>\n",
       "      <th>1</th>\n",
       "      <td>-0.236403</td>\n",
       "      <td>1.829821</td>\n",
       "      <td>-0.353632</td>\n",
       "      <td>1.685955</td>\n",
       "      <td>1.908708</td>\n",
       "      <td>-0.826962</td>\n",
       "      <td>-0.487072</td>\n",
       "      <td>-0.023846</td>\n",
       "      <td>0.548144</td>\n",
       "      <td>0.001392</td>\n",
       "      <td>...</td>\n",
       "      <td>1.535126</td>\n",
       "      <td>1.890489</td>\n",
       "      <td>-0.375612</td>\n",
       "      <td>-0.430444</td>\n",
       "      <td>-0.146749</td>\n",
       "      <td>1.087084</td>\n",
       "      <td>-0.243890</td>\n",
       "      <td>0.281190</td>\n",
       "      <td>-1.297676</td>\n",
       "      <td>1.297676</td>\n",
       "    </tr>\n",
       "    <tr>\n",
       "      <th>2</th>\n",
       "      <td>0.431741</td>\n",
       "      <td>1.579888</td>\n",
       "      <td>0.456187</td>\n",
       "      <td>1.566503</td>\n",
       "      <td>1.558884</td>\n",
       "      <td>0.942210</td>\n",
       "      <td>1.052926</td>\n",
       "      <td>1.363478</td>\n",
       "      <td>2.037231</td>\n",
       "      <td>0.939685</td>\n",
       "      <td>...</td>\n",
       "      <td>1.347475</td>\n",
       "      <td>1.456285</td>\n",
       "      <td>0.527407</td>\n",
       "      <td>1.082932</td>\n",
       "      <td>0.854974</td>\n",
       "      <td>1.955000</td>\n",
       "      <td>1.152255</td>\n",
       "      <td>0.201391</td>\n",
       "      <td>-1.297676</td>\n",
       "      <td>1.297676</td>\n",
       "    </tr>\n",
       "    <tr>\n",
       "      <th>3</th>\n",
       "      <td>0.432121</td>\n",
       "      <td>-0.768909</td>\n",
       "      <td>0.253732</td>\n",
       "      <td>-0.592687</td>\n",
       "      <td>-0.764464</td>\n",
       "      <td>3.283553</td>\n",
       "      <td>3.402909</td>\n",
       "      <td>1.915897</td>\n",
       "      <td>1.451707</td>\n",
       "      <td>2.867383</td>\n",
       "      <td>...</td>\n",
       "      <td>-0.249939</td>\n",
       "      <td>-0.550021</td>\n",
       "      <td>3.394275</td>\n",
       "      <td>3.893397</td>\n",
       "      <td>1.989588</td>\n",
       "      <td>2.175786</td>\n",
       "      <td>6.046041</td>\n",
       "      <td>4.935010</td>\n",
       "      <td>-1.297676</td>\n",
       "      <td>1.297676</td>\n",
       "    </tr>\n",
       "    <tr>\n",
       "      <th>4</th>\n",
       "      <td>0.432201</td>\n",
       "      <td>1.750297</td>\n",
       "      <td>-1.151816</td>\n",
       "      <td>1.776573</td>\n",
       "      <td>1.826229</td>\n",
       "      <td>0.280372</td>\n",
       "      <td>0.539340</td>\n",
       "      <td>1.371011</td>\n",
       "      <td>1.428493</td>\n",
       "      <td>-0.009560</td>\n",
       "      <td>...</td>\n",
       "      <td>1.338539</td>\n",
       "      <td>1.220724</td>\n",
       "      <td>0.220556</td>\n",
       "      <td>-0.313395</td>\n",
       "      <td>0.613179</td>\n",
       "      <td>0.729259</td>\n",
       "      <td>-0.868353</td>\n",
       "      <td>-0.397100</td>\n",
       "      <td>-1.297676</td>\n",
       "      <td>1.297676</td>\n",
       "    </tr>\n",
       "    <tr>\n",
       "      <th>...</th>\n",
       "      <td>...</td>\n",
       "      <td>...</td>\n",
       "      <td>...</td>\n",
       "      <td>...</td>\n",
       "      <td>...</td>\n",
       "      <td>...</td>\n",
       "      <td>...</td>\n",
       "      <td>...</td>\n",
       "      <td>...</td>\n",
       "      <td>...</td>\n",
       "      <td>...</td>\n",
       "      <td>...</td>\n",
       "      <td>...</td>\n",
       "      <td>...</td>\n",
       "      <td>...</td>\n",
       "      <td>...</td>\n",
       "      <td>...</td>\n",
       "      <td>...</td>\n",
       "      <td>...</td>\n",
       "      <td>...</td>\n",
       "      <td>...</td>\n",
       "    </tr>\n",
       "    <tr>\n",
       "      <th>564</th>\n",
       "      <td>-0.235732</td>\n",
       "      <td>2.110995</td>\n",
       "      <td>0.721473</td>\n",
       "      <td>2.060786</td>\n",
       "      <td>2.343856</td>\n",
       "      <td>1.041842</td>\n",
       "      <td>0.219060</td>\n",
       "      <td>1.947285</td>\n",
       "      <td>2.320965</td>\n",
       "      <td>-0.312589</td>\n",
       "      <td>...</td>\n",
       "      <td>1.752563</td>\n",
       "      <td>2.015301</td>\n",
       "      <td>0.378365</td>\n",
       "      <td>-0.273318</td>\n",
       "      <td>0.664512</td>\n",
       "      <td>1.629151</td>\n",
       "      <td>-1.360158</td>\n",
       "      <td>-0.709091</td>\n",
       "      <td>-1.297676</td>\n",
       "      <td>1.297676</td>\n",
       "    </tr>\n",
       "    <tr>\n",
       "      <th>565</th>\n",
       "      <td>-0.235730</td>\n",
       "      <td>1.704854</td>\n",
       "      <td>2.085134</td>\n",
       "      <td>1.615931</td>\n",
       "      <td>1.723842</td>\n",
       "      <td>0.102458</td>\n",
       "      <td>-0.017833</td>\n",
       "      <td>0.693043</td>\n",
       "      <td>1.263669</td>\n",
       "      <td>-0.217664</td>\n",
       "      <td>...</td>\n",
       "      <td>1.421940</td>\n",
       "      <td>1.494959</td>\n",
       "      <td>-0.691230</td>\n",
       "      <td>-0.394820</td>\n",
       "      <td>0.236573</td>\n",
       "      <td>0.733827</td>\n",
       "      <td>-0.531855</td>\n",
       "      <td>-0.973978</td>\n",
       "      <td>-1.297676</td>\n",
       "      <td>1.297676</td>\n",
       "    </tr>\n",
       "    <tr>\n",
       "      <th>566</th>\n",
       "      <td>-0.235727</td>\n",
       "      <td>0.702284</td>\n",
       "      <td>2.045574</td>\n",
       "      <td>0.672676</td>\n",
       "      <td>0.577953</td>\n",
       "      <td>-0.840484</td>\n",
       "      <td>-0.038680</td>\n",
       "      <td>0.046588</td>\n",
       "      <td>0.105777</td>\n",
       "      <td>-0.809117</td>\n",
       "      <td>...</td>\n",
       "      <td>0.579001</td>\n",
       "      <td>0.427906</td>\n",
       "      <td>-0.809587</td>\n",
       "      <td>0.350735</td>\n",
       "      <td>0.326767</td>\n",
       "      <td>0.414069</td>\n",
       "      <td>-1.104549</td>\n",
       "      <td>-0.318409</td>\n",
       "      <td>-1.297676</td>\n",
       "      <td>1.297676</td>\n",
       "    </tr>\n",
       "    <tr>\n",
       "      <th>567</th>\n",
       "      <td>-0.235725</td>\n",
       "      <td>1.838341</td>\n",
       "      <td>2.336457</td>\n",
       "      <td>1.982524</td>\n",
       "      <td>1.735218</td>\n",
       "      <td>1.525767</td>\n",
       "      <td>3.272144</td>\n",
       "      <td>3.296944</td>\n",
       "      <td>2.658866</td>\n",
       "      <td>2.137194</td>\n",
       "      <td>...</td>\n",
       "      <td>2.303601</td>\n",
       "      <td>1.653171</td>\n",
       "      <td>1.430427</td>\n",
       "      <td>3.904848</td>\n",
       "      <td>3.197605</td>\n",
       "      <td>2.289985</td>\n",
       "      <td>1.919083</td>\n",
       "      <td>2.219635</td>\n",
       "      <td>-1.297676</td>\n",
       "      <td>1.297676</td>\n",
       "    </tr>\n",
       "    <tr>\n",
       "      <th>568</th>\n",
       "      <td>-0.242406</td>\n",
       "      <td>-1.808401</td>\n",
       "      <td>1.221792</td>\n",
       "      <td>-1.814389</td>\n",
       "      <td>-1.347789</td>\n",
       "      <td>-3.112085</td>\n",
       "      <td>-1.150752</td>\n",
       "      <td>-1.114873</td>\n",
       "      <td>-1.261820</td>\n",
       "      <td>-0.820070</td>\n",
       "      <td>...</td>\n",
       "      <td>-1.432735</td>\n",
       "      <td>-1.075813</td>\n",
       "      <td>-1.859019</td>\n",
       "      <td>-1.207552</td>\n",
       "      <td>-1.305831</td>\n",
       "      <td>-1.745063</td>\n",
       "      <td>-0.048138</td>\n",
       "      <td>-0.751207</td>\n",
       "      <td>0.770609</td>\n",
       "      <td>-0.770609</td>\n",
       "    </tr>\n",
       "  </tbody>\n",
       "</table>\n",
       "<p>569 rows × 33 columns</p>\n",
       "</div>"
      ],
      "text/plain": [
       "           id  radius_mean  texture_mean  perimeter_mean  area_mean  \\\n",
       "0   -0.236405     1.097064     -2.073335        1.269934   0.984375   \n",
       "1   -0.236403     1.829821     -0.353632        1.685955   1.908708   \n",
       "2    0.431741     1.579888      0.456187        1.566503   1.558884   \n",
       "3    0.432121    -0.768909      0.253732       -0.592687  -0.764464   \n",
       "4    0.432201     1.750297     -1.151816        1.776573   1.826229   \n",
       "..        ...          ...           ...             ...        ...   \n",
       "564 -0.235732     2.110995      0.721473        2.060786   2.343856   \n",
       "565 -0.235730     1.704854      2.085134        1.615931   1.723842   \n",
       "566 -0.235727     0.702284      2.045574        0.672676   0.577953   \n",
       "567 -0.235725     1.838341      2.336457        1.982524   1.735218   \n",
       "568 -0.242406    -1.808401      1.221792       -1.814389  -1.347789   \n",
       "\n",
       "     smoothness_mean  compactness_mean  concavity_mean  concave points_mean  \\\n",
       "0           1.568466          3.283515        2.652874             2.532475   \n",
       "1          -0.826962         -0.487072       -0.023846             0.548144   \n",
       "2           0.942210          1.052926        1.363478             2.037231   \n",
       "3           3.283553          3.402909        1.915897             1.451707   \n",
       "4           0.280372          0.539340        1.371011             1.428493   \n",
       "..               ...               ...             ...                  ...   \n",
       "564         1.041842          0.219060        1.947285             2.320965   \n",
       "565         0.102458         -0.017833        0.693043             1.263669   \n",
       "566        -0.840484         -0.038680        0.046588             0.105777   \n",
       "567         1.525767          3.272144        3.296944             2.658866   \n",
       "568        -3.112085         -1.150752       -1.114873            -1.261820   \n",
       "\n",
       "     symmetry_mean  ...  perimeter_worst  area_worst  smoothness_worst  \\\n",
       "0         2.217515  ...         2.303601    2.001237          1.307686   \n",
       "1         0.001392  ...         1.535126    1.890489         -0.375612   \n",
       "2         0.939685  ...         1.347475    1.456285          0.527407   \n",
       "3         2.867383  ...        -0.249939   -0.550021          3.394275   \n",
       "4        -0.009560  ...         1.338539    1.220724          0.220556   \n",
       "..             ...  ...              ...         ...               ...   \n",
       "564      -0.312589  ...         1.752563    2.015301          0.378365   \n",
       "565      -0.217664  ...         1.421940    1.494959         -0.691230   \n",
       "566      -0.809117  ...         0.579001    0.427906         -0.809587   \n",
       "567       2.137194  ...         2.303601    1.653171          1.430427   \n",
       "568      -0.820070  ...        -1.432735   -1.075813         -1.859019   \n",
       "\n",
       "     compactness_worst  concavity_worst  concave points_worst  symmetry_worst  \\\n",
       "0             2.616665         2.109526              2.296076        2.750622   \n",
       "1            -0.430444        -0.146749              1.087084       -0.243890   \n",
       "2             1.082932         0.854974              1.955000        1.152255   \n",
       "3             3.893397         1.989588              2.175786        6.046041   \n",
       "4            -0.313395         0.613179              0.729259       -0.868353   \n",
       "..                 ...              ...                   ...             ...   \n",
       "564          -0.273318         0.664512              1.629151       -1.360158   \n",
       "565          -0.394820         0.236573              0.733827       -0.531855   \n",
       "566           0.350735         0.326767              0.414069       -1.104549   \n",
       "567           3.904848         3.197605              2.289985        1.919083   \n",
       "568          -1.207552        -1.305831             -1.745063       -0.048138   \n",
       "\n",
       "     fractal_dimension_worst  diagnosis_B  diagnosis_M  \n",
       "0                   1.937015    -1.297676     1.297676  \n",
       "1                   0.281190    -1.297676     1.297676  \n",
       "2                   0.201391    -1.297676     1.297676  \n",
       "3                   4.935010    -1.297676     1.297676  \n",
       "4                  -0.397100    -1.297676     1.297676  \n",
       "..                       ...          ...          ...  \n",
       "564                -0.709091    -1.297676     1.297676  \n",
       "565                -0.973978    -1.297676     1.297676  \n",
       "566                -0.318409    -1.297676     1.297676  \n",
       "567                 2.219635    -1.297676     1.297676  \n",
       "568                -0.751207     0.770609    -0.770609  \n",
       "\n",
       "[569 rows x 33 columns]"
      ]
     },
     "execution_count": 5,
     "metadata": {},
     "output_type": "execute_result"
    }
   ],
   "source": [
    "# Standerdizing the data: std_df\n",
    "from sklearn.preprocessing import StandardScaler\n",
    "\n",
    "scaler = StandardScaler()\n",
    "\n",
    "standardized_data = scaler.fit_transform(df_1)\n",
    "#print(standardized_data)\n",
    "\n",
    "std_df = pd.DataFrame(standardized_data, columns=df_1.columns)\n",
    "std_df\n",
    "#print(standardized_df)"
   ]
  },
  {
   "cell_type": "code",
   "execution_count": 6,
   "id": "5ecffa31",
   "metadata": {},
   "outputs": [
    {
     "data": {
      "text/plain": [
       "-0.770609    357\n",
       " 1.297676    212\n",
       "Name: diagnosis_M, dtype: int64"
      ]
     },
     "execution_count": 6,
     "metadata": {},
     "output_type": "execute_result"
    }
   ],
   "source": [
    "std_df['diagnosis_M'].value_counts()"
   ]
  },
  {
   "cell_type": "code",
   "execution_count": 7,
   "id": "e933c40c",
   "metadata": {},
   "outputs": [],
   "source": [
    "new_data = std_df\n",
    "new_data.head()\n",
    "\n",
    "X = new_data.drop(['id', 'diagnosis_B', 'diagnosis_M'], axis=1)\n",
    "y = df_1['diagnosis_M']\n",
    "\n",
    "#y"
   ]
  },
  {
   "cell_type": "markdown",
   "id": "3d64cf40",
   "metadata": {},
   "source": [
    "# Euclidean Distance"
   ]
  },
  {
   "cell_type": "code",
   "execution_count": 8,
   "id": "8e991e4d",
   "metadata": {},
   "outputs": [],
   "source": [
    "from sklearn.metrics import classification_report,confusion_matrix,accuracy_score,plot_confusion_matrix\n",
    "from sklearn.neighbors import KNeighborsClassifier\n",
    "\n",
    "knn_model = KNeighborsClassifier()\n",
    "typeii_error= []\n",
    "typei_error = []\n",
    "\n",
    "# p=2 is equivalent to euclidian distance\n",
    "for k in range(1,11):\n",
    "    knn_model = KNeighborsClassifier(algorithm='auto', \n",
    "                            leaf_size=30, \n",
    "                            metric='euclidean',        \n",
    "                            metric_params=None, \n",
    "                            n_jobs=1, \n",
    "                            n_neighbors=k, \n",
    "                            weights='uniform')\n",
    "    knn_model.fit(X,y) \n",
    "    \n",
    "    y_pred = knn_model.predict(X)\n",
    "    cm = confusion_matrix(y, y_pred)\n",
    "    \n",
    "    TN = cm[0][0]\n",
    "    FN = cm[1][0]\n",
    "    TP = cm[1][1]\n",
    "    FP = cm[0][1]\n",
    "    \n",
    "    ## type ii error\n",
    "    typeii = FN/(TP+FP+FN+TN)\n",
    "    typeii_error.append(typeii)\n",
    "    \n",
    "    ## type i error \n",
    "    typei = FP/(TP+FP+FN+TN)\n",
    "    typei_error.append(typei)\n",
    "    \n",
    "    #test_error = 1 - accuracy_score(y,y_pred)\n",
    "    #test_error_rates.append(test_error)\n",
    "#test_error_rates\n",
    "\n"
   ]
  },
  {
   "cell_type": "code",
   "execution_count": 11,
   "id": "ff11722e",
   "metadata": {},
   "outputs": [
    {
     "data": {
      "text/plain": [
       "Text(0.5, 0, 'K Value')"
      ]
     },
     "execution_count": 11,
     "metadata": {},
     "output_type": "execute_result"
    },
    {
     "data": {
      "image/png": "[encoded data removed]",
      "text/plain": [
       "<Figure size 600x400 with 1 Axes>"
      ]
     },
     "metadata": {
      "needs_background": "light"
     },
     "output_type": "display_data"
    }
   ],
   "source": [
    "plt.figure(figsize=(6,4),dpi=100)\n",
    "plt.plot(range(1,11),typei_error,label='Typr I Error')\n",
    "plt.legend()\n",
    "plt.ylabel('Typr I Error')\n",
    "plt.xlabel(\"K Value\")\n",
    "\n",
    "#best k-value= 2 or 4, the least type I error"
   ]
  },
  {
   "cell_type": "code",
   "execution_count": 13,
   "id": "8a33ec59",
   "metadata": {},
   "outputs": [
    {
     "data": {
      "text/plain": [
       "Text(0.5, 0, 'K Value')"
      ]
     },
     "execution_count": 13,
     "metadata": {},
     "output_type": "execute_result"
    },
    {
     "data": {
      "image/png": "[encoded data removed]",
      "text/plain": [
       "<Figure size 600x400 with 1 Axes>"
      ]
     },
     "metadata": {
      "needs_background": "light"
     },
     "output_type": "display_data"
    }
   ],
   "source": [
    "plt.figure(figsize=(6,4),dpi=100)\n",
    "plt.plot(range(1,11),typeii_error,label='Typr II Error')\n",
    "plt.legend()\n",
    "plt.ylabel('Typr II Error')\n",
    "plt.xlabel(\"K Value\")\n",
    "\n",
    "#best k-value= 3, the least type II error"
   ]
  },
  {
   "cell_type": "markdown",
   "id": "37a1f457",
   "metadata": {},
   "source": [
    "### Using Cross Validation (10-fold) to find optimal k-value"
   ]
  },
  {
   "cell_type": "code",
   "execution_count": 14,
   "id": "bd08e71f",
   "metadata": {},
   "outputs": [],
   "source": [
    "from sklearn.model_selection import cross_val_score\n",
    "import matplotlib.pyplot as plt \n",
    "%matplotlib inline"
   ]
  },
  {
   "cell_type": "code",
   "execution_count": 15,
   "id": "174bff85",
   "metadata": {},
   "outputs": [
    {
     "data": {
      "image/png": "[encoded data removed]",
      "text/plain": [
       "<Figure size 432x288 with 1 Axes>"
      ]
     },
     "metadata": {
      "needs_background": "light"
     },
     "output_type": "display_data"
    }
   ],
   "source": [
    "# find the best k-value with cross validation\n",
    "k_range = range(1, 12)\n",
    "k_scores = []\n",
    "# use iteration to caclulator different k in models, then return the average accuracy based on the cross validation\n",
    "for k in k_range:\n",
    "    knn = KNeighborsClassifier(algorithm='auto', \n",
    "                            leaf_size=30, \n",
    "                            metric='euclidean',         \n",
    "                            metric_params=None, \n",
    "                            n_jobs=1, \n",
    "                            n_neighbors=k, \n",
    "                            weights='uniform')\n",
    "    scores = cross_val_score(knn, X, y, cv=10, scoring='accuracy')\n",
    "    k_scores.append(scores.mean())\n",
    "# plot to see clearly\n",
    "plt.plot(k_range, k_scores)\n",
    "plt.xlabel('Value of K for KNN')\n",
    "plt.ylabel('Cross-Validated Accuracy')\n",
    "plt.show()\n",
    "\n",
    "# k-value: 3,7,9"
   ]
  },
  {
   "cell_type": "code",
   "execution_count": 16,
   "id": "b40211d5",
   "metadata": {},
   "outputs": [
    {
     "data": {
      "image/png": "[encoded data removed]",
      "text/plain": [
       "<Figure size 432x288 with 1 Axes>"
      ]
     },
     "metadata": {
      "needs_background": "light"
     },
     "output_type": "display_data"
    }
   ],
   "source": [
    "import matplotlib.pyplot as plt\n",
    "k_range = range(1, 12)\n",
    "k_scores = []\n",
    "for k in k_range:\n",
    "    knn = KNeighborsClassifier(algorithm='auto', \n",
    "                            leaf_size=30, \n",
    "                            metric='euclidean',         \n",
    "                            metric_params=None, \n",
    "                            n_jobs=1, \n",
    "                            n_neighbors=k, \n",
    "                            weights='uniform')\n",
    "    loss = abs(cross_val_score(knn, X, y, cv=10, scoring='neg_mean_squared_error'))\n",
    "    k_scores.append(loss.mean())\n",
    "plt.plot(k_range, k_scores)\n",
    "plt.xlabel('Value of K for KNN')\n",
    "plt.ylabel('Cross-Validated MSE')\n",
    "plt.show()\n",
    "\n",
    "#k-value: 7,9"
   ]
  },
  {
   "cell_type": "markdown",
   "id": "6b0073d7",
   "metadata": {},
   "source": [
    "## KNN Final Model with Euclidean Distance & Cross Validation"
   ]
  },
  {
   "cell_type": "markdown",
   "id": "4aacce26",
   "metadata": {},
   "source": [
    "### k=3"
   ]
  },
  {
   "cell_type": "code",
   "execution_count": 20,
   "id": "71d5d995",
   "metadata": {},
   "outputs": [
    {
     "name": "stdout",
     "output_type": "stream",
     "text": [
      "[[356   1]\n",
      " [ 10 202]]\n",
      "Type I Error: 0.0018\n",
      "Type II Error: 0.0176\n",
      "Expexted Cost: 1.7592\n",
      "Cross Validation Mean Accuracy: 0.9648\n"
     ]
    }
   ],
   "source": [
    "## Basic Model\n",
    "knn_model = KNeighborsClassifier(algorithm='auto', \n",
    "                            leaf_size=30, \n",
    "                            metric='euclidean',       \n",
    "                            metric_params=None, \n",
    "                            n_jobs=1, \n",
    "                            n_neighbors=3, \n",
    "                            weights='uniform')\n",
    "knn_model.fit(X,y) \n",
    "y_pred = knn_model.predict(X)\n",
    "scores = cross_val_score(knn_model, X, y, cv=10, scoring='accuracy')\n",
    "cm = confusion_matrix(y, y_pred)\n",
    "    \n",
    "TN = cm[0][0]\n",
    "FN = cm[1][0]\n",
    "TP = cm[1][1]\n",
    "FP = cm[0][1]\n",
    "    \n",
    "## type ii error\n",
    "typeii = FN/(TP+FP+FN+TN)\n",
    "typeii_error.append(typeii)\n",
    "    \n",
    "## type i error \n",
    "typei = FP/(TP+FP+FN+TN)\n",
    "typei_error.append(typei)\n",
    "\n",
    "#Expected cost\n",
    "cost_i = typei *1\n",
    "cost_ii = typeii*100\n",
    "exp_cost = cost_i + cost_ii\n",
    "\n",
    "print (confusion_matrix(y, y_pred))\n",
    "print ('Type I Error: %.4f' %typei)\n",
    "print ('Type II Error: %.4f' %typeii)\n",
    "print ('Expexted Cost: %.4f' %exp_cost)\n",
    "print ('Cross Validation Mean Accuracy: %.4f' %scores.mean())\n"
   ]
  },
  {
   "cell_type": "code",
   "execution_count": 21,
   "id": "307adb8f",
   "metadata": {},
   "outputs": [],
   "source": [
    "from sklearn.feature_selection import SequentialFeatureSelector\n",
    "from sklearn.neighbors import KNeighborsClassifier\n",
    "from sklearn.datasets import load_iris\n",
    "from sklearn.feature_extraction.text import TfidfVectorizer\n",
    "from mlxtend.feature_selection import SequentialFeatureSelector as SFS"
   ]
  },
  {
   "cell_type": "code",
   "execution_count": 22,
   "id": "68be803b",
   "metadata": {},
   "outputs": [
    {
     "name": "stderr",
     "output_type": "stream",
     "text": [
      "[Parallel(n_jobs=1)]: Using backend SequentialBackend with 1 concurrent workers.\n",
      "[Parallel(n_jobs=1)]: Done   1 out of   1 | elapsed:    0.0s remaining:    0.0s\n",
      "[Parallel(n_jobs=1)]: Done  30 out of  30 | elapsed:    0.5s finished\n",
      "\n",
      "[2022-12-01 01:18:54] Features: 1/5 -- score: 0.9121867167919799[Parallel(n_jobs=1)]: Using backend SequentialBackend with 1 concurrent workers.\n",
      "[Parallel(n_jobs=1)]: Done   1 out of   1 | elapsed:    0.0s remaining:    0.0s\n",
      "[Parallel(n_jobs=1)]: Done  29 out of  29 | elapsed:    0.5s finished\n",
      "\n",
      "[2022-12-01 01:18:54] Features: 2/5 -- score: 0.9472431077694236[Parallel(n_jobs=1)]: Using backend SequentialBackend with 1 concurrent workers.\n",
      "[Parallel(n_jobs=1)]: Done   1 out of   1 | elapsed:    0.0s remaining:    0.0s\n",
      "[Parallel(n_jobs=1)]: Done  28 out of  28 | elapsed:    0.5s finished\n",
      "\n",
      "[2022-12-01 01:18:55] Features: 3/5 -- score: 0.9594924812030076[Parallel(n_jobs=1)]: Using backend SequentialBackend with 1 concurrent workers.\n",
      "[Parallel(n_jobs=1)]: Done   1 out of   1 | elapsed:    0.0s remaining:    0.0s\n",
      "[Parallel(n_jobs=1)]: Done  27 out of  27 | elapsed:    0.5s finished\n",
      "\n",
      "[2022-12-01 01:18:55] Features: 4/5 -- score: 0.963032581453634[Parallel(n_jobs=1)]: Using backend SequentialBackend with 1 concurrent workers.\n",
      "[Parallel(n_jobs=1)]: Done   1 out of   1 | elapsed:    0.0s remaining:    0.0s\n",
      "[Parallel(n_jobs=1)]: Done  26 out of  26 | elapsed:    0.5s finished\n",
      "\n",
      "[2022-12-01 01:18:56] Features: 5/5 -- score: 0.9665413533834586"
     ]
    }
   ],
   "source": [
    "# feature selection after building the basic model\n",
    "#knn = KNeighborsClassifier(n_neighbors=3)\n",
    "sfs1 = SFS(knn, \n",
    "           k_features=5, \n",
    "           forward=True, \n",
    "           floating=False, \n",
    "           verbose=2,\n",
    "           scoring='accuracy',\n",
    "           cv=10)\n",
    "\n",
    "sfs1 = sfs1.fit(X, y)\n",
    "\n",
    "#sfs = SequentialFeatureSelector(knn, n_features_to_select= 3)\n",
    "#sfs.fit(X, y)\n",
    "\n",
    "#sfs.get_support()\n",
    "#sfs.transform(X).shape\n",
    "#get_feature_names()\n",
    "#k_feratures_names_\n",
    "#X"
   ]
  },
  {
   "cell_type": "code",
   "execution_count": 24,
   "id": "2dacb899",
   "metadata": {},
   "outputs": [
    {
     "name": "stdout",
     "output_type": "stream",
     "text": [
      "['texture_mean', 'area_se', 'perimeter_worst', 'area_worst', 'smoothness_worst']\n"
     ]
    }
   ],
   "source": [
    "#sfs1.subsets_\n",
    "feat_names = list(sfs1.k_feature_names_)\n",
    "print(feat_names)"
   ]
  },
  {
   "cell_type": "code",
   "execution_count": 25,
   "id": "c9fe6dbe",
   "metadata": {},
   "outputs": [
    {
     "name": "stderr",
     "output_type": "stream",
     "text": [
      "/var/folders/m9/98nfckqx6kbcgsd7xvv296vh0000gn/T/ipykernel_1310/610057710.py:4: SettingWithCopyWarning: \n",
      "A value is trying to be set on a copy of a slice from a DataFrame.\n",
      "Try using .loc[row_indexer,col_indexer] = value instead\n",
      "\n",
      "See the caveats in the documentation: https://pandas.pydata.org/pandas-docs/stable/user_guide/indexing.html#returning-a-view-versus-a-copy\n",
      "  new_data['diagnosis_M'] = df_1['diagnosis_M']\n"
     ]
    },
    {
     "data": {
      "text/plain": [
       "<AxesSubplot:>"
      ]
     },
     "execution_count": 25,
     "metadata": {},
     "output_type": "execute_result"
    },
    {
     "data": {
      "image/png": "[encoded data removed]",
      "text/plain": [
       "<Figure size 750x450 with 2 Axes>"
      ]
     },
     "metadata": {
      "needs_background": "light"
     },
     "output_type": "display_data"
    }
   ],
   "source": [
    "import seaborn as sns\n",
    "\n",
    "new_data = std_df[feat_names]\n",
    "new_data['diagnosis_M'] = df_1['diagnosis_M']\n",
    "new_data.head()\n",
    "\n",
    "X = new_data.drop(['diagnosis_M'], axis=1)\n",
    "y = new_data['diagnosis_M']\n",
    "\n",
    "#new_data.shape\n",
    "\n",
    "plt.figure(figsize=(5,3), dpi=150)\n",
    "sns.heatmap(new_data.corr(), annot=True)\n",
    "\n",
    "#diagnosis_M & concave points_worst: 0.79\n",
    "#diagnosis_M & radius_worst: 0.78"
   ]
  },
  {
   "cell_type": "code",
   "execution_count": 26,
   "id": "62329624",
   "metadata": {},
   "outputs": [
    {
     "name": "stdout",
     "output_type": "stream",
     "text": [
      "[[355   2]\n",
      " [  8 204]]\n",
      "Type I Error: 0.0035\n",
      "Type II Error: 0.0141\n",
      "Expexted Cost: 1.4095\n",
      "Mean Cross Validation Accuracy: 0.9665\n"
     ]
    }
   ],
   "source": [
    "## Re-run the model using other dataset after removing unrelated attributes\n",
    "knn_model = KNeighborsClassifier(algorithm='auto', \n",
    "                            leaf_size=30, \n",
    "                            metric='euclidean',       \n",
    "                            metric_params=None, \n",
    "                            n_jobs=1, \n",
    "                            n_neighbors=3, \n",
    "                            weights='uniform')\n",
    "knn_model.fit(X,y) \n",
    "scores = cross_val_score(knn_model, X, y, cv=10, scoring='accuracy')\n",
    "y_pred = knn_model.predict(X)\n",
    "cm = confusion_matrix(y, y_pred)\n",
    "    \n",
    "TN = cm[0][0]\n",
    "FN = cm[1][0]\n",
    "TP = cm[1][1]\n",
    "FP = cm[0][1]\n",
    "    \n",
    "## type ii error\n",
    "typeii = FN/(TP+FP+FN+TN)\n",
    "typeii_error.append(typeii)\n",
    "    \n",
    "## type i error \n",
    "typei = FP/(TP+FP+FN+TN)\n",
    "typei_error.append(typei)\n",
    "\n",
    "#Expected cost\n",
    "cost_i = typei *1\n",
    "cost_ii = typeii*100\n",
    "exp_cost = cost_i + cost_ii\n",
    "\n",
    "print (confusion_matrix(y, y_pred))\n",
    "print ('Type I Error: %.4f' %typei)\n",
    "print ('Type II Error: %.4f' %typeii)\n",
    "print ('Expexted Cost: %.4f' %exp_cost)\n",
    "print ('Mean Cross Validation Accuracy: %.4f' %scores.mean())"
   ]
  },
  {
   "cell_type": "markdown",
   "id": "ffee3f1e",
   "metadata": {},
   "source": [
    "# Result: \n",
    "### After conduct feature selection (remain 5 attributes), the type II error has declined to 0.0228, previous 0.0246\n"
   ]
  },
  {
   "cell_type": "markdown",
   "id": "28a7388e",
   "metadata": {},
   "source": [
    "## Resample the data in order to handel class imbalance problem "
   ]
  },
  {
   "cell_type": "code",
   "execution_count": 27,
   "id": "1bc5d94b",
   "metadata": {},
   "outputs": [
    {
     "data": {
      "text/plain": [
       "<AxesSubplot:xlabel='diagnosis_M', ylabel='count'>"
      ]
     },
     "execution_count": 27,
     "metadata": {},
     "output_type": "execute_result"
    },
    {
     "data": {
      "image/png": "[encoded data removed]",
      "text/plain": [
       "<Figure size 432x288 with 1 Axes>"
      ]
     },
     "metadata": {
      "needs_background": "light"
     },
     "output_type": "display_data"
    }
   ],
   "source": [
    "import seaborn as sns\n",
    "\n",
    "sns.countplot(data=df_1, x='diagnosis_M')\n",
    "#M: 357  B:212"
   ]
  },
  {
   "cell_type": "code",
   "execution_count": 28,
   "id": "a410445e",
   "metadata": {},
   "outputs": [],
   "source": [
    "from sklearn.utils import resample"
   ]
  },
  {
   "cell_type": "code",
   "execution_count": 29,
   "id": "c7db5cf2",
   "metadata": {},
   "outputs": [
    {
     "name": "stdout",
     "output_type": "stream",
     "text": [
      "B:  357\n",
      "M:  212\n"
     ]
    },
    {
     "data": {
      "image/png": "[encoded data removed]",
      "text/plain": [
       "<Figure size 432x288 with 1 Axes>"
      ]
     },
     "metadata": {
      "needs_background": "light"
     },
     "output_type": "display_data"
    }
   ],
   "source": [
    "target_count = new_data.diagnosis_M.value_counts()\n",
    "print('B: ', target_count[0])\n",
    "print('M: ', target_count[1])\n",
    "\n",
    "target_count.plot(kind='bar');"
   ]
  },
  {
   "cell_type": "markdown",
   "id": "f7a0de2b",
   "metadata": {},
   "source": [
    "### Under-sampling"
   ]
  },
  {
   "cell_type": "code",
   "execution_count": 30,
   "id": "b4396144",
   "metadata": {},
   "outputs": [
    {
     "name": "stdout",
     "output_type": "stream",
     "text": [
      "Undersampling: \n",
      "0    212\n",
      "1    212\n",
      "Name: diagnosis_M, dtype: int64\n"
     ]
    },
    {
     "data": {
      "image/png": "[encoded data removed]",
      "text/plain": [
       "<Figure size 432x288 with 1 Axes>"
      ]
     },
     "metadata": {
      "needs_background": "light"
     },
     "output_type": "display_data"
    }
   ],
   "source": [
    "count_class_0, count_class_1 = new_data.diagnosis_M.value_counts()\n",
    "\n",
    "# Divide by class\n",
    "class_0 = new_data[new_data['diagnosis_M'] == 0]\n",
    "class_1 = new_data[new_data['diagnosis_M'] == 1]\n",
    "\n",
    "df_class_0_under = class_0.sample(count_class_1)\n",
    "df_test_under = pd.concat([df_class_0_under, class_1], axis=0)\n",
    "\n",
    "print('Undersampling: ')\n",
    "print(df_test_under.diagnosis_M.value_counts())\n",
    "\n",
    "df_test_under.diagnosis_M.value_counts().plot(kind='bar');"
   ]
  },
  {
   "cell_type": "code",
   "execution_count": 31,
   "id": "ba1f16e8",
   "metadata": {},
   "outputs": [
    {
     "data": {
      "text/html": [
       "<div>\n",
       "<style scoped>\n",
       "    .dataframe tbody tr th:only-of-type {\n",
       "        vertical-align: middle;\n",
       "    }\n",
       "\n",
       "    .dataframe tbody tr th {\n",
       "        vertical-align: top;\n",
       "    }\n",
       "\n",
       "    .dataframe thead th {\n",
       "        text-align: right;\n",
       "    }\n",
       "</style>\n",
       "<table border=\"1\" class=\"dataframe\">\n",
       "  <thead>\n",
       "    <tr style=\"text-align: right;\">\n",
       "      <th></th>\n",
       "      <th>texture_mean</th>\n",
       "      <th>area_se</th>\n",
       "      <th>perimeter_worst</th>\n",
       "      <th>area_worst</th>\n",
       "      <th>smoothness_worst</th>\n",
       "      <th>diagnosis_M</th>\n",
       "    </tr>\n",
       "  </thead>\n",
       "  <tbody>\n",
       "    <tr>\n",
       "      <th>106</th>\n",
       "      <td>-0.223317</td>\n",
       "      <td>-0.433809</td>\n",
       "      <td>-0.647878</td>\n",
       "      <td>-0.630885</td>\n",
       "      <td>1.597003</td>\n",
       "      <td>0</td>\n",
       "    </tr>\n",
       "    <tr>\n",
       "      <th>491</th>\n",
       "      <td>-1.410121</td>\n",
       "      <td>0.233502</td>\n",
       "      <td>0.590915</td>\n",
       "      <td>0.579086</td>\n",
       "      <td>-1.479400</td>\n",
       "      <td>0</td>\n",
       "    </tr>\n",
       "    <tr>\n",
       "      <th>153</th>\n",
       "      <td>-1.445027</td>\n",
       "      <td>-0.546898</td>\n",
       "      <td>-0.923695</td>\n",
       "      <td>-0.773100</td>\n",
       "      <td>0.075898</td>\n",
       "      <td>0</td>\n",
       "    </tr>\n",
       "    <tr>\n",
       "      <th>281</th>\n",
       "      <td>-1.226283</td>\n",
       "      <td>-0.055160</td>\n",
       "      <td>-0.672005</td>\n",
       "      <td>-0.609790</td>\n",
       "      <td>-1.261097</td>\n",
       "      <td>0</td>\n",
       "    </tr>\n",
       "    <tr>\n",
       "      <th>402</th>\n",
       "      <td>-0.232625</td>\n",
       "      <td>-0.442830</td>\n",
       "      <td>-0.326191</td>\n",
       "      <td>-0.454742</td>\n",
       "      <td>-1.713045</td>\n",
       "      <td>0</td>\n",
       "    </tr>\n",
       "    <tr>\n",
       "      <th>...</th>\n",
       "      <td>...</td>\n",
       "      <td>...</td>\n",
       "      <td>...</td>\n",
       "      <td>...</td>\n",
       "      <td>...</td>\n",
       "      <td>...</td>\n",
       "    </tr>\n",
       "    <tr>\n",
       "      <th>563</th>\n",
       "      <td>1.349781</td>\n",
       "      <td>1.726318</td>\n",
       "      <td>2.139779</td>\n",
       "      <td>1.649655</td>\n",
       "      <td>0.365215</td>\n",
       "      <td>1</td>\n",
       "    </tr>\n",
       "    <tr>\n",
       "      <th>564</th>\n",
       "      <td>0.721473</td>\n",
       "      <td>2.604187</td>\n",
       "      <td>1.752563</td>\n",
       "      <td>2.015301</td>\n",
       "      <td>0.378365</td>\n",
       "      <td>1</td>\n",
       "    </tr>\n",
       "    <tr>\n",
       "      <th>565</th>\n",
       "      <td>2.085134</td>\n",
       "      <td>1.291565</td>\n",
       "      <td>1.421940</td>\n",
       "      <td>1.494959</td>\n",
       "      <td>-0.691230</td>\n",
       "      <td>1</td>\n",
       "    </tr>\n",
       "    <tr>\n",
       "      <th>566</th>\n",
       "      <td>2.045574</td>\n",
       "      <td>0.180698</td>\n",
       "      <td>0.579001</td>\n",
       "      <td>0.427906</td>\n",
       "      <td>-0.809587</td>\n",
       "      <td>1</td>\n",
       "    </tr>\n",
       "    <tr>\n",
       "      <th>567</th>\n",
       "      <td>2.336457</td>\n",
       "      <td>1.009503</td>\n",
       "      <td>2.303601</td>\n",
       "      <td>1.653171</td>\n",
       "      <td>1.430427</td>\n",
       "      <td>1</td>\n",
       "    </tr>\n",
       "  </tbody>\n",
       "</table>\n",
       "<p>424 rows × 6 columns</p>\n",
       "</div>"
      ],
      "text/plain": [
       "     texture_mean   area_se  perimeter_worst  area_worst  smoothness_worst  \\\n",
       "106     -0.223317 -0.433809        -0.647878   -0.630885          1.597003   \n",
       "491     -1.410121  0.233502         0.590915    0.579086         -1.479400   \n",
       "153     -1.445027 -0.546898        -0.923695   -0.773100          0.075898   \n",
       "281     -1.226283 -0.055160        -0.672005   -0.609790         -1.261097   \n",
       "402     -0.232625 -0.442830        -0.326191   -0.454742         -1.713045   \n",
       "..            ...       ...              ...         ...               ...   \n",
       "563      1.349781  1.726318         2.139779    1.649655          0.365215   \n",
       "564      0.721473  2.604187         1.752563    2.015301          0.378365   \n",
       "565      2.085134  1.291565         1.421940    1.494959         -0.691230   \n",
       "566      2.045574  0.180698         0.579001    0.427906         -0.809587   \n",
       "567      2.336457  1.009503         2.303601    1.653171          1.430427   \n",
       "\n",
       "     diagnosis_M  \n",
       "106            0  \n",
       "491            0  \n",
       "153            0  \n",
       "281            0  \n",
       "402            0  \n",
       "..           ...  \n",
       "563            1  \n",
       "564            1  \n",
       "565            1  \n",
       "566            1  \n",
       "567            1  \n",
       "\n",
       "[424 rows x 6 columns]"
      ]
     },
     "execution_count": 31,
     "metadata": {},
     "output_type": "execute_result"
    }
   ],
   "source": [
    "df_test_under"
   ]
  },
  {
   "cell_type": "code",
   "execution_count": 32,
   "id": "1275c56f",
   "metadata": {},
   "outputs": [],
   "source": [
    "X = df_test_under.drop(['diagnosis_M'], axis=1)\n",
    "y = df_test_under['diagnosis_M']"
   ]
  },
  {
   "cell_type": "markdown",
   "id": "fa901f86",
   "metadata": {},
   "source": [
    "### under-sampling with euclidean distance & k=3 "
   ]
  },
  {
   "cell_type": "code",
   "execution_count": 40,
   "id": "eaf05fbc",
   "metadata": {},
   "outputs": [
    {
     "name": "stdout",
     "output_type": "stream",
     "text": [
      "[[211   1]\n",
      " [  6 206]]\n",
      "Type I Error: 0.0024\n",
      "Type II Error: 0.0142\n"
     ]
    }
   ],
   "source": [
    "X = df_test_under.drop(['diagnosis_M'], axis=1)\n",
    "y = df_test_under['diagnosis_M']\n",
    "\n",
    "knn_model = KNeighborsClassifier(algorithm='auto', \n",
    "                            leaf_size=30, \n",
    "                            metric='euclidean',       \n",
    "                            metric_params=None, \n",
    "                            n_jobs=1, \n",
    "                            n_neighbors=3, \n",
    "                            weights='uniform')\n",
    "knn_model.fit(X,y) \n",
    "y_pred = knn_model.predict(X)\n",
    "cm = confusion_matrix(y, y_pred)\n",
    "    \n",
    "TN = cm[0][0]\n",
    "FN = cm[1][0]\n",
    "TP = cm[1][1]\n",
    "FP = cm[0][1]\n",
    "    \n",
    "## type ii error\n",
    "typeii = FN/(TP+FP+FN+TN)\n",
    "typeii_error.append(typeii)\n",
    "    \n",
    "## type i error \n",
    "typei = FP/(TP+FP+FN+TN)\n",
    "typei_error.append(typei)\n",
    "#Expected cost\n",
    "#cost_i = typei *1\n",
    "#cost_ii = typeii*100\n",
    "#exp_cost = cost_i + cost_ii\n",
    "\n",
    "print (confusion_matrix(y, y_pred))\n",
    "print ('Type I Error: %.4f' %typei)\n",
    "print ('Type II Error: %.4f' %typeii)\n",
    "#print ('Expexted Cost: %.4f' %exp_cost)"
   ]
  },
  {
   "cell_type": "markdown",
   "id": "6ebb5bb0",
   "metadata": {},
   "source": [
    "### Over-sampling"
   ]
  },
  {
   "cell_type": "code",
   "execution_count": 34,
   "id": "2ebaaf91",
   "metadata": {},
   "outputs": [
    {
     "name": "stdout",
     "output_type": "stream",
     "text": [
      "Random over-sampling:\n",
      "0    357\n",
      "1    357\n",
      "Name: diagnosis_M, dtype: int64\n"
     ]
    },
    {
     "data": {
      "image/png": "[encoded data removed]",
      "text/plain": [
       "<Figure size 432x288 with 1 Axes>"
      ]
     },
     "metadata": {
      "needs_background": "light"
     },
     "output_type": "display_data"
    }
   ],
   "source": [
    "df_class_1_over = class_1.sample(count_class_0, replace=True)\n",
    "df_test_over = pd.concat([class_0, df_class_1_over], axis=0)\n",
    "\n",
    "print('Random over-sampling:')\n",
    "print(df_test_over.diagnosis_M.value_counts())\n",
    "\n",
    "df_test_over.diagnosis_M.value_counts().plot(kind='bar');"
   ]
  },
  {
   "cell_type": "code",
   "execution_count": 35,
   "id": "b9721084",
   "metadata": {},
   "outputs": [
    {
     "data": {
      "text/plain": [
       "((714, 6), (424, 6), (569, 6))"
      ]
     },
     "execution_count": 35,
     "metadata": {},
     "output_type": "execute_result"
    }
   ],
   "source": [
    "df_test_over.shape, df_test_under.shape, new_data.shape"
   ]
  },
  {
   "cell_type": "code",
   "execution_count": 36,
   "id": "4ff69c60",
   "metadata": {},
   "outputs": [],
   "source": [
    "X = df_test_over.drop(['diagnosis_M'], axis=1)\n",
    "y = df_test_over['diagnosis_M']"
   ]
  },
  {
   "cell_type": "markdown",
   "id": "7d28ec00",
   "metadata": {},
   "source": [
    "### over-sampling with eucildean distance & k=3\n",
    "#### over-sampleing performs better than under-sampleing. Also, the type i and ii errors have decreased. "
   ]
  },
  {
   "cell_type": "code",
   "execution_count": 39,
   "id": "cb0f1b29",
   "metadata": {},
   "outputs": [
    {
     "name": "stdout",
     "output_type": "stream",
     "text": [
      "[[350   7]\n",
      " [  3 354]]\n",
      "Type I Error: 0.0098\n",
      "Type II Error: 0.0042\n"
     ]
    }
   ],
   "source": [
    "X = df_test_over.drop(['diagnosis_M'], axis=1)\n",
    "y = df_test_over['diagnosis_M']\n",
    "\n",
    "knn_model = KNeighborsClassifier(algorithm='auto', \n",
    "                            leaf_size=30, \n",
    "                            metric='euclidean',       \n",
    "                            metric_params=None, \n",
    "                            n_jobs=1, \n",
    "                            n_neighbors=3, \n",
    "                            weights='uniform')\n",
    "knn_model.fit(X,y) \n",
    "y_pred = knn_model.predict(X)\n",
    "cm = confusion_matrix(y, y_pred)\n",
    "    \n",
    "TN = cm[0][0]\n",
    "FN = cm[1][0]\n",
    "TP = cm[1][1]\n",
    "FP = cm[0][1]\n",
    "    \n",
    "## type ii error\n",
    "typeii = FN/(TP+FP+FN+TN)\n",
    "typeii_error.append(typeii)\n",
    "    \n",
    "## type i error \n",
    "typei = FP/(TP+FP+FN+TN)\n",
    "typei_error.append(typei)\n",
    "#Expected cost\n",
    "#cost_i = typei *1\n",
    "#cost_ii = typeii*100\n",
    "#exp_cost = cost_i + cost_ii\n",
    "\n",
    "print (confusion_matrix(y, y_pred))\n",
    "print ('Type I Error: %.4f' %typei)\n",
    "print ('Type II Error: %.4f' %typeii)\n",
    "#print ('Expexted Cost: %.4f' %exp_cost)"
   ]
  },
  {
   "cell_type": "markdown",
   "id": "fe22aa29",
   "metadata": {},
   "source": [
    "## Result: model with k=7, 5 attributes and process over-sampleing performs the best"
   ]
  },
  {
   "cell_type": "markdown",
   "id": "f56218f7",
   "metadata": {},
   "source": [
    "## Next Step:\n",
    "### Training Model with train Dataset then Test with test dataset"
   ]
  },
  {
   "cell_type": "code",
   "execution_count": 41,
   "id": "6c609931",
   "metadata": {},
   "outputs": [
    {
     "name": "stdout",
     "output_type": "stream",
     "text": [
      "(512, 33)\n",
      "(57, 33)\n"
     ]
    }
   ],
   "source": [
    "## input training & testing data\n",
    "train = pd.read_csv('/Users/weiwei/Desktop/UCI - MSBA/Fall/Machine Learning/Project/bc_data_90.csv')\n",
    "train_1 = pd.get_dummies(train)\n",
    "print(train_1.shape)\n",
    "\n",
    "test = pd.read_csv('/Users/weiwei/Desktop/UCI - MSBA/Fall/Machine Learning/Project/bc_test_data_10.csv')\n",
    "test_1 = pd.get_dummies(test)\n",
    "print(test_1.shape)"
   ]
  },
  {
   "cell_type": "code",
   "execution_count": 42,
   "id": "a59d3d8e",
   "metadata": {},
   "outputs": [
    {
     "name": "stderr",
     "output_type": "stream",
     "text": [
      "/var/folders/m9/98nfckqx6kbcgsd7xvv296vh0000gn/T/ipykernel_1310/31804026.py:2: SettingWithCopyWarning: \n",
      "A value is trying to be set on a copy of a slice from a DataFrame.\n",
      "Try using .loc[row_indexer,col_indexer] = value instead\n",
      "\n",
      "See the caveats in the documentation: https://pandas.pydata.org/pandas-docs/stable/user_guide/indexing.html#returning-a-view-versus-a-copy\n",
      "  train_data['diagnosis_M'] = train_1['diagnosis_M']\n",
      "/var/folders/m9/98nfckqx6kbcgsd7xvv296vh0000gn/T/ipykernel_1310/31804026.py:6: SettingWithCopyWarning: \n",
      "A value is trying to be set on a copy of a slice from a DataFrame.\n",
      "Try using .loc[row_indexer,col_indexer] = value instead\n",
      "\n",
      "See the caveats in the documentation: https://pandas.pydata.org/pandas-docs/stable/user_guide/indexing.html#returning-a-view-versus-a-copy\n",
      "  test_data['diagnosis_M'] = test_1['diagnosis_M']\n"
     ]
    }
   ],
   "source": [
    "train_data = train_1[feat_names]\n",
    "train_data['diagnosis_M'] = train_1['diagnosis_M']\n",
    "#train_data.head()\n",
    "\n",
    "test_data = test_1[feat_names]\n",
    "test_data['diagnosis_M'] = test_1['diagnosis_M']\n",
    "\n",
    "X_train = train_data.drop(['diagnosis_M'], axis=1)\n",
    "y_train = train_data['diagnosis_M']\n",
    "\n",
    "X_test = test_data.drop(['diagnosis_M'], axis=1)\n",
    "y_test = test_data['diagnosis_M']\n",
    "\n",
    "scaler = StandardScaler()\n",
    "X_train = scaler.fit_transform(X_train)\n",
    "X_test = scaler.transform(X_test)"
   ]
  },
  {
   "cell_type": "code",
   "execution_count": 43,
   "id": "878857c5",
   "metadata": {},
   "outputs": [
    {
     "data": {
      "text/plain": [
       "((512, 5), (57, 5), (512,), (57,))"
      ]
     },
     "execution_count": 43,
     "metadata": {},
     "output_type": "execute_result"
    }
   ],
   "source": [
    "X_train.shape, X_test.shape, y_train.shape, y_test.shape"
   ]
  },
  {
   "cell_type": "code",
   "execution_count": 44,
   "id": "f581ef0a",
   "metadata": {},
   "outputs": [
    {
     "name": "stdout",
     "output_type": "stream",
     "text": [
      "B:  319\n",
      "M:  193\n"
     ]
    },
    {
     "data": {
      "image/png": "[encoded data removed]",
      "text/plain": [
       "<Figure size 432x288 with 1 Axes>"
      ]
     },
     "metadata": {
      "needs_background": "light"
     },
     "output_type": "display_data"
    }
   ],
   "source": [
    "target_count = train_data.diagnosis_M.value_counts()\n",
    "print('B: ', target_count[0])\n",
    "print('M: ', target_count[1])\n",
    "\n",
    "target_count.plot(kind='bar');"
   ]
  },
  {
   "cell_type": "code",
   "execution_count": 45,
   "id": "83e4f4d2",
   "metadata": {},
   "outputs": [
    {
     "name": "stdout",
     "output_type": "stream",
     "text": [
      "Undersampling: \n",
      "0    319\n",
      "1    319\n",
      "Name: diagnosis_M, dtype: int64\n"
     ]
    },
    {
     "data": {
      "image/png": "[encoded data removed]",
      "text/plain": [
       "<Figure size 432x288 with 1 Axes>"
      ]
     },
     "metadata": {
      "needs_background": "light"
     },
     "output_type": "display_data"
    }
   ],
   "source": [
    "count_class_0, count_class_1 = train_data.diagnosis_M.value_counts()\n",
    "\n",
    "# Divide by class\n",
    "class_0 = train_data[train_data['diagnosis_M'] == 0]\n",
    "class_1 = train_data[train_data['diagnosis_M'] == 1]\n",
    "\n",
    "df_class_1_over = class_1.sample(count_class_0, replace=True)\n",
    "df_test_under = pd.concat([class_0, df_class_1_over], axis=0)\n",
    "\n",
    "print('Undersampling: ')\n",
    "print(df_test_under.diagnosis_M.value_counts())\n",
    "\n",
    "df_test_under.diagnosis_M.value_counts().plot(kind='bar');"
   ]
  },
  {
   "cell_type": "code",
   "execution_count": 46,
   "id": "22a32e8c",
   "metadata": {},
   "outputs": [],
   "source": [
    "X = df_test_over.drop(['diagnosis_M'], axis=1)\n",
    "y = df_test_over['diagnosis_M']"
   ]
  },
  {
   "cell_type": "code",
   "execution_count": 47,
   "id": "fda3c105",
   "metadata": {},
   "outputs": [
    {
     "name": "stdout",
     "output_type": "stream",
     "text": [
      "[[317   2]\n",
      " [  7 186]]\n",
      "Type I Error: 0.0039\n",
      "Type II Error: 0.0137\n",
      "Expexted Cost: 1.3711\n",
      "Mean Cross Validation Accuracy: 0.9610\n"
     ]
    }
   ],
   "source": [
    "## Re-run the model using other dataset after removing unrelated attributes\n",
    "from sklearn.neighbors import KNeighborsClassifier\n",
    "knn_model = KNeighborsClassifier(algorithm='auto', \n",
    "                            leaf_size=30, \n",
    "                            metric='euclidean',       \n",
    "                            metric_params=None, \n",
    "                            n_jobs=1, \n",
    "                            n_neighbors=3, \n",
    "                            weights='uniform')\n",
    "knn_model.fit(X_train,y_train) \n",
    "y_pred = knn_model.predict(X_train)\n",
    "\n",
    "cm = confusion_matrix(y_train, y_pred)\n",
    "    \n",
    "TN = cm[0][0]\n",
    "FN = cm[1][0]\n",
    "TP = cm[1][1]\n",
    "FP = cm[0][1]\n",
    "    \n",
    "## type ii error\n",
    "typeii = FN/(TP+FP+FN+TN)\n",
    "typeii_error.append(typeii)\n",
    "    \n",
    "## type i error \n",
    "typei = FP/(TP+FP+FN+TN)\n",
    "typei_error.append(typei)\n",
    "#Expected cost\n",
    "cost_i = typei *1\n",
    "cost_ii = typeii*100\n",
    "exp_cost = cost_i + cost_ii\n",
    "\n",
    "print (confusion_matrix(y_train, y_pred))\n",
    "print ('Type I Error: %.4f' %typei)\n",
    "print ('Type II Error: %.4f' %typeii)\n",
    "print ('Expexted Cost: %.4f' %exp_cost)\n",
    "\n",
    "scores = cross_val_score(knn_model, X_train, y_train, cv=10, scoring='accuracy')\n",
    "print ('Mean Cross Validation Accuracy: %.4f' %scores.mean())\n"
   ]
  },
  {
   "cell_type": "code",
   "execution_count": 49,
   "id": "0bbe01f7",
   "metadata": {},
   "outputs": [
    {
     "name": "stdout",
     "output_type": "stream",
     "text": [
      "[[38  0]\n",
      " [ 1 18]]\n",
      "Type I Error: 0.0000\n",
      "Type II Error: 0.0175\n",
      "Mean Cross Validation Accuracy: 0.9500\n",
      "Expexted Cost: 1.7544\n"
     ]
    }
   ],
   "source": [
    "## Re-run the model using test dataset\n",
    "knn_model = KNeighborsClassifier(algorithm='auto', \n",
    "                            leaf_size=30, \n",
    "                            metric='euclidean',       \n",
    "                            metric_params=None, \n",
    "                            n_jobs=1, \n",
    "                            n_neighbors=3, \n",
    "                            weights='uniform')\n",
    "knn_model.fit(X_test,y_test) \n",
    "y_pred = knn_model.predict(X_test)\n",
    "\n",
    "cm = confusion_matrix(y_test, y_pred)\n",
    "    \n",
    "TN = cm[0][0]\n",
    "FN = cm[1][0]\n",
    "TP = cm[1][1]\n",
    "FP = cm[0][1]\n",
    "    \n",
    "## type ii error\n",
    "typeii = FN/(TP+FP+FN+TN)\n",
    "typeii_error.append(typeii)\n",
    "    \n",
    "## type i error \n",
    "typei = FP/(TP+FP+FN+TN)\n",
    "typei_error.append(typei)\n",
    "\n",
    "#Expected cost\n",
    "cost_i = typei *1\n",
    "cost_ii = typeii*100\n",
    "exp_cost = cost_i + cost_ii\n",
    "\n",
    "print (confusion_matrix(y_test, y_pred))\n",
    "print ('Type I Error: %.4f' %typei)\n",
    "print ('Type II Error: %.4f' %typeii)\n",
    "\n",
    "scores = cross_val_score(knn_model, X_test, y_test, cv=10, scoring='accuracy')\n",
    "print ('Mean Cross Validation Accuracy: %.4f' %scores.mean())\n",
    "\n",
    "print ('Expexted Cost: %.4f' %exp_cost)"
   ]
  },
  {
   "cell_type": "markdown",
   "id": "f28ff3fc",
   "metadata": {},
   "source": [
    "# Manhattan Distance"
   ]
  },
  {
   "cell_type": "code",
   "execution_count": 50,
   "id": "3a3d83c4",
   "metadata": {},
   "outputs": [],
   "source": [
    "new_data = std_df\n",
    "new_data.head()\n",
    "\n",
    "X = new_data.drop(['id', 'diagnosis_B', 'diagnosis_M'], axis=1)\n",
    "y = df_1['diagnosis_M']"
   ]
  },
  {
   "cell_type": "code",
   "execution_count": 51,
   "id": "af08841f",
   "metadata": {},
   "outputs": [],
   "source": [
    "from sklearn.metrics import classification_report,confusion_matrix,accuracy_score,plot_confusion_matrix, precision_score, recall_score\n",
    "\n",
    "knn_model = KNeighborsClassifier()\n",
    "#test_error_rates = []\n",
    "typei_error =[ ]\n",
    "typeii_error =[ ]\n",
    "\n",
    "# p=1 is equivalent to manhattan distance\n",
    "for k in range(1,12):\n",
    "    knn_model = KNeighborsClassifier(algorithm='auto', \n",
    "                            leaf_size=30, \n",
    "                            metric='manhattan',       \n",
    "                            metric_params=None, \n",
    "                            n_jobs=1, \n",
    "                            n_neighbors=k, \n",
    "                            weights='uniform')\n",
    "    knn_model.fit(X,y) \n",
    "    \n",
    "    y_pred = knn_model.predict(X)\n",
    "    cm = confusion_matrix(y, y_pred)\n",
    "    \n",
    "    TN = cm[0][0]\n",
    "    FN = cm[1][0]\n",
    "    TP = cm[1][1]\n",
    "    FP = cm[0][1]\n",
    "    \n",
    "    ## type ii error\n",
    "    typeii = FN/(TP+FP+FN+TN)\n",
    "    typeii_error.append(typeii)\n",
    "    \n",
    "    ## type i error \n",
    "    typei = FP/(TP+FP+FN+TN)\n",
    "    typei_error.append(typei)\n",
    "    \n",
    "    #test_error = 1 - accuracy_score(y,y_pred)\n",
    "    #test_error_rates.append(test_error)\n",
    "#test_error_rates\n",
    "\n"
   ]
  },
  {
   "cell_type": "code",
   "execution_count": 52,
   "id": "990dfef7",
   "metadata": {},
   "outputs": [
    {
     "data": {
      "text/plain": [
       "Text(0.5, 0, 'K Value')"
      ]
     },
     "execution_count": 52,
     "metadata": {},
     "output_type": "execute_result"
    },
    {
     "data": {
      "image/png": "[encoded data removed]",
      "text/plain": [
       "<Figure size 600x400 with 1 Axes>"
      ]
     },
     "metadata": {
      "needs_background": "light"
     },
     "output_type": "display_data"
    }
   ],
   "source": [
    "plt.figure(figsize=(6,4),dpi=100)\n",
    "plt.plot(range(1,12),typei_error,label='Typr I Error')\n",
    "plt.legend()\n",
    "plt.ylabel('Typr I Error')\n",
    "plt.xlabel(\"K Value\")"
   ]
  },
  {
   "cell_type": "code",
   "execution_count": 53,
   "id": "db6d6b7f",
   "metadata": {},
   "outputs": [
    {
     "data": {
      "text/plain": [
       "Text(0.5, 0, 'K Value')"
      ]
     },
     "execution_count": 53,
     "metadata": {},
     "output_type": "execute_result"
    },
    {
     "data": {
      "image/png": "[encoded data removed]",
      "text/plain": [
       "<Figure size 600x400 with 1 Axes>"
      ]
     },
     "metadata": {
      "needs_background": "light"
     },
     "output_type": "display_data"
    }
   ],
   "source": [
    "plt.figure(figsize=(6,4),dpi=100)\n",
    "plt.plot(range(1,12),typeii_error,label='Typr II Error')\n",
    "plt.legend()\n",
    "plt.ylabel('Typr II Error')\n",
    "plt.xlabel(\"K Value\")"
   ]
  },
  {
   "cell_type": "markdown",
   "id": "b31b6ae7",
   "metadata": {},
   "source": [
    "## Using Cross Validation (10-fold) to find the optimal k-value"
   ]
  },
  {
   "cell_type": "code",
   "execution_count": 54,
   "id": "637ea00d",
   "metadata": {},
   "outputs": [],
   "source": [
    "from sklearn.model_selection import cross_val_score\n",
    "import matplotlib.pyplot as plt \n",
    "%matplotlib inline"
   ]
  },
  {
   "cell_type": "code",
   "execution_count": 55,
   "id": "0ccc36e4",
   "metadata": {},
   "outputs": [
    {
     "data": {
      "image/png": "[encoded data removed]",
      "text/plain": [
       "<Figure size 432x288 with 1 Axes>"
      ]
     },
     "metadata": {
      "needs_background": "light"
     },
     "output_type": "display_data"
    }
   ],
   "source": [
    "# find the best k-value with cross validation\n",
    "k_range = range(1, 12)\n",
    "k_scores = []\n",
    "# use iteration to caclulator different k in models, then return the average accuracy based on the cross validation\n",
    "for k in k_range:\n",
    "    knn = KNeighborsClassifier(algorithm='auto', \n",
    "                            leaf_size=30, \n",
    "                            metric='manhattan',         \n",
    "                            metric_params=None, \n",
    "                            n_jobs=1, \n",
    "                            n_neighbors=k, \n",
    "                            weights='uniform')\n",
    "    scores = cross_val_score(knn, X, y, cv=10, scoring='accuracy')\n",
    "    k_scores.append(scores.mean())\n",
    "# plot to see clearly\n",
    "plt.plot(k_range, k_scores)\n",
    "plt.xlabel('Value of K for KNN')\n",
    "plt.ylabel('Cross-Validated Accuracy')\n",
    "plt.show()"
   ]
  },
  {
   "cell_type": "code",
   "execution_count": 56,
   "id": "43be3470",
   "metadata": {},
   "outputs": [
    {
     "data": {
      "image/png": "[encoded data removed]",
      "text/plain": [
       "<Figure size 432x288 with 1 Axes>"
      ]
     },
     "metadata": {
      "needs_background": "light"
     },
     "output_type": "display_data"
    }
   ],
   "source": [
    "import matplotlib.pyplot as plt\n",
    "k_range = range(1, 12)\n",
    "k_scores = []\n",
    "for k in k_range:\n",
    "    knn = KNeighborsClassifier(algorithm='auto', \n",
    "                            leaf_size=30, \n",
    "                            metric='manhattan',         \n",
    "                            metric_params=None, \n",
    "                            n_jobs=1, \n",
    "                            n_neighbors=k, \n",
    "                            weights='uniform')\n",
    "    loss = abs(cross_val_score(knn, X, y, cv=10, scoring='neg_mean_squared_error'))\n",
    "    k_scores.append(loss.mean())\n",
    "plt.plot(k_range, k_scores)\n",
    "plt.xlabel('Value of K for KNN')\n",
    "plt.ylabel('Cross-Validated MSE')\n",
    "plt.show()\n",
    "\n",
    "# k: 5,7,9"
   ]
  },
  {
   "cell_type": "markdown",
   "id": "6ec3d49a",
   "metadata": {},
   "source": [
    "## KNN Model with Mahanttan Distance \n",
    "### k= 3"
   ]
  },
  {
   "cell_type": "code",
   "execution_count": 64,
   "id": "4d297466",
   "metadata": {},
   "outputs": [
    {
     "name": "stdout",
     "output_type": "stream",
     "text": [
      "[[355   2]\n",
      " [  9 203]]\n",
      "Type I Error: 0.0035\n",
      "Type II Error: 0.0158\n",
      "Expexted Cost: 1.5852\n",
      "Mean Cross Validation Accuracy: 0.9701\n"
     ]
    }
   ],
   "source": [
    "# knn model with Mahanttan Distance & k=3 (least type ii error)\n",
    "knn_model = KNeighborsClassifier(algorithm='auto', \n",
    "                            leaf_size=30, \n",
    "                            metric='manhattan',        \n",
    "                            metric_params=None, \n",
    "                            n_jobs=1, \n",
    "                            n_neighbors=3, \n",
    "                            weights='uniform')\n",
    "\n",
    "knn_model.fit(X,y) \n",
    "y_pred = knn_model.predict(X)\n",
    "cm = confusion_matrix(y, y_pred)\n",
    "    \n",
    "TN = cm[0][0]\n",
    "FN = cm[1][0]\n",
    "TP = cm[1][1]\n",
    "FP = cm[0][1]\n",
    "    \n",
    "## type ii error\n",
    "typeii = FN/(TP+FP+FN+TN)\n",
    "typeii_error.append(typeii)\n",
    "    \n",
    "## type i error \n",
    "typei = FP/(TP+FP+FN+TN)\n",
    "typei_error.append(typei)\n",
    "\n",
    "#Expected cost\n",
    "cost_i = typei *1\n",
    "cost_ii = typeii*100\n",
    "exp_cost = cost_i + cost_ii\n",
    "\n",
    "print (confusion_matrix(y, y_pred))\n",
    "print ('Type I Error: %.4f' %typei)\n",
    "print ('Type II Error: %.4f' %typeii)\n",
    "print ('Expexted Cost: %.4f' %exp_cost)\n",
    "\n",
    "scores = cross_val_score(knn_model, X, y, cv=10, scoring='accuracy')\n",
    "print ('Mean Cross Validation Accuracy: %.4f' %scores.mean())"
   ]
  },
  {
   "cell_type": "code",
   "execution_count": 65,
   "id": "b14820a8",
   "metadata": {},
   "outputs": [
    {
     "name": "stderr",
     "output_type": "stream",
     "text": [
      "[Parallel(n_jobs=1)]: Using backend SequentialBackend with 1 concurrent workers.\n",
      "[Parallel(n_jobs=1)]: Done   1 out of   1 | elapsed:    0.0s remaining:    0.0s\n",
      "[Parallel(n_jobs=1)]: Done   5 out of   5 | elapsed:    0.1s finished\n",
      "\n",
      "[2022-12-01 02:41:02] Features: 1/5 -- score: 0.9121867167919799[Parallel(n_jobs=1)]: Using backend SequentialBackend with 1 concurrent workers.\n",
      "[Parallel(n_jobs=1)]: Done   1 out of   1 | elapsed:    0.0s remaining:    0.0s\n",
      "[Parallel(n_jobs=1)]: Done   4 out of   4 | elapsed:    0.1s finished\n",
      "\n",
      "[2022-12-01 02:41:02] Features: 2/5 -- score: 0.9489974937343357[Parallel(n_jobs=1)]: Using backend SequentialBackend with 1 concurrent workers.\n",
      "[Parallel(n_jobs=1)]: Done   1 out of   1 | elapsed:    0.0s remaining:    0.0s\n",
      "[Parallel(n_jobs=1)]: Done   3 out of   3 | elapsed:    0.1s finished\n",
      "\n",
      "[2022-12-01 02:41:02] Features: 3/5 -- score: 0.9542919799498746[Parallel(n_jobs=1)]: Using backend SequentialBackend with 1 concurrent workers.\n",
      "[Parallel(n_jobs=1)]: Done   1 out of   1 | elapsed:    0.0s remaining:    0.0s\n",
      "[Parallel(n_jobs=1)]: Done   2 out of   2 | elapsed:    0.0s finished\n",
      "\n",
      "[2022-12-01 02:41:02] Features: 4/5 -- score: 0.9683583959899748[Parallel(n_jobs=1)]: Using backend SequentialBackend with 1 concurrent workers.\n",
      "[Parallel(n_jobs=1)]: Done   1 out of   1 | elapsed:    0.0s remaining:    0.0s\n",
      "[Parallel(n_jobs=1)]: Done   1 out of   1 | elapsed:    0.0s finished\n",
      "\n",
      "[2022-12-01 02:41:02] Features: 5/5 -- score: 0.9701441102756891"
     ]
    }
   ],
   "source": [
    "# feature selection after building the basic model\n",
    "#knn = KNeighborsClassifier(n_neighbors=3)\n",
    "sfs1 = SFS(knn_model, \n",
    "           k_features=5, \n",
    "           forward=True, \n",
    "           floating=False, \n",
    "           verbose=2,\n",
    "           scoring='accuracy',\n",
    "           cv=10)\n",
    "\n",
    "sfs1 = sfs1.fit(X, y)\n",
    "\n",
    "#sfs = SequentialFeatureSelector(knn, n_features_to_select= 3)\n",
    "#sfs.fit(X, y)\n",
    "\n",
    "#sfs.get_support()\n",
    "#sfs.transform(X).shape\n",
    "#get_feature_names()\n",
    "#k_feratures_names_\n",
    "#X"
   ]
  },
  {
   "cell_type": "code",
   "execution_count": 66,
   "id": "6056e1be",
   "metadata": {},
   "outputs": [
    {
     "name": "stdout",
     "output_type": "stream",
     "text": [
      "['concavity_mean', 'texture_worst', 'perimeter_worst', 'area_worst', 'smoothness_worst']\n"
     ]
    }
   ],
   "source": [
    "#sfs1.subsets_\n",
    "feat_names = list(sfs1.k_feature_names_)\n",
    "print(feat_names)"
   ]
  },
  {
   "cell_type": "code",
   "execution_count": 67,
   "id": "f9ed4e43",
   "metadata": {},
   "outputs": [
    {
     "name": "stderr",
     "output_type": "stream",
     "text": [
      "/var/folders/m9/98nfckqx6kbcgsd7xvv296vh0000gn/T/ipykernel_1310/610057710.py:4: SettingWithCopyWarning: \n",
      "A value is trying to be set on a copy of a slice from a DataFrame.\n",
      "Try using .loc[row_indexer,col_indexer] = value instead\n",
      "\n",
      "See the caveats in the documentation: https://pandas.pydata.org/pandas-docs/stable/user_guide/indexing.html#returning-a-view-versus-a-copy\n",
      "  new_data['diagnosis_M'] = df_1['diagnosis_M']\n"
     ]
    },
    {
     "data": {
      "text/plain": [
       "<AxesSubplot:>"
      ]
     },
     "execution_count": 67,
     "metadata": {},
     "output_type": "execute_result"
    },
    {
     "data": {
      "image/png": "[encoded data removed]",
      "text/plain": [
       "<Figure size 750x450 with 2 Axes>"
      ]
     },
     "metadata": {
      "needs_background": "light"
     },
     "output_type": "display_data"
    }
   ],
   "source": [
    "import seaborn as sns\n",
    "\n",
    "new_data = std_df[feat_names]\n",
    "new_data['diagnosis_M'] = df_1['diagnosis_M']\n",
    "new_data.head()\n",
    "\n",
    "X = new_data.drop(['diagnosis_M'], axis=1)\n",
    "y = new_data['diagnosis_M']\n",
    "\n",
    "#new_data.shape\n",
    "\n",
    "plt.figure(figsize=(5,3), dpi=150)\n",
    "sns.heatmap(new_data.corr(), annot=True)\n",
    "\n",
    "#diagnosis_M & concave points_worst: 0.79\n",
    "#diagnosis_M & radius_worst: 0.78"
   ]
  },
  {
   "cell_type": "code",
   "execution_count": 68,
   "id": "0db0bf47",
   "metadata": {},
   "outputs": [
    {
     "name": "stdout",
     "output_type": "stream",
     "text": [
      "[[355   2]\n",
      " [  9 203]]\n",
      "Type I Error: 0.0035\n",
      "Type II Error: 0.0158\n",
      "Mean Cross Validation Accuracy: 0.9701\n"
     ]
    }
   ],
   "source": [
    "## Re-run the model using other dataset after removing unrelated attributes\n",
    "knn_model.fit(X,y) \n",
    "y_pred = knn_model.predict(X)\n",
    "cm = confusion_matrix(y, y_pred)\n",
    "    \n",
    "TN = cm[0][0]\n",
    "FN = cm[1][0]\n",
    "TP = cm[1][1]\n",
    "FP = cm[0][1]\n",
    "    \n",
    "## type ii error\n",
    "typeii = FN/(TP+FP+FN+TN)\n",
    "typeii_error.append(typeii)\n",
    "    \n",
    "## type i error \n",
    "typei = FP/(TP+FP+FN+TN)\n",
    "typei_error.append(typei)\n",
    "#Expected cost\n",
    "#cost_i = typei *1\n",
    "#cost_ii = typeii*100\n",
    "#exp_cost = cost_i + cost_ii\n",
    "\n",
    "print (confusion_matrix(y, y_pred))\n",
    "print ('Type I Error: %.4f' %typei)\n",
    "print ('Type II Error: %.4f' %typeii)\n",
    "#print ('Expexted Cost: %.4f' %exp_cost)\n",
    "\n",
    "scores = cross_val_score(knn_model, X, y, cv=10, scoring='accuracy')\n",
    "print ('Mean Cross Validation Accuracy: %.4f' %scores.mean())"
   ]
  },
  {
   "cell_type": "markdown",
   "id": "8028f1d4",
   "metadata": {},
   "source": [
    "# Resample"
   ]
  },
  {
   "cell_type": "code",
   "execution_count": 69,
   "id": "747e254c",
   "metadata": {},
   "outputs": [],
   "source": [
    "from sklearn.utils import resample"
   ]
  },
  {
   "cell_type": "code",
   "execution_count": 70,
   "id": "57f74364",
   "metadata": {},
   "outputs": [
    {
     "name": "stdout",
     "output_type": "stream",
     "text": [
      "B:  357\n",
      "M:  212\n"
     ]
    },
    {
     "data": {
      "image/png": "[encoded data removed]",
      "text/plain": [
       "<Figure size 432x288 with 1 Axes>"
      ]
     },
     "metadata": {
      "needs_background": "light"
     },
     "output_type": "display_data"
    }
   ],
   "source": [
    "target_count = new_data.diagnosis_M.value_counts()\n",
    "print('B: ', target_count[0])\n",
    "print('M: ', target_count[1])\n",
    "\n",
    "target_count.plot(kind='bar');"
   ]
  },
  {
   "cell_type": "markdown",
   "id": "b4a70f18",
   "metadata": {},
   "source": [
    "### Under-resampling"
   ]
  },
  {
   "cell_type": "code",
   "execution_count": 71,
   "id": "cec21510",
   "metadata": {},
   "outputs": [],
   "source": [
    "knn_model = KNeighborsClassifier(algorithm='auto', \n",
    "                            leaf_size=30, \n",
    "                            metric='manhattan',       \n",
    "                            metric_params=None, \n",
    "                            n_jobs=1, \n",
    "                            n_neighbors=3, \n",
    "                            weights='uniform')"
   ]
  },
  {
   "cell_type": "code",
   "execution_count": 72,
   "id": "019bef9b",
   "metadata": {},
   "outputs": [
    {
     "name": "stdout",
     "output_type": "stream",
     "text": [
      "[[304  15]\n",
      " [  8 311]]\n",
      "Type I Error: 0.0235\n",
      "Type II Error: 0.0125\n",
      "Mean Cross Validation Accuracy: 0.9185\n"
     ]
    }
   ],
   "source": [
    "# under resampling\n",
    "X = df_test_under.drop(['diagnosis_M'], axis=1)\n",
    "y = df_test_under['diagnosis_M']\n",
    "#y.shape\n",
    "\n",
    "knn_model.fit(X,y) \n",
    "y_pred = knn_model.predict(X)\n",
    "cm = confusion_matrix(y, y_pred)\n",
    "    \n",
    "TN = cm[0][0]\n",
    "FN = cm[1][0]\n",
    "TP = cm[1][1]\n",
    "FP = cm[0][1]\n",
    "    \n",
    "## type ii error\n",
    "typeii = FN/(TP+FP+FN+TN)\n",
    "typeii_error.append(typeii)\n",
    "    \n",
    "## type i error \n",
    "typei = FP/(TP+FP+FN+TN)\n",
    "typei_error.append(typei)\n",
    "#Expected cost\n",
    "#cost_i = typei *1\n",
    "#cost_ii = typeii*100\n",
    "#exp_cost = cost_i + cost_ii\n",
    "\n",
    "print (confusion_matrix(y, y_pred))\n",
    "print ('Type I Error: %.4f' %typei)\n",
    "print ('Type II Error: %.4f' %typeii)\n",
    "#print ('Expexted Cost: %.4f' %exp_cost)\n",
    "\n",
    "scores = cross_val_score(knn_model, X, y, cv=10, scoring='accuracy')\n",
    "print ('Mean Cross Validation Accuracy: %.4f' %scores.mean())"
   ]
  },
  {
   "cell_type": "code",
   "execution_count": 73,
   "id": "f2c22662",
   "metadata": {},
   "outputs": [
    {
     "name": "stdout",
     "output_type": "stream",
     "text": [
      "[[347  10]\n",
      " [  3 354]]\n",
      "Type I Error: 0.0140\n",
      "Type II Error: 0.0042\n",
      "Mean Cross Validation Accuracy: 0.9650\n"
     ]
    }
   ],
   "source": [
    "# Oversampling\n",
    "X = df_test_over.drop(['diagnosis_M'], axis=1)\n",
    "y = df_test_over['diagnosis_M']\n",
    "\n",
    "knn_model.fit(X,y) \n",
    "y_pred = knn_model.predict(X)\n",
    "cm = confusion_matrix(y, y_pred)\n",
    "    \n",
    "TN = cm[0][0]\n",
    "FN = cm[1][0]\n",
    "TP = cm[1][1]\n",
    "FP = cm[0][1]\n",
    "    \n",
    "## type ii error\n",
    "typeii = FN/(TP+FP+FN+TN)\n",
    "typeii_error.append(typeii)\n",
    "    \n",
    "## type i error \n",
    "typei = FP/(TP+FP+FN+TN)\n",
    "typei_error.append(typei)\n",
    "#Expected cost\n",
    "#cost_i = typei *1\n",
    "#cost_ii = typeii*100\n",
    "#exp_cost = cost_i + cost_ii\n",
    "\n",
    "print (confusion_matrix(y, y_pred))\n",
    "print ('Type I Error: %.4f' %typei)\n",
    "print ('Type II Error: %.4f' %typeii)\n",
    "#print ('Expexted Cost: %.4f' %exp_cost)\n",
    "\n",
    "scores = cross_val_score(knn_model, X, y, cv=10, scoring='accuracy')\n",
    "print ('Mean Cross Validation Accuracy: %.4f' %scores.mean())"
   ]
  },
  {
   "cell_type": "code",
   "execution_count": 74,
   "id": "b4d141f0",
   "metadata": {},
   "outputs": [
    {
     "name": "stdout",
     "output_type": "stream",
     "text": [
      "(512, 33)\n",
      "(57, 33)\n"
     ]
    }
   ],
   "source": [
    "## training & testing\n",
    "## input training & testing data\n",
    "train = pd.read_csv('/Users/weiwei/Desktop/UCI - MSBA/Fall/Machine Learning/Project/bc_data_90.csv')\n",
    "train_1 = pd.get_dummies(train)\n",
    "print(train_1.shape)\n",
    "\n",
    "test = pd.read_csv('/Users/weiwei/Desktop/UCI - MSBA/Fall/Machine Learning/Project/bc_test_data_10.csv')\n",
    "test_1 = pd.get_dummies(test)\n",
    "print(test_1.shape)"
   ]
  },
  {
   "cell_type": "code",
   "execution_count": 75,
   "id": "cc42d55f",
   "metadata": {},
   "outputs": [
    {
     "name": "stderr",
     "output_type": "stream",
     "text": [
      "/var/folders/m9/98nfckqx6kbcgsd7xvv296vh0000gn/T/ipykernel_1310/31804026.py:2: SettingWithCopyWarning: \n",
      "A value is trying to be set on a copy of a slice from a DataFrame.\n",
      "Try using .loc[row_indexer,col_indexer] = value instead\n",
      "\n",
      "See the caveats in the documentation: https://pandas.pydata.org/pandas-docs/stable/user_guide/indexing.html#returning-a-view-versus-a-copy\n",
      "  train_data['diagnosis_M'] = train_1['diagnosis_M']\n",
      "/var/folders/m9/98nfckqx6kbcgsd7xvv296vh0000gn/T/ipykernel_1310/31804026.py:6: SettingWithCopyWarning: \n",
      "A value is trying to be set on a copy of a slice from a DataFrame.\n",
      "Try using .loc[row_indexer,col_indexer] = value instead\n",
      "\n",
      "See the caveats in the documentation: https://pandas.pydata.org/pandas-docs/stable/user_guide/indexing.html#returning-a-view-versus-a-copy\n",
      "  test_data['diagnosis_M'] = test_1['diagnosis_M']\n"
     ]
    }
   ],
   "source": [
    "train_data = train_1[feat_names]\n",
    "train_data['diagnosis_M'] = train_1['diagnosis_M']\n",
    "#train_data.head()\n",
    "\n",
    "test_data = test_1[feat_names]\n",
    "test_data['diagnosis_M'] = test_1['diagnosis_M']\n",
    "\n",
    "X_train = train_data.drop(['diagnosis_M'], axis=1)\n",
    "y_train = train_data['diagnosis_M']\n",
    "\n",
    "X_test = test_data.drop(['diagnosis_M'], axis=1)\n",
    "y_test = test_data['diagnosis_M']\n",
    "\n",
    "scaler = StandardScaler()\n",
    "X_train = scaler.fit_transform(X_train)\n",
    "X_test = scaler.transform(X_test)"
   ]
  },
  {
   "cell_type": "code",
   "execution_count": 76,
   "id": "fc7248c9",
   "metadata": {},
   "outputs": [
    {
     "name": "stdout",
     "output_type": "stream",
     "text": [
      "B:  319\n",
      "M:  193\n"
     ]
    },
    {
     "data": {
      "image/png": "[encoded data removed]",
      "text/plain": [
       "<Figure size 432x288 with 1 Axes>"
      ]
     },
     "metadata": {
      "needs_background": "light"
     },
     "output_type": "display_data"
    }
   ],
   "source": [
    "target_count = train_data.diagnosis_M.value_counts()\n",
    "print('B: ', target_count[0])\n",
    "print('M: ', target_count[1])\n",
    "\n",
    "target_count.plot(kind='bar');"
   ]
  },
  {
   "cell_type": "code",
   "execution_count": 77,
   "id": "7f31bdae",
   "metadata": {},
   "outputs": [
    {
     "name": "stdout",
     "output_type": "stream",
     "text": [
      "Undersampling: \n",
      "0    319\n",
      "1    319\n",
      "Name: diagnosis_M, dtype: int64\n"
     ]
    },
    {
     "data": {
      "image/png": "[encoded data removed]",
      "text/plain": [
       "<Figure size 432x288 with 1 Axes>"
      ]
     },
     "metadata": {
      "needs_background": "light"
     },
     "output_type": "display_data"
    }
   ],
   "source": [
    "count_class_0, count_class_1 = train_data.diagnosis_M.value_counts()\n",
    "\n",
    "# Divide by class\n",
    "class_0 = train_data[train_data['diagnosis_M'] == 0]\n",
    "class_1 = train_data[train_data['diagnosis_M'] == 1]\n",
    "\n",
    "df_class_1_over = class_1.sample(count_class_0, replace=True)\n",
    "df_test_under = pd.concat([class_0, df_class_1_over], axis=0)\n",
    "\n",
    "print('Undersampling: ')\n",
    "print(df_test_under.diagnosis_M.value_counts())\n",
    "\n",
    "df_test_under.diagnosis_M.value_counts().plot(kind='bar');"
   ]
  },
  {
   "cell_type": "code",
   "execution_count": 78,
   "id": "cd61bf67",
   "metadata": {},
   "outputs": [
    {
     "name": "stdout",
     "output_type": "stream",
     "text": [
      "[[318   1]\n",
      " [  8 185]]\n",
      "Type I Error: 0.0020\n",
      "Type II Error: 0.0156\n",
      "Expexted Cost: 1.5645\n",
      "Mean Cross Validation Accuracy: 0.9707\n"
     ]
    }
   ],
   "source": [
    "X = df_test_over.drop(['diagnosis_M'], axis=1)\n",
    "y = df_test_over['diagnosis_M']\n",
    "\n",
    "knn_model = KNeighborsClassifier(algorithm='auto', \n",
    "                            leaf_size=30, \n",
    "                            metric='manhattan',       \n",
    "                            metric_params=None, \n",
    "                            n_jobs=1, \n",
    "                            n_neighbors=3, \n",
    "                            weights='uniform')\n",
    "\n",
    "knn_model.fit(X_train,y_train) \n",
    "y_pred = knn_model.predict(X_train)\n",
    "\n",
    "cm = confusion_matrix(y_train, y_pred)\n",
    "    \n",
    "TN = cm[0][0]\n",
    "FN = cm[1][0]\n",
    "TP = cm[1][1]\n",
    "FP = cm[0][1]\n",
    "    \n",
    "## type ii error\n",
    "typeii = FN/(TP+FP+FN+TN)\n",
    "typeii_error.append(typeii)\n",
    "    \n",
    "## type i error \n",
    "typei = FP/(TP+FP+FN+TN)\n",
    "typei_error.append(typei)\n",
    "#Expected cost\n",
    "cost_i = typei *1\n",
    "cost_ii = typeii*100\n",
    "exp_cost = cost_i + cost_ii\n",
    "\n",
    "print (confusion_matrix(y_train, y_pred))\n",
    "print ('Type I Error: %.4f' %typei)\n",
    "print ('Type II Error: %.4f' %typeii)\n",
    "print ('Expexted Cost: %.4f' %exp_cost)\n",
    "\n",
    "scores = cross_val_score(knn_model, X_train, y_train, cv=10, scoring='accuracy')\n",
    "print ('Mean Cross Validation Accuracy: %.4f' %scores.mean())"
   ]
  },
  {
   "cell_type": "code",
   "execution_count": 79,
   "id": "84436f5c",
   "metadata": {},
   "outputs": [
    {
     "name": "stdout",
     "output_type": "stream",
     "text": [
      "[[38  0]\n",
      " [ 0 19]]\n",
      "Type I Error: 0.0000\n",
      "Type II Error: 0.0000\n",
      "Expexted Cost: 0.0000\n",
      "Mean Cross Validation Accuracy: 0.9667\n"
     ]
    }
   ],
   "source": [
    "## Re-run the model using test dataset\n",
    "knn_model = KNeighborsClassifier(algorithm='auto', \n",
    "                            leaf_size=30, \n",
    "                            metric='manhattan',       \n",
    "                            metric_params=None, \n",
    "                            n_jobs=1, \n",
    "                            n_neighbors=3, \n",
    "                            weights='uniform')\n",
    "knn_model.fit(X_test,y_test) \n",
    "\n",
    "y_pred = knn_model.predict(X_test)\n",
    "\n",
    "cm = confusion_matrix(y_test, y_pred)\n",
    "    \n",
    "TN = cm[0][0]\n",
    "FN = cm[1][0]\n",
    "TP = cm[1][1]\n",
    "FP = cm[0][1]\n",
    "    \n",
    "## type ii error\n",
    "typeii = FN/(TP+FP+FN+TN)\n",
    "typeii_error.append(typeii)\n",
    "    \n",
    "## type i error \n",
    "typei = FP/(TP+FP+FN+TN)\n",
    "typei_error.append(typei)\n",
    "\n",
    "#Expected cost\n",
    "cost_i = typei *1\n",
    "cost_ii = typeii*100\n",
    "exp_cost = cost_i + cost_ii\n",
    "\n",
    "print (confusion_matrix(y_test, y_pred))\n",
    "print ('Type I Error: %.4f' %typei)\n",
    "print ('Type II Error: %.4f' %typeii)\n",
    "print ('Expexted Cost: %.4f' %exp_cost)\n",
    "\n",
    "scores = cross_val_score(knn_model, X_test, y_test, cv=10, scoring='accuracy')\n",
    "print ('Mean Cross Validation Accuracy: %.4f' %scores.mean())"
   ]
  },
  {
   "cell_type": "markdown",
   "id": "9c74eb77",
   "metadata": {},
   "source": [
    "# Chebeyshev Distance"
   ]
  },
  {
   "cell_type": "code",
   "execution_count": 117,
   "id": "9c8ee27f",
   "metadata": {},
   "outputs": [],
   "source": [
    "new_data = std_df\n",
    "new_data.head()\n",
    "\n",
    "X = new_data.drop(['id', 'diagnosis_B', 'diagnosis_M'], axis=1)\n",
    "y = df_1['diagnosis_M']"
   ]
  },
  {
   "cell_type": "code",
   "execution_count": 118,
   "id": "06a1ab7a",
   "metadata": {},
   "outputs": [],
   "source": [
    "from sklearn.metrics import classification_report,confusion_matrix,accuracy_score,plot_confusion_matrix\n",
    "from sklearn.neighbors import KNeighborsClassifier\n",
    "\n",
    "knn_model = KNeighborsClassifier()\n",
    "#test_error_rates = []\n",
    "typei_error =[ ]\n",
    "typeii_error =[ ]\n",
    "\n",
    "# p=1 is equivalent to manhattan distance\n",
    "for k in range(1,12):\n",
    "    knn_model = KNeighborsClassifier(algorithm='auto', \n",
    "                            leaf_size=30, \n",
    "                            metric='chebyshev',         \n",
    "                            metric_params=None, \n",
    "                            n_jobs=1, \n",
    "                            n_neighbors=k, \n",
    "                            weights='uniform')\n",
    "    knn_model.fit(X,y) \n",
    "    \n",
    "    y_pred = knn_model.predict(X)\n",
    "\n",
    "    cm = confusion_matrix(y, y_pred)\n",
    "    \n",
    "    TN = cm[0][0]\n",
    "    FN = cm[1][0]\n",
    "    TP = cm[1][1]\n",
    "    FP = cm[0][1]\n",
    "    \n",
    "    ## type ii error\n",
    "    typeii = FN/(TP+FP+FN+TN)\n",
    "    typeii_error.append(typeii)\n",
    "    \n",
    "    ## type i error \n",
    "    typei = FP/(TP+FP+FN+TN)\n",
    "    typei_error.append(typei)\n",
    "    \n",
    "    #test_error = 1 - accuracy_score(y,y_pred)\n",
    "    #test_error_rates.append(test_error)\n",
    "#test_error_rates\n",
    "\n"
   ]
  },
  {
   "cell_type": "code",
   "execution_count": 119,
   "id": "66901044",
   "metadata": {},
   "outputs": [
    {
     "data": {
      "text/plain": [
       "Text(0.5, 0, 'K Value')"
      ]
     },
     "execution_count": 119,
     "metadata": {},
     "output_type": "execute_result"
    },
    {
     "data": {
      "image/png": "[encoded data removed]",
      "text/plain": [
       "<Figure size 600x400 with 1 Axes>"
      ]
     },
     "metadata": {
      "needs_background": "light"
     },
     "output_type": "display_data"
    }
   ],
   "source": [
    "plt.figure(figsize=(6,4),dpi=100)\n",
    "plt.plot(range(1,12),typei_error,label='Typr I Error')\n",
    "plt.legend()\n",
    "plt.ylabel('Typr I Error')\n",
    "plt.xlabel(\"K Value\")\n",
    "\n",
    "#best k-value= 2 or 4, the least type I error"
   ]
  },
  {
   "cell_type": "code",
   "execution_count": 120,
   "id": "51c317d7",
   "metadata": {},
   "outputs": [
    {
     "data": {
      "text/plain": [
       "Text(0.5, 0, 'K Value')"
      ]
     },
     "execution_count": 120,
     "metadata": {},
     "output_type": "execute_result"
    },
    {
     "data": {
      "image/png": "[encoded data removed]",
      "text/plain": [
       "<Figure size 600x400 with 1 Axes>"
      ]
     },
     "metadata": {
      "needs_background": "light"
     },
     "output_type": "display_data"
    }
   ],
   "source": [
    "plt.figure(figsize=(6,4),dpi=100)\n",
    "plt.plot(range(1,12),typeii_error,label='Typr II Error')\n",
    "plt.legend()\n",
    "plt.ylabel('Typr II Error')\n",
    "plt.xlabel(\"K Value\")\n",
    "\n",
    "#best k-value= 3, the least type I error"
   ]
  },
  {
   "cell_type": "code",
   "execution_count": 121,
   "id": "4e6a2710",
   "metadata": {},
   "outputs": [
    {
     "data": {
      "image/png": "[encoded data removed]",
      "text/plain": [
       "<Figure size 432x288 with 1 Axes>"
      ]
     },
     "metadata": {
      "needs_background": "light"
     },
     "output_type": "display_data"
    }
   ],
   "source": [
    "# find the best k-value with cross validation\n",
    "k_range = range(1, 12)\n",
    "k_scores = []\n",
    "# use iteration to caclulator different k in models, then return the average accuracy based on the cross validation\n",
    "for k in k_range:\n",
    "    knn = KNeighborsClassifier(algorithm='auto', \n",
    "                            leaf_size=30, \n",
    "                            metric='chebyshev',         \n",
    "                            metric_params=None, \n",
    "                            n_jobs=1, \n",
    "                            n_neighbors=k, \n",
    "                            weights='uniform')\n",
    "    scores = cross_val_score(knn, X, y, cv=10, scoring='accuracy')\n",
    "    k_scores.append(scores.mean())\n",
    "# plot to see clearly\n",
    "plt.plot(k_range, k_scores)\n",
    "plt.xlabel('Value of K for KNN')\n",
    "plt.ylabel('Cross-Validated Accuracy')\n",
    "plt.show()\n",
    "\n",
    "# k-value: 3,7,9"
   ]
  },
  {
   "cell_type": "code",
   "execution_count": 122,
   "id": "e3f389e6",
   "metadata": {},
   "outputs": [
    {
     "data": {
      "image/png": "[encoded data removed]",
      "text/plain": [
       "<Figure size 432x288 with 1 Axes>"
      ]
     },
     "metadata": {
      "needs_background": "light"
     },
     "output_type": "display_data"
    }
   ],
   "source": [
    "import matplotlib.pyplot as plt\n",
    "k_range = range(1, 12)\n",
    "k_scores = []\n",
    "for k in k_range:\n",
    "    knn = KNeighborsClassifier(algorithm='auto', \n",
    "                            leaf_size=30, \n",
    "                            metric='chebyshev',         \n",
    "                            metric_params=None, \n",
    "                            n_jobs=1, \n",
    "                            n_neighbors=k, \n",
    "                            weights='uniform')\n",
    "    loss = abs(cross_val_score(knn, X, y, cv=10, scoring='neg_mean_squared_error'))\n",
    "    k_scores.append(loss.mean())\n",
    "plt.plot(k_range, k_scores)\n",
    "plt.xlabel('Value of K for KNN')\n",
    "plt.ylabel('Cross-Validated MSE')\n",
    "plt.show()\n",
    "\n",
    "#k-value: 7,9"
   ]
  },
  {
   "cell_type": "code",
   "execution_count": 123,
   "id": "964798fb",
   "metadata": {},
   "outputs": [],
   "source": [
    "## Basic Model\n",
    "knn_model = KNeighborsClassifier(algorithm='auto', \n",
    "                            leaf_size=30, \n",
    "                            metric='chebyshev',       \n",
    "                            metric_params=None, \n",
    "                            n_jobs=1, \n",
    "                            n_neighbors=3, \n",
    "                            weights='uniform')"
   ]
  },
  {
   "cell_type": "code",
   "execution_count": 124,
   "id": "c34ed169",
   "metadata": {},
   "outputs": [
    {
     "name": "stdout",
     "output_type": "stream",
     "text": [
      "[[353   4]\n",
      " [ 10 202]]\n",
      "Type I Error: 0.0070\n",
      "Type II Error: 0.0176\n",
      "Expexted Cost: 1.7645\n",
      "Mean Cross Validation Accuracy: 0.9455\n"
     ]
    }
   ],
   "source": [
    "knn_model.fit(X,y) \n",
    "y_pred = knn_model.predict(X)\n",
    "cm = confusion_matrix(y, y_pred)\n",
    "    \n",
    "TN = cm[0][0]\n",
    "FN = cm[1][0]\n",
    "TP = cm[1][1]\n",
    "FP = cm[0][1]\n",
    "    \n",
    "## type ii error\n",
    "typeii = FN/(TP+FP+FN+TN)\n",
    "typeii_error.append(typeii)\n",
    "    \n",
    "## type i error \n",
    "typei = FP/(TP+FP+FN+TN)\n",
    "typei_error.append(typei)\n",
    "\n",
    "#Expected cost\n",
    "cost_i = typei *1\n",
    "cost_ii = typeii*100\n",
    "exp_cost = cost_i + cost_ii\n",
    "\n",
    "print (confusion_matrix(y, y_pred))\n",
    "print ('Type I Error: %.4f' %typei)\n",
    "print ('Type II Error: %.4f' %typeii)\n",
    "print ('Expexted Cost: %.4f' %exp_cost)\n",
    "\n",
    "scores = cross_val_score(knn_model, X, y, cv=10, scoring='accuracy')\n",
    "print ('Mean Cross Validation Accuracy: %.4f' %scores.mean())"
   ]
  },
  {
   "cell_type": "code",
   "execution_count": 125,
   "id": "02b872a0",
   "metadata": {},
   "outputs": [
    {
     "name": "stderr",
     "output_type": "stream",
     "text": [
      "[Parallel(n_jobs=1)]: Using backend SequentialBackend with 1 concurrent workers.\n",
      "[Parallel(n_jobs=1)]: Done   1 out of   1 | elapsed:    0.0s remaining:    0.0s\n",
      "[Parallel(n_jobs=1)]: Done  30 out of  30 | elapsed:    0.5s finished\n",
      "\n",
      "[2022-12-01 03:38:43] Features: 1/5 -- score: 0.9121867167919799[Parallel(n_jobs=1)]: Using backend SequentialBackend with 1 concurrent workers.\n",
      "[Parallel(n_jobs=1)]: Done   1 out of   1 | elapsed:    0.0s remaining:    0.0s\n",
      "[Parallel(n_jobs=1)]: Done  29 out of  29 | elapsed:    0.5s finished\n",
      "\n",
      "[2022-12-01 03:38:44] Features: 2/5 -- score: 0.9437343358395991[Parallel(n_jobs=1)]: Using backend SequentialBackend with 1 concurrent workers.\n",
      "[Parallel(n_jobs=1)]: Done   1 out of   1 | elapsed:    0.0s remaining:    0.0s\n",
      "[Parallel(n_jobs=1)]: Done  28 out of  28 | elapsed:    0.5s finished\n",
      "\n",
      "[2022-12-01 03:38:44] Features: 3/5 -- score: 0.956015037593985[Parallel(n_jobs=1)]: Using backend SequentialBackend with 1 concurrent workers.\n",
      "[Parallel(n_jobs=1)]: Done   1 out of   1 | elapsed:    0.0s remaining:    0.0s\n",
      "[Parallel(n_jobs=1)]: Done  27 out of  27 | elapsed:    0.5s finished\n",
      "\n",
      "[2022-12-01 03:38:45] Features: 4/5 -- score: 0.9718671679197994[Parallel(n_jobs=1)]: Using backend SequentialBackend with 1 concurrent workers.\n",
      "[Parallel(n_jobs=1)]: Done   1 out of   1 | elapsed:    0.0s remaining:    0.0s\n",
      "[Parallel(n_jobs=1)]: Done  26 out of  26 | elapsed:    0.5s finished\n",
      "\n",
      "[2022-12-01 03:38:45] Features: 5/5 -- score: 0.9736215538847116"
     ]
    }
   ],
   "source": [
    "# feature selection after building the basic model\n",
    "#knn = KNeighborsClassifier(n_neighbors=3)\n",
    "sfs1 = SFS(knn_model, \n",
    "           k_features=5, \n",
    "           forward=True, \n",
    "           floating=False, \n",
    "           verbose=2,\n",
    "           scoring='accuracy',\n",
    "           cv=10)\n",
    "\n",
    "sfs1 = sfs1.fit(X, y)\n",
    "\n",
    "#sfs = SequentialFeatureSelector(knn, n_features_to_select= 3)\n",
    "#sfs.fit(X, y)\n",
    "\n",
    "#sfs.get_support()\n",
    "#sfs.transform(X).shape\n",
    "#get_feature_names()\n",
    "#k_feratures_names_\n",
    "#X"
   ]
  },
  {
   "cell_type": "code",
   "execution_count": 130,
   "id": "9dfa55f4",
   "metadata": {},
   "outputs": [
    {
     "name": "stdout",
     "output_type": "stream",
     "text": [
      "['radius_worst', 'texture_worst', 'perimeter_worst', 'area_worst', 'smoothness_worst']\n"
     ]
    }
   ],
   "source": [
    "#sfs1.subsets_\n",
    "feat_names = list(sfs1.k_feature_names_)\n",
    "print(feat_names)"
   ]
  },
  {
   "cell_type": "code",
   "execution_count": 131,
   "id": "b35273f2",
   "metadata": {},
   "outputs": [
    {
     "name": "stderr",
     "output_type": "stream",
     "text": [
      "/var/folders/m9/98nfckqx6kbcgsd7xvv296vh0000gn/T/ipykernel_1310/610057710.py:4: SettingWithCopyWarning: \n",
      "A value is trying to be set on a copy of a slice from a DataFrame.\n",
      "Try using .loc[row_indexer,col_indexer] = value instead\n",
      "\n",
      "See the caveats in the documentation: https://pandas.pydata.org/pandas-docs/stable/user_guide/indexing.html#returning-a-view-versus-a-copy\n",
      "  new_data['diagnosis_M'] = df_1['diagnosis_M']\n"
     ]
    },
    {
     "data": {
      "text/plain": [
       "<AxesSubplot:>"
      ]
     },
     "execution_count": 131,
     "metadata": {},
     "output_type": "execute_result"
    },
    {
     "data": {
      "image/png": "[encoded data removed]",
      "text/plain": [
       "<Figure size 750x450 with 2 Axes>"
      ]
     },
     "metadata": {
      "needs_background": "light"
     },
     "output_type": "display_data"
    }
   ],
   "source": [
    "import seaborn as sns\n",
    "\n",
    "new_data = std_df[feat_names]\n",
    "new_data['diagnosis_M'] = df_1['diagnosis_M']\n",
    "new_data.head()\n",
    "\n",
    "X = new_data.drop(['diagnosis_M'], axis=1)\n",
    "y = new_data['diagnosis_M']\n",
    "\n",
    "#new_data.shape\n",
    "\n",
    "plt.figure(figsize=(5,3), dpi=150)\n",
    "sns.heatmap(new_data.corr(), annot=True)\n",
    "\n",
    "#diagnosis_M & concave points_worst: 0.79\n",
    "#diagnosis_M & radius_worst: 0.78"
   ]
  },
  {
   "cell_type": "code",
   "execution_count": 132,
   "id": "40b72283",
   "metadata": {},
   "outputs": [
    {
     "name": "stdout",
     "output_type": "stream",
     "text": [
      "[[353   4]\n",
      " [  9 203]]\n",
      "Type I Error: 0.0070\n",
      "Type II Error: 0.0158\n",
      "Mean Cross Validation Accuracy: 0.9736\n"
     ]
    }
   ],
   "source": [
    "## Re-run the model using other dataset after removing unrelated attributes: better\n",
    "knn_model = KNeighborsClassifier(algorithm='auto', \n",
    "                            leaf_size=30, \n",
    "                            metric='chebyshev',       \n",
    "                            metric_params=None, \n",
    "                            n_jobs=1, \n",
    "                            n_neighbors=3, \n",
    "                            weights='uniform')\n",
    "knn_model.fit(X,y) \n",
    "y_pred = knn_model.predict(X)\n",
    "cm = confusion_matrix(y, y_pred)\n",
    "    \n",
    "TN = cm[0][0]\n",
    "FN = cm[1][0]\n",
    "TP = cm[1][1]\n",
    "FP = cm[0][1]\n",
    "    \n",
    "## type ii error\n",
    "typeii = FN/(TP+FP+FN+TN)\n",
    "typeii_error.append(typeii)\n",
    "    \n",
    "## type i error \n",
    "typei = FP/(TP+FP+FN+TN)\n",
    "typei_error.append(typei)\n",
    "#Expected cost\n",
    "#cost_i = typei *1\n",
    "#cost_ii = typeii*100\n",
    "#exp_cost = cost_i + cost_ii\n",
    "\n",
    "print (confusion_matrix(y, y_pred))\n",
    "print ('Type I Error: %.4f' %typei)\n",
    "print ('Type II Error: %.4f' %typeii)\n",
    "#print ('Expexted Cost: %.4f' %exp_cost)\n",
    "\n",
    "scores = cross_val_score(knn_model, X, y, cv=10, scoring='accuracy')\n",
    "print ('Mean Cross Validation Accuracy: %.4f' %scores.mean())"
   ]
  },
  {
   "cell_type": "code",
   "execution_count": 133,
   "id": "bb09a165",
   "metadata": {},
   "outputs": [
    {
     "name": "stdout",
     "output_type": "stream",
     "text": [
      "B:  357\n",
      "M:  212\n"
     ]
    },
    {
     "data": {
      "image/png": "[encoded data removed]",
      "text/plain": [
       "<Figure size 432x288 with 1 Axes>"
      ]
     },
     "metadata": {
      "needs_background": "light"
     },
     "output_type": "display_data"
    }
   ],
   "source": [
    "## Resample\n",
    "target_count = new_data.diagnosis_M.value_counts()\n",
    "print('B: ', target_count[0])\n",
    "print('M: ', target_count[1])\n",
    "\n",
    "target_count.plot(kind='bar');"
   ]
  },
  {
   "cell_type": "code",
   "execution_count": 134,
   "id": "18e1b0ba",
   "metadata": {},
   "outputs": [],
   "source": [
    "knn_model = KNeighborsClassifier(algorithm='auto', \n",
    "                            leaf_size=30, \n",
    "                            metric='chebyshev',       \n",
    "                            metric_params=None, \n",
    "                            n_jobs=1, \n",
    "                            n_neighbors=3, \n",
    "                            weights='uniform')"
   ]
  },
  {
   "cell_type": "code",
   "execution_count": 135,
   "id": "4b77e77e",
   "metadata": {},
   "outputs": [
    {
     "name": "stdout",
     "output_type": "stream",
     "text": [
      "[[301  18]\n",
      " [  4 315]]\n",
      "Type I Error: 0.0282\n",
      "Type II Error: 0.0063\n",
      "Mean Cross Validation Accuracy: 0.9075\n"
     ]
    }
   ],
   "source": [
    "## under resample\n",
    "X = df_test_under.drop(['diagnosis_M'], axis=1)\n",
    "y = df_test_under['diagnosis_M']\n",
    "\n",
    "knn_model.fit(X,y) \n",
    "y_pred = knn_model.predict(X)\n",
    "cm = confusion_matrix(y, y_pred)\n",
    "    \n",
    "TN = cm[0][0]\n",
    "FN = cm[1][0]\n",
    "TP = cm[1][1]\n",
    "FP = cm[0][1]\n",
    "    \n",
    "## type ii error\n",
    "typeii = FN/(TP+FP+FN+TN)\n",
    "typeii_error.append(typeii)\n",
    "    \n",
    "## type i error \n",
    "typei = FP/(TP+FP+FN+TN)\n",
    "typei_error.append(typei)\n",
    "#Expected cost\n",
    "#cost_i = typei *1\n",
    "#cost_ii = typeii*100\n",
    "#exp_cost = cost_i + cost_ii\n",
    "\n",
    "print (confusion_matrix(y, y_pred))\n",
    "print ('Type I Error: %.4f' %typei)\n",
    "print ('Type II Error: %.4f' %typeii)\n",
    "#print ('Expexted Cost: %.4f' %exp_cost)\n",
    "\n",
    "scores = cross_val_score(knn_model, X, y, cv=10, scoring='accuracy')\n",
    "print ('Mean Cross Validation Accuracy: %.4f' %scores.mean())"
   ]
  },
  {
   "cell_type": "code",
   "execution_count": 137,
   "id": "a8c87f3e",
   "metadata": {},
   "outputs": [
    {
     "name": "stdout",
     "output_type": "stream",
     "text": [
      "[[348   9]\n",
      " [  3 354]]\n",
      "Type I Error: 0.0126\n",
      "Type II Error: 0.0042\n",
      "Mean Cross Validation Accuracy: 0.9594\n"
     ]
    }
   ],
   "source": [
    "## over sample: win\n",
    "X = df_test_over.drop(['diagnosis_M'], axis=1)\n",
    "y = df_test_over['diagnosis_M']\n",
    "\n",
    "knn_model.fit(X,y) \n",
    "y_pred = knn_model.predict(X)\n",
    "cm = confusion_matrix(y, y_pred)\n",
    "    \n",
    "TN = cm[0][0]\n",
    "FN = cm[1][0]\n",
    "TP = cm[1][1]\n",
    "FP = cm[0][1]\n",
    "    \n",
    "## type ii error\n",
    "typeii = FN/(TP+FP+FN+TN)\n",
    "typeii_error.append(typeii)\n",
    "    \n",
    "## type i error \n",
    "typei = FP/(TP+FP+FN+TN)\n",
    "typei_error.append(typei)\n",
    "#Expected cost\n",
    "#cost_i = typei *1\n",
    "#cost_ii = typeii*100\n",
    "#exp_cost = cost_i + cost_ii\n",
    "\n",
    "print (confusion_matrix(y, y_pred))\n",
    "print ('Type I Error: %.4f' %typei)\n",
    "print ('Type II Error: %.4f' %typeii)\n",
    "#print ('Expexted Cost: %.4f' %exp_cost)\n",
    "\n",
    "scores = cross_val_score(knn_model, X, y, cv=10, scoring='accuracy')\n",
    "print ('Mean Cross Validation Accuracy: %.4f' %scores.mean())"
   ]
  },
  {
   "cell_type": "code",
   "execution_count": 103,
   "id": "c22729ea",
   "metadata": {},
   "outputs": [
    {
     "name": "stderr",
     "output_type": "stream",
     "text": [
      "/var/folders/m9/98nfckqx6kbcgsd7xvv296vh0000gn/T/ipykernel_1310/4260704444.py:3: SettingWithCopyWarning: \n",
      "A value is trying to be set on a copy of a slice from a DataFrame.\n",
      "Try using .loc[row_indexer,col_indexer] = value instead\n",
      "\n",
      "See the caveats in the documentation: https://pandas.pydata.org/pandas-docs/stable/user_guide/indexing.html#returning-a-view-versus-a-copy\n",
      "  train_data['diagnosis_M'] = train_1['diagnosis_M']\n",
      "/var/folders/m9/98nfckqx6kbcgsd7xvv296vh0000gn/T/ipykernel_1310/4260704444.py:7: SettingWithCopyWarning: \n",
      "A value is trying to be set on a copy of a slice from a DataFrame.\n",
      "Try using .loc[row_indexer,col_indexer] = value instead\n",
      "\n",
      "See the caveats in the documentation: https://pandas.pydata.org/pandas-docs/stable/user_guide/indexing.html#returning-a-view-versus-a-copy\n",
      "  test_data['diagnosis_M'] = test_1['diagnosis_M']\n"
     ]
    }
   ],
   "source": [
    "## Training & Testing \n",
    "train_data = train_1[feat_names]\n",
    "train_data['diagnosis_M'] = train_1['diagnosis_M']\n",
    "#train_data.head()\n",
    "\n",
    "test_data = test_1[feat_names]\n",
    "test_data['diagnosis_M'] = test_1['diagnosis_M']\n",
    "\n",
    "X_train = train_data.drop(['diagnosis_M'], axis=1)\n",
    "y_train = train_data['diagnosis_M']\n",
    "\n",
    "X_test = test_data.drop(['diagnosis_M'], axis=1)\n",
    "y_test = test_data['diagnosis_M']\n",
    "\n",
    "scaler = StandardScaler()\n",
    "X_train = scaler.fit_transform(X_train)\n",
    "X_test = scaler.transform(X_test)"
   ]
  },
  {
   "cell_type": "code",
   "execution_count": 104,
   "id": "13a1e62f",
   "metadata": {},
   "outputs": [
    {
     "name": "stdout",
     "output_type": "stream",
     "text": [
      "Undersampling: \n",
      "0    319\n",
      "1    319\n",
      "Name: diagnosis_M, dtype: int64\n"
     ]
    },
    {
     "data": {
      "image/png": "[encoded data removed]",
      "text/plain": [
       "<Figure size 432x288 with 1 Axes>"
      ]
     },
     "metadata": {
      "needs_background": "light"
     },
     "output_type": "display_data"
    }
   ],
   "source": [
    "# feature selection after building the basic model\n",
    "#knn = KNeighborsClassifier(n_neighbors=3)\n",
    "sfs1 = SFS(knn_model, \n",
    "           k_features=5, \n",
    "           forward=True, \n",
    "           floating=False, \n",
    "           verbose=2,\n",
    "           scoring='accuracy',\n",
    "           cv=10)\n",
    "\n",
    "sfs1 = sfs1.fit(X, y)\n",
    "\n",
    "#sfs = SequentialFeatureSelector(knn, n_features_to_select= 3)\n",
    "#sfs.fit(X, y)\n",
    "\n",
    "#sfs.get_support()\n",
    "#sfs.transform(X).shape\n",
    "#get_feature_names()\n",
    "#k_feratures_names_\n",
    "#X"
   ]
  },
  {
   "cell_type": "code",
   "execution_count": 105,
   "id": "45198400",
   "metadata": {},
   "outputs": [
    {
     "name": "stdout",
     "output_type": "stream",
     "text": [
      "[[314   5]\n",
      " [ 10 183]]\n",
      "Type I Error: 0.0098\n",
      "Type II Error: 0.0195\n",
      "Expexted Cost: 1.9629\n",
      "Mean Cross Validation Accuracy: 0.9552\n"
     ]
    }
   ],
   "source": [
    "X = df_test_over.drop(['diagnosis_M'], axis=1)\n",
    "y = df_test_over['diagnosis_M']\n",
    "\n",
    "knn_model.fit(X_train,y_train) \n",
    "y_pred = knn_model.predict(X_train)\n",
    "\n",
    "cm = confusion_matrix(y_train, y_pred)\n",
    "    \n",
    "TN = cm[0][0]\n",
    "FN = cm[1][0]\n",
    "TP = cm[1][1]\n",
    "FP = cm[0][1]\n",
    "    \n",
    "## type ii error\n",
    "typeii = FN/(TP+FP+FN+TN)\n",
    "typeii_error.append(typeii)\n",
    "    \n",
    "## type i error \n",
    "typei = FP/(TP+FP+FN+TN)\n",
    "typei_error.append(typei)\n",
    "#Expected cost\n",
    "cost_i = typei *1\n",
    "cost_ii = typeii*100\n",
    "exp_cost = cost_i + cost_ii\n",
    "\n",
    "print (confusion_matrix(y_train, y_pred))\n",
    "print ('Type I Error: %.4f' %typei)\n",
    "print ('Type II Error: %.4f' %typeii)\n",
    "print ('Expexted Cost: %.4f' %exp_cost)\n",
    "\n",
    "scores = cross_val_score(knn_model, X, y, cv=10, scoring='accuracy')\n",
    "print ('Mean Cross Validation Accuracy: %.4f' %scores.mean())"
   ]
  },
  {
   "cell_type": "code",
   "execution_count": 106,
   "id": "85af2371",
   "metadata": {},
   "outputs": [
    {
     "name": "stdout",
     "output_type": "stream",
     "text": [
      "[[38  0]\n",
      " [ 3 16]]\n",
      "Type I Error: 0.0000\n",
      "Type II Error: 0.0526\n",
      "Expexted Cost: 5.2632\n",
      "Mean Cross Validation Accuracy: 0.9133\n"
     ]
    }
   ],
   "source": [
    "## Re-run the model using test dataset\n",
    "knn_model.fit(X_test,y_test) \n",
    "y_pred = knn_model.predict(X_test)\n",
    "\n",
    "cm = confusion_matrix(y_test, y_pred)\n",
    "    \n",
    "TN = cm[0][0]\n",
    "FN = cm[1][0]\n",
    "TP = cm[1][1]\n",
    "FP = cm[0][1]\n",
    "    \n",
    "## type ii error\n",
    "typeii = FN/(TP+FP+FN+TN)\n",
    "typeii_error.append(typeii)\n",
    "    \n",
    "## type i error \n",
    "typei = FP/(TP+FP+FN+TN)\n",
    "typei_error.append(typei)\n",
    "\n",
    "#Expected cost\n",
    "cost_i = typei *1\n",
    "cost_ii = typeii*100\n",
    "exp_cost = cost_i + cost_ii\n",
    "\n",
    "print (confusion_matrix(y_test, y_pred))\n",
    "print ('Type I Error: %.4f' %typei)\n",
    "print ('Type II Error: %.4f' %typeii)\n",
    "print ('Expexted Cost: %.4f' %exp_cost)\n",
    "\n",
    "scores = cross_val_score(knn_model, X_test, y_test, cv=10, scoring='accuracy')\n",
    "print ('Mean Cross Validation Accuracy: %.4f' %scores.mean())"
   ]
  }
 ],
 "metadata": {
  "kernelspec": {
   "display_name": "Python 3 (ipykernel)",
   "language": "python",
   "name": "python3"
  },
  "language_info": {
   "codemirror_mode": {
    "name": "ipython",
    "version": 3
   },
   "file_extension": ".py",
   "mimetype": "text/x-python",
   "name": "python",
   "nbconvert_exporter": "python",
   "pygments_lexer": "ipython3",
   "version": "3.9.7"
  }
 },
 "nbformat": 4,
 "nbformat_minor": 5
}
