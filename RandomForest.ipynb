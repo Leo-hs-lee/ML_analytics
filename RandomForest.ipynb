{
  "cells": [
    {
      "cell_type": "code",
      "execution_count": null,
      "id": "e0d29a7b",
      "metadata": {
        "id": "e0d29a7b"
      },
      "outputs": [],
      "source": [
        "import matplotlib.pyplot as plt\n",
        "%matplotlib inline\n",
        "from matplotlib import pyplot\n",
        "import seaborn as sns\n",
        "\n",
        "import pandas as pd\n",
        "import numpy as np\n",
        "\n",
        "from sklearn import metrics #Import scikit-learn metrics module for accuracy calculation\n",
        "from sklearn.metrics import confusion_matrix, ConfusionMatrixDisplay, classification_report\n",
        "\n",
        "\n",
        "from sklearn.ensemble import RandomForestClassifier\n",
        "\n",
        "from collections import Counter\n",
        "from sklearn.datasets import make_classification\n",
        "from imblearn.under_sampling import RandomUnderSampler\n",
        "\n",
        "from numpy import mean\n",
        "from sklearn.datasets import make_classification\n",
        "from sklearn.model_selection import cross_val_score\n",
        "from sklearn.model_selection import cross_validate\n",
        "from imblearn.under_sampling import RandomUnderSampler\n",
        "from sklearn.model_selection import KFold\n",
        "\n",
        "from sklearn.model_selection import cross_val_predict\n",
        "import warnings\n",
        "warnings.simplefilter(\"ignore\")"
      ]
    },
    {
      "cell_type": "code",
      "execution_count": null,
      "id": "1bfa17f1",
      "metadata": {
        "id": "1bfa17f1",
        "outputId": "8a4313b9-fa1f-431f-fda9-1cbaa765368f"
      },
      "outputs": [
        {
          "data": {
            "text/html": [
              "<div>\n",
              "<style scoped>\n",
              "    .dataframe tbody tr th:only-of-type {\n",
              "        vertical-align: middle;\n",
              "    }\n",
              "\n",
              "    .dataframe tbody tr th {\n",
              "        vertical-align: top;\n",
              "    }\n",
              "\n",
              "    .dataframe thead th {\n",
              "        text-align: right;\n",
              "    }\n",
              "</style>\n",
              "<table border=\"1\" class=\"dataframe\">\n",
              "  <thead>\n",
              "    <tr style=\"text-align: right;\">\n",
              "      <th></th>\n",
              "      <th>id</th>\n",
              "      <th>diagnosis</th>\n",
              "      <th>radius_mean</th>\n",
              "      <th>texture_mean</th>\n",
              "      <th>perimeter_mean</th>\n",
              "      <th>area_mean</th>\n",
              "      <th>smoothness_mean</th>\n",
              "      <th>compactness_mean</th>\n",
              "      <th>concavity_mean</th>\n",
              "      <th>concave points_mean</th>\n",
              "      <th>...</th>\n",
              "      <th>radius_worst</th>\n",
              "      <th>texture_worst</th>\n",
              "      <th>perimeter_worst</th>\n",
              "      <th>area_worst</th>\n",
              "      <th>smoothness_worst</th>\n",
              "      <th>compactness_worst</th>\n",
              "      <th>concavity_worst</th>\n",
              "      <th>concave points_worst</th>\n",
              "      <th>symmetry_worst</th>\n",
              "      <th>fractal_dimension_worst</th>\n",
              "    </tr>\n",
              "  </thead>\n",
              "  <tbody>\n",
              "    <tr>\n",
              "      <th>0</th>\n",
              "      <td>901288</td>\n",
              "      <td>M</td>\n",
              "      <td>20.64</td>\n",
              "      <td>17.35</td>\n",
              "      <td>134.80</td>\n",
              "      <td>1335.0</td>\n",
              "      <td>0.09446</td>\n",
              "      <td>0.1076</td>\n",
              "      <td>0.1527</td>\n",
              "      <td>0.08941</td>\n",
              "      <td>...</td>\n",
              "      <td>25.37</td>\n",
              "      <td>23.17</td>\n",
              "      <td>166.8</td>\n",
              "      <td>1946.0</td>\n",
              "      <td>0.1562</td>\n",
              "      <td>0.3055</td>\n",
              "      <td>0.4159</td>\n",
              "      <td>0.2112</td>\n",
              "      <td>0.2689</td>\n",
              "      <td>0.07055</td>\n",
              "    </tr>\n",
              "    <tr>\n",
              "      <th>1</th>\n",
              "      <td>8860702</td>\n",
              "      <td>M</td>\n",
              "      <td>17.30</td>\n",
              "      <td>17.08</td>\n",
              "      <td>113.00</td>\n",
              "      <td>928.2</td>\n",
              "      <td>0.10080</td>\n",
              "      <td>0.1041</td>\n",
              "      <td>0.1266</td>\n",
              "      <td>0.08353</td>\n",
              "      <td>...</td>\n",
              "      <td>19.85</td>\n",
              "      <td>25.09</td>\n",
              "      <td>130.9</td>\n",
              "      <td>1222.0</td>\n",
              "      <td>0.1416</td>\n",
              "      <td>0.2405</td>\n",
              "      <td>0.3378</td>\n",
              "      <td>0.1857</td>\n",
              "      <td>0.3138</td>\n",
              "      <td>0.08113</td>\n",
              "    </tr>\n",
              "    <tr>\n",
              "      <th>2</th>\n",
              "      <td>877500</td>\n",
              "      <td>M</td>\n",
              "      <td>14.45</td>\n",
              "      <td>20.22</td>\n",
              "      <td>94.49</td>\n",
              "      <td>642.7</td>\n",
              "      <td>0.09872</td>\n",
              "      <td>0.1206</td>\n",
              "      <td>0.1180</td>\n",
              "      <td>0.05980</td>\n",
              "      <td>...</td>\n",
              "      <td>18.33</td>\n",
              "      <td>30.12</td>\n",
              "      <td>117.9</td>\n",
              "      <td>1044.0</td>\n",
              "      <td>0.1552</td>\n",
              "      <td>0.4056</td>\n",
              "      <td>0.4967</td>\n",
              "      <td>0.1838</td>\n",
              "      <td>0.4753</td>\n",
              "      <td>0.10130</td>\n",
              "    </tr>\n",
              "  </tbody>\n",
              "</table>\n",
              "<p>3 rows × 32 columns</p>\n",
              "</div>"
            ],
            "text/plain": [
              "        id diagnosis  radius_mean  texture_mean  perimeter_mean  area_mean  \\\n",
              "0   901288         M        20.64         17.35          134.80     1335.0   \n",
              "1  8860702         M        17.30         17.08          113.00      928.2   \n",
              "2   877500         M        14.45         20.22           94.49      642.7   \n",
              "\n",
              "   smoothness_mean  compactness_mean  concavity_mean  concave points_mean  \\\n",
              "0          0.09446            0.1076          0.1527              0.08941   \n",
              "1          0.10080            0.1041          0.1266              0.08353   \n",
              "2          0.09872            0.1206          0.1180              0.05980   \n",
              "\n",
              "   ...  radius_worst  texture_worst  perimeter_worst  area_worst  \\\n",
              "0  ...         25.37          23.17            166.8      1946.0   \n",
              "1  ...         19.85          25.09            130.9      1222.0   \n",
              "2  ...         18.33          30.12            117.9      1044.0   \n",
              "\n",
              "   smoothness_worst  compactness_worst  concavity_worst  concave points_worst  \\\n",
              "0            0.1562             0.3055           0.4159                0.2112   \n",
              "1            0.1416             0.2405           0.3378                0.1857   \n",
              "2            0.1552             0.4056           0.4967                0.1838   \n",
              "\n",
              "   symmetry_worst  fractal_dimension_worst  \n",
              "0          0.2689                  0.07055  \n",
              "1          0.3138                  0.08113  \n",
              "2          0.4753                  0.10130  \n",
              "\n",
              "[3 rows x 32 columns]"
            ]
          },
          "execution_count": 2,
          "metadata": {},
          "output_type": "execute_result"
        }
      ],
      "source": [
        "df_test = pd.read_csv(\"bc_test_data_10.csv\")\n",
        "df_test.head(3)"
      ]
    },
    {
      "cell_type": "code",
      "execution_count": null,
      "id": "c84f0203",
      "metadata": {
        "id": "c84f0203",
        "outputId": "2b430aea-10c7-428d-9531-f5d72935ea6c"
      },
      "outputs": [
        {
          "data": {
            "text/html": [
              "<div>\n",
              "<style scoped>\n",
              "    .dataframe tbody tr th:only-of-type {\n",
              "        vertical-align: middle;\n",
              "    }\n",
              "\n",
              "    .dataframe tbody tr th {\n",
              "        vertical-align: top;\n",
              "    }\n",
              "\n",
              "    .dataframe thead th {\n",
              "        text-align: right;\n",
              "    }\n",
              "</style>\n",
              "<table border=\"1\" class=\"dataframe\">\n",
              "  <thead>\n",
              "    <tr style=\"text-align: right;\">\n",
              "      <th></th>\n",
              "      <th>id</th>\n",
              "      <th>diagnosis</th>\n",
              "      <th>radius_mean</th>\n",
              "      <th>texture_mean</th>\n",
              "      <th>perimeter_mean</th>\n",
              "      <th>area_mean</th>\n",
              "      <th>smoothness_mean</th>\n",
              "      <th>compactness_mean</th>\n",
              "      <th>concavity_mean</th>\n",
              "      <th>concave points_mean</th>\n",
              "      <th>...</th>\n",
              "      <th>radius_worst</th>\n",
              "      <th>texture_worst</th>\n",
              "      <th>perimeter_worst</th>\n",
              "      <th>area_worst</th>\n",
              "      <th>smoothness_worst</th>\n",
              "      <th>compactness_worst</th>\n",
              "      <th>concavity_worst</th>\n",
              "      <th>concave points_worst</th>\n",
              "      <th>symmetry_worst</th>\n",
              "      <th>fractal_dimension_worst</th>\n",
              "    </tr>\n",
              "  </thead>\n",
              "  <tbody>\n",
              "    <tr>\n",
              "      <th>0</th>\n",
              "      <td>842302</td>\n",
              "      <td>M</td>\n",
              "      <td>17.99</td>\n",
              "      <td>10.38</td>\n",
              "      <td>122.8</td>\n",
              "      <td>1001.0</td>\n",
              "      <td>0.11840</td>\n",
              "      <td>0.27760</td>\n",
              "      <td>0.3001</td>\n",
              "      <td>0.14710</td>\n",
              "      <td>...</td>\n",
              "      <td>25.38</td>\n",
              "      <td>17.33</td>\n",
              "      <td>184.6</td>\n",
              "      <td>2019.0</td>\n",
              "      <td>0.1622</td>\n",
              "      <td>0.6656</td>\n",
              "      <td>0.7119</td>\n",
              "      <td>0.2654</td>\n",
              "      <td>0.4601</td>\n",
              "      <td>0.11890</td>\n",
              "    </tr>\n",
              "    <tr>\n",
              "      <th>1</th>\n",
              "      <td>842517</td>\n",
              "      <td>M</td>\n",
              "      <td>20.57</td>\n",
              "      <td>17.77</td>\n",
              "      <td>132.9</td>\n",
              "      <td>1326.0</td>\n",
              "      <td>0.08474</td>\n",
              "      <td>0.07864</td>\n",
              "      <td>0.0869</td>\n",
              "      <td>0.07017</td>\n",
              "      <td>...</td>\n",
              "      <td>24.99</td>\n",
              "      <td>23.41</td>\n",
              "      <td>158.8</td>\n",
              "      <td>1956.0</td>\n",
              "      <td>0.1238</td>\n",
              "      <td>0.1866</td>\n",
              "      <td>0.2416</td>\n",
              "      <td>0.1860</td>\n",
              "      <td>0.2750</td>\n",
              "      <td>0.08902</td>\n",
              "    </tr>\n",
              "    <tr>\n",
              "      <th>2</th>\n",
              "      <td>84300903</td>\n",
              "      <td>M</td>\n",
              "      <td>19.69</td>\n",
              "      <td>21.25</td>\n",
              "      <td>130.0</td>\n",
              "      <td>1203.0</td>\n",
              "      <td>0.10960</td>\n",
              "      <td>0.15990</td>\n",
              "      <td>0.1974</td>\n",
              "      <td>0.12790</td>\n",
              "      <td>...</td>\n",
              "      <td>23.57</td>\n",
              "      <td>25.53</td>\n",
              "      <td>152.5</td>\n",
              "      <td>1709.0</td>\n",
              "      <td>0.1444</td>\n",
              "      <td>0.4245</td>\n",
              "      <td>0.4504</td>\n",
              "      <td>0.2430</td>\n",
              "      <td>0.3613</td>\n",
              "      <td>0.08758</td>\n",
              "    </tr>\n",
              "  </tbody>\n",
              "</table>\n",
              "<p>3 rows × 32 columns</p>\n",
              "</div>"
            ],
            "text/plain": [
              "         id diagnosis  radius_mean  texture_mean  perimeter_mean  area_mean  \\\n",
              "0    842302         M        17.99         10.38           122.8     1001.0   \n",
              "1    842517         M        20.57         17.77           132.9     1326.0   \n",
              "2  84300903         M        19.69         21.25           130.0     1203.0   \n",
              "\n",
              "   smoothness_mean  compactness_mean  concavity_mean  concave points_mean  \\\n",
              "0          0.11840           0.27760          0.3001              0.14710   \n",
              "1          0.08474           0.07864          0.0869              0.07017   \n",
              "2          0.10960           0.15990          0.1974              0.12790   \n",
              "\n",
              "   ...  radius_worst  texture_worst  perimeter_worst  area_worst  \\\n",
              "0  ...         25.38          17.33            184.6      2019.0   \n",
              "1  ...         24.99          23.41            158.8      1956.0   \n",
              "2  ...         23.57          25.53            152.5      1709.0   \n",
              "\n",
              "   smoothness_worst  compactness_worst  concavity_worst  concave points_worst  \\\n",
              "0            0.1622             0.6656           0.7119                0.2654   \n",
              "1            0.1238             0.1866           0.2416                0.1860   \n",
              "2            0.1444             0.4245           0.4504                0.2430   \n",
              "\n",
              "   symmetry_worst  fractal_dimension_worst  \n",
              "0          0.4601                  0.11890  \n",
              "1          0.2750                  0.08902  \n",
              "2          0.3613                  0.08758  \n",
              "\n",
              "[3 rows x 32 columns]"
            ]
          },
          "execution_count": 3,
          "metadata": {},
          "output_type": "execute_result"
        }
      ],
      "source": [
        "df = pd.read_csv(\"bc_data_90.csv\")\n",
        "df.head(3)"
      ]
    },
    {
      "cell_type": "code",
      "execution_count": null,
      "id": "4401bbb0",
      "metadata": {
        "id": "4401bbb0",
        "outputId": "fe4fcb20-fddd-4424-b9b2-ae5d98c268c1"
      },
      "outputs": [
        {
          "name": "stdout",
          "output_type": "stream",
          "text": [
            "(512, 32)\n",
            "B    319\n",
            "M    193\n",
            "Name: diagnosis, dtype: int64\n"
          ]
        }
      ],
      "source": [
        "print(df.shape)\n",
        "\n",
        "print(df.diagnosis.value_counts())"
      ]
    },
    {
      "cell_type": "code",
      "execution_count": null,
      "id": "baaaf474",
      "metadata": {
        "id": "baaaf474",
        "outputId": "21805bad-5630-4991-92cb-92383ff1a359"
      },
      "outputs": [
        {
          "data": {
            "text/html": [
              "<div>\n",
              "<style scoped>\n",
              "    .dataframe tbody tr th:only-of-type {\n",
              "        vertical-align: middle;\n",
              "    }\n",
              "\n",
              "    .dataframe tbody tr th {\n",
              "        vertical-align: top;\n",
              "    }\n",
              "\n",
              "    .dataframe thead th {\n",
              "        text-align: right;\n",
              "    }\n",
              "</style>\n",
              "<table border=\"1\" class=\"dataframe\">\n",
              "  <thead>\n",
              "    <tr style=\"text-align: right;\">\n",
              "      <th></th>\n",
              "      <th>id</th>\n",
              "      <th>diagnosis</th>\n",
              "      <th>radius_mean</th>\n",
              "      <th>texture_mean</th>\n",
              "      <th>perimeter_mean</th>\n",
              "      <th>area_mean</th>\n",
              "      <th>smoothness_mean</th>\n",
              "      <th>compactness_mean</th>\n",
              "      <th>concavity_mean</th>\n",
              "      <th>concave points_mean</th>\n",
              "      <th>...</th>\n",
              "      <th>radius_worst</th>\n",
              "      <th>texture_worst</th>\n",
              "      <th>perimeter_worst</th>\n",
              "      <th>area_worst</th>\n",
              "      <th>smoothness_worst</th>\n",
              "      <th>compactness_worst</th>\n",
              "      <th>concavity_worst</th>\n",
              "      <th>concave points_worst</th>\n",
              "      <th>symmetry_worst</th>\n",
              "      <th>fractal_dimension_worst</th>\n",
              "    </tr>\n",
              "  </thead>\n",
              "  <tbody>\n",
              "    <tr>\n",
              "      <th>0</th>\n",
              "      <td>842302</td>\n",
              "      <td>1</td>\n",
              "      <td>17.99</td>\n",
              "      <td>10.38</td>\n",
              "      <td>122.80</td>\n",
              "      <td>1001.0</td>\n",
              "      <td>0.11840</td>\n",
              "      <td>0.27760</td>\n",
              "      <td>0.3001</td>\n",
              "      <td>0.14710</td>\n",
              "      <td>...</td>\n",
              "      <td>25.38</td>\n",
              "      <td>17.33</td>\n",
              "      <td>184.60</td>\n",
              "      <td>2019.0</td>\n",
              "      <td>0.1622</td>\n",
              "      <td>0.6656</td>\n",
              "      <td>0.7119</td>\n",
              "      <td>0.2654</td>\n",
              "      <td>0.4601</td>\n",
              "      <td>0.11890</td>\n",
              "    </tr>\n",
              "    <tr>\n",
              "      <th>1</th>\n",
              "      <td>842517</td>\n",
              "      <td>1</td>\n",
              "      <td>20.57</td>\n",
              "      <td>17.77</td>\n",
              "      <td>132.90</td>\n",
              "      <td>1326.0</td>\n",
              "      <td>0.08474</td>\n",
              "      <td>0.07864</td>\n",
              "      <td>0.0869</td>\n",
              "      <td>0.07017</td>\n",
              "      <td>...</td>\n",
              "      <td>24.99</td>\n",
              "      <td>23.41</td>\n",
              "      <td>158.80</td>\n",
              "      <td>1956.0</td>\n",
              "      <td>0.1238</td>\n",
              "      <td>0.1866</td>\n",
              "      <td>0.2416</td>\n",
              "      <td>0.1860</td>\n",
              "      <td>0.2750</td>\n",
              "      <td>0.08902</td>\n",
              "    </tr>\n",
              "    <tr>\n",
              "      <th>2</th>\n",
              "      <td>84300903</td>\n",
              "      <td>1</td>\n",
              "      <td>19.69</td>\n",
              "      <td>21.25</td>\n",
              "      <td>130.00</td>\n",
              "      <td>1203.0</td>\n",
              "      <td>0.10960</td>\n",
              "      <td>0.15990</td>\n",
              "      <td>0.1974</td>\n",
              "      <td>0.12790</td>\n",
              "      <td>...</td>\n",
              "      <td>23.57</td>\n",
              "      <td>25.53</td>\n",
              "      <td>152.50</td>\n",
              "      <td>1709.0</td>\n",
              "      <td>0.1444</td>\n",
              "      <td>0.4245</td>\n",
              "      <td>0.4504</td>\n",
              "      <td>0.2430</td>\n",
              "      <td>0.3613</td>\n",
              "      <td>0.08758</td>\n",
              "    </tr>\n",
              "    <tr>\n",
              "      <th>3</th>\n",
              "      <td>84348301</td>\n",
              "      <td>1</td>\n",
              "      <td>11.42</td>\n",
              "      <td>20.38</td>\n",
              "      <td>77.58</td>\n",
              "      <td>386.1</td>\n",
              "      <td>0.14250</td>\n",
              "      <td>0.28390</td>\n",
              "      <td>0.2414</td>\n",
              "      <td>0.10520</td>\n",
              "      <td>...</td>\n",
              "      <td>14.91</td>\n",
              "      <td>26.50</td>\n",
              "      <td>98.87</td>\n",
              "      <td>567.7</td>\n",
              "      <td>0.2098</td>\n",
              "      <td>0.8663</td>\n",
              "      <td>0.6869</td>\n",
              "      <td>0.2575</td>\n",
              "      <td>0.6638</td>\n",
              "      <td>0.17300</td>\n",
              "    </tr>\n",
              "    <tr>\n",
              "      <th>4</th>\n",
              "      <td>84358402</td>\n",
              "      <td>1</td>\n",
              "      <td>20.29</td>\n",
              "      <td>14.34</td>\n",
              "      <td>135.10</td>\n",
              "      <td>1297.0</td>\n",
              "      <td>0.10030</td>\n",
              "      <td>0.13280</td>\n",
              "      <td>0.1980</td>\n",
              "      <td>0.10430</td>\n",
              "      <td>...</td>\n",
              "      <td>22.54</td>\n",
              "      <td>16.67</td>\n",
              "      <td>152.20</td>\n",
              "      <td>1575.0</td>\n",
              "      <td>0.1374</td>\n",
              "      <td>0.2050</td>\n",
              "      <td>0.4000</td>\n",
              "      <td>0.1625</td>\n",
              "      <td>0.2364</td>\n",
              "      <td>0.07678</td>\n",
              "    </tr>\n",
              "  </tbody>\n",
              "</table>\n",
              "<p>5 rows × 32 columns</p>\n",
              "</div>"
            ],
            "text/plain": [
              "         id  diagnosis  radius_mean  texture_mean  perimeter_mean  area_mean  \\\n",
              "0    842302          1        17.99         10.38          122.80     1001.0   \n",
              "1    842517          1        20.57         17.77          132.90     1326.0   \n",
              "2  84300903          1        19.69         21.25          130.00     1203.0   \n",
              "3  84348301          1        11.42         20.38           77.58      386.1   \n",
              "4  84358402          1        20.29         14.34          135.10     1297.0   \n",
              "\n",
              "   smoothness_mean  compactness_mean  concavity_mean  concave points_mean  \\\n",
              "0          0.11840           0.27760          0.3001              0.14710   \n",
              "1          0.08474           0.07864          0.0869              0.07017   \n",
              "2          0.10960           0.15990          0.1974              0.12790   \n",
              "3          0.14250           0.28390          0.2414              0.10520   \n",
              "4          0.10030           0.13280          0.1980              0.10430   \n",
              "\n",
              "   ...  radius_worst  texture_worst  perimeter_worst  area_worst  \\\n",
              "0  ...         25.38          17.33           184.60      2019.0   \n",
              "1  ...         24.99          23.41           158.80      1956.0   \n",
              "2  ...         23.57          25.53           152.50      1709.0   \n",
              "3  ...         14.91          26.50            98.87       567.7   \n",
              "4  ...         22.54          16.67           152.20      1575.0   \n",
              "\n",
              "   smoothness_worst  compactness_worst  concavity_worst  concave points_worst  \\\n",
              "0            0.1622             0.6656           0.7119                0.2654   \n",
              "1            0.1238             0.1866           0.2416                0.1860   \n",
              "2            0.1444             0.4245           0.4504                0.2430   \n",
              "3            0.2098             0.8663           0.6869                0.2575   \n",
              "4            0.1374             0.2050           0.4000                0.1625   \n",
              "\n",
              "   symmetry_worst  fractal_dimension_worst  \n",
              "0          0.4601                  0.11890  \n",
              "1          0.2750                  0.08902  \n",
              "2          0.3613                  0.08758  \n",
              "3          0.6638                  0.17300  \n",
              "4          0.2364                  0.07678  \n",
              "\n",
              "[5 rows x 32 columns]"
            ]
          },
          "execution_count": 6,
          "metadata": {},
          "output_type": "execute_result"
        }
      ],
      "source": [
        "df.diagnosis = df.diagnosis.replace({'M':1, 'B':0})\n",
        "df.head()"
      ]
    },
    {
      "cell_type": "code",
      "execution_count": null,
      "id": "a015f348",
      "metadata": {
        "id": "a015f348"
      },
      "outputs": [],
      "source": [
        "df.drop(\"id\", axis = 1, inplace = True)"
      ]
    },
    {
      "cell_type": "code",
      "execution_count": null,
      "id": "94eb22a8",
      "metadata": {
        "id": "94eb22a8"
      },
      "outputs": [],
      "source": [
        "# split the data set into independent (X) and dependent (Y) data sets\n",
        "X = df.iloc[:, 1:]\n",
        "y = df.iloc[:, 0]"
      ]
    },
    {
      "cell_type": "code",
      "execution_count": null,
      "id": "cd6c06b3",
      "metadata": {
        "id": "cd6c06b3"
      },
      "outputs": [],
      "source": [
        "RF = RandomForestClassifier(criterion='entropy')"
      ]
    },
    {
      "cell_type": "code",
      "execution_count": null,
      "id": "2c5911fd",
      "metadata": {
        "id": "2c5911fd"
      },
      "outputs": [],
      "source": [
        "cv = KFold(n_splits=10)"
      ]
    },
    {
      "cell_type": "code",
      "execution_count": null,
      "id": "b7f62304",
      "metadata": {
        "id": "b7f62304"
      },
      "outputs": [],
      "source": [
        "y_pred = cross_val_predict(RF, X, y, cv=cv)"
      ]
    },
    {
      "cell_type": "code",
      "execution_count": null,
      "id": "ab2e5ddb",
      "metadata": {
        "id": "ab2e5ddb",
        "outputId": "de8e2fe7-e2df-4a15-a44a-8690414012eb"
      },
      "outputs": [
        {
          "data": {
            "text/plain": [
              "array([[312,   7],\n",
              "       [ 14, 179]], dtype=int64)"
            ]
          },
          "execution_count": 28,
          "metadata": {},
          "output_type": "execute_result"
        }
      ],
      "source": [
        "cm = confusion_matrix(y, y_pred)\n",
        "cm"
      ]
    },
    {
      "cell_type": "code",
      "execution_count": null,
      "id": "89fa52a1",
      "metadata": {
        "id": "89fa52a1",
        "outputId": "bc33125f-1f42-4b1a-ff7f-7f1255904830"
      },
      "outputs": [
        {
          "data": {
            "text/plain": [
              "Text(0.5, 15.0, 'Predicted Values')"
            ]
          },
          "execution_count": 30,
          "metadata": {},
          "output_type": "execute_result"
        },
        {
          "data": {
            "image/png": "[encoded data removed]",
            "text/plain": [
              "<Figure size 432x288 with 2 Axes>"
            ]
          },
          "metadata": {
            "needs_background": "light"
          },
          "output_type": "display_data"
        }
      ],
      "source": [
        "#plt.figure(figsize=(12,6))\n",
        "plt.title('Confusion Matrix')\n",
        "sns.heatmap(cm, annot=True,fmt='d', cmap='Greens')\n",
        "plt.ylabel('Actual Values')\n",
        "plt.xlabel('Predicted Values')"
      ]
    },
    {
      "cell_type": "code",
      "execution_count": null,
      "id": "23be3456",
      "metadata": {
        "id": "23be3456"
      },
      "outputs": [],
      "source": [
        "from sklearn.model_selection import cross_validate\n",
        "cv_re = cross_validate(RF, X,y, cv=10, return_estimator=True)\n",
        "sum = [0] * 30\n",
        "for model in cv_re['estimator']:\n",
        "    sum = sum + model.feature_importances_\n",
        "avg = sum/10"
      ]
    },
    {
      "cell_type": "code",
      "execution_count": null,
      "id": "62f7b4af",
      "metadata": {
        "id": "62f7b4af",
        "outputId": "7b108e00-8043-4278-cf39-0192da8b1f2e"
      },
      "outputs": [
        {
          "data": {
            "text/plain": [
              "array([0.03707648, 0.01852089, 0.04012955, 0.04479128, 0.00766168,\n",
              "       0.01273131, 0.04319592, 0.09063504, 0.00442227, 0.00433404,\n",
              "       0.01624636, 0.00494027, 0.01303031, 0.03425376, 0.00507515,\n",
              "       0.00584012, 0.00598177, 0.0076566 , 0.00591828, 0.00598504,\n",
              "       0.09366324, 0.02562127, 0.12976062, 0.10939452, 0.01751869,\n",
              "       0.01748775, 0.04113275, 0.13788289, 0.01012352, 0.00898863])"
            ]
          },
          "execution_count": 32,
          "metadata": {},
          "output_type": "execute_result"
        }
      ],
      "source": [
        "avg"
      ]
    },
    {
      "cell_type": "code",
      "execution_count": null,
      "id": "37f58d4a",
      "metadata": {
        "id": "37f58d4a",
        "outputId": "fa872c73-a049-4432-9924-ac08c2c26a78"
      },
      "outputs": [
        {
          "data": {
            "text/html": [
              "<div>\n",
              "<style scoped>\n",
              "    .dataframe tbody tr th:only-of-type {\n",
              "        vertical-align: middle;\n",
              "    }\n",
              "\n",
              "    .dataframe tbody tr th {\n",
              "        vertical-align: top;\n",
              "    }\n",
              "\n",
              "    .dataframe thead th {\n",
              "        text-align: right;\n",
              "    }\n",
              "</style>\n",
              "<table border=\"1\" class=\"dataframe\">\n",
              "  <thead>\n",
              "    <tr style=\"text-align: right;\">\n",
              "      <th></th>\n",
              "      <th>feature</th>\n",
              "      <th>feature importance</th>\n",
              "    </tr>\n",
              "  </thead>\n",
              "  <tbody>\n",
              "    <tr>\n",
              "      <th>0</th>\n",
              "      <td>radius_mean</td>\n",
              "      <td>0.037076</td>\n",
              "    </tr>\n",
              "    <tr>\n",
              "      <th>1</th>\n",
              "      <td>texture_mean</td>\n",
              "      <td>0.018521</td>\n",
              "    </tr>\n",
              "    <tr>\n",
              "      <th>2</th>\n",
              "      <td>perimeter_mean</td>\n",
              "      <td>0.040130</td>\n",
              "    </tr>\n",
              "    <tr>\n",
              "      <th>3</th>\n",
              "      <td>area_mean</td>\n",
              "      <td>0.044791</td>\n",
              "    </tr>\n",
              "    <tr>\n",
              "      <th>4</th>\n",
              "      <td>smoothness_mean</td>\n",
              "      <td>0.007662</td>\n",
              "    </tr>\n",
              "    <tr>\n",
              "      <th>5</th>\n",
              "      <td>compactness_mean</td>\n",
              "      <td>0.012731</td>\n",
              "    </tr>\n",
              "    <tr>\n",
              "      <th>6</th>\n",
              "      <td>concavity_mean</td>\n",
              "      <td>0.043196</td>\n",
              "    </tr>\n",
              "    <tr>\n",
              "      <th>7</th>\n",
              "      <td>concave points_mean</td>\n",
              "      <td>0.090635</td>\n",
              "    </tr>\n",
              "    <tr>\n",
              "      <th>8</th>\n",
              "      <td>symmetry_mean</td>\n",
              "      <td>0.004422</td>\n",
              "    </tr>\n",
              "    <tr>\n",
              "      <th>9</th>\n",
              "      <td>fractal_dimension_mean</td>\n",
              "      <td>0.004334</td>\n",
              "    </tr>\n",
              "    <tr>\n",
              "      <th>10</th>\n",
              "      <td>radius_se</td>\n",
              "      <td>0.016246</td>\n",
              "    </tr>\n",
              "    <tr>\n",
              "      <th>11</th>\n",
              "      <td>texture_se</td>\n",
              "      <td>0.004940</td>\n",
              "    </tr>\n",
              "    <tr>\n",
              "      <th>12</th>\n",
              "      <td>perimeter_se</td>\n",
              "      <td>0.013030</td>\n",
              "    </tr>\n",
              "    <tr>\n",
              "      <th>13</th>\n",
              "      <td>area_se</td>\n",
              "      <td>0.034254</td>\n",
              "    </tr>\n",
              "    <tr>\n",
              "      <th>14</th>\n",
              "      <td>smoothness_se</td>\n",
              "      <td>0.005075</td>\n",
              "    </tr>\n",
              "    <tr>\n",
              "      <th>15</th>\n",
              "      <td>compactness_se</td>\n",
              "      <td>0.005840</td>\n",
              "    </tr>\n",
              "    <tr>\n",
              "      <th>16</th>\n",
              "      <td>concavity_se</td>\n",
              "      <td>0.005982</td>\n",
              "    </tr>\n",
              "    <tr>\n",
              "      <th>17</th>\n",
              "      <td>concave points_se</td>\n",
              "      <td>0.007657</td>\n",
              "    </tr>\n",
              "    <tr>\n",
              "      <th>18</th>\n",
              "      <td>symmetry_se</td>\n",
              "      <td>0.005918</td>\n",
              "    </tr>\n",
              "    <tr>\n",
              "      <th>19</th>\n",
              "      <td>fractal_dimension_se</td>\n",
              "      <td>0.005985</td>\n",
              "    </tr>\n",
              "    <tr>\n",
              "      <th>20</th>\n",
              "      <td>radius_worst</td>\n",
              "      <td>0.093663</td>\n",
              "    </tr>\n",
              "    <tr>\n",
              "      <th>21</th>\n",
              "      <td>texture_worst</td>\n",
              "      <td>0.025621</td>\n",
              "    </tr>\n",
              "    <tr>\n",
              "      <th>22</th>\n",
              "      <td>perimeter_worst</td>\n",
              "      <td>0.129761</td>\n",
              "    </tr>\n",
              "    <tr>\n",
              "      <th>23</th>\n",
              "      <td>area_worst</td>\n",
              "      <td>0.109395</td>\n",
              "    </tr>\n",
              "    <tr>\n",
              "      <th>24</th>\n",
              "      <td>smoothness_worst</td>\n",
              "      <td>0.017519</td>\n",
              "    </tr>\n",
              "    <tr>\n",
              "      <th>25</th>\n",
              "      <td>compactness_worst</td>\n",
              "      <td>0.017488</td>\n",
              "    </tr>\n",
              "    <tr>\n",
              "      <th>26</th>\n",
              "      <td>concavity_worst</td>\n",
              "      <td>0.041133</td>\n",
              "    </tr>\n",
              "    <tr>\n",
              "      <th>27</th>\n",
              "      <td>concave points_worst</td>\n",
              "      <td>0.137883</td>\n",
              "    </tr>\n",
              "    <tr>\n",
              "      <th>28</th>\n",
              "      <td>symmetry_worst</td>\n",
              "      <td>0.010124</td>\n",
              "    </tr>\n",
              "    <tr>\n",
              "      <th>29</th>\n",
              "      <td>fractal_dimension_worst</td>\n",
              "      <td>0.008989</td>\n",
              "    </tr>\n",
              "  </tbody>\n",
              "</table>\n",
              "</div>"
            ],
            "text/plain": [
              "                    feature  feature importance\n",
              "0               radius_mean            0.037076\n",
              "1              texture_mean            0.018521\n",
              "2            perimeter_mean            0.040130\n",
              "3                 area_mean            0.044791\n",
              "4           smoothness_mean            0.007662\n",
              "5          compactness_mean            0.012731\n",
              "6            concavity_mean            0.043196\n",
              "7       concave points_mean            0.090635\n",
              "8             symmetry_mean            0.004422\n",
              "9    fractal_dimension_mean            0.004334\n",
              "10                radius_se            0.016246\n",
              "11               texture_se            0.004940\n",
              "12             perimeter_se            0.013030\n",
              "13                  area_se            0.034254\n",
              "14            smoothness_se            0.005075\n",
              "15           compactness_se            0.005840\n",
              "16             concavity_se            0.005982\n",
              "17        concave points_se            0.007657\n",
              "18              symmetry_se            0.005918\n",
              "19     fractal_dimension_se            0.005985\n",
              "20             radius_worst            0.093663\n",
              "21            texture_worst            0.025621\n",
              "22          perimeter_worst            0.129761\n",
              "23               area_worst            0.109395\n",
              "24         smoothness_worst            0.017519\n",
              "25        compactness_worst            0.017488\n",
              "26          concavity_worst            0.041133\n",
              "27     concave points_worst            0.137883\n",
              "28           symmetry_worst            0.010124\n",
              "29  fractal_dimension_worst            0.008989"
            ]
          },
          "execution_count": 79,
          "metadata": {},
          "output_type": "execute_result"
        }
      ],
      "source": [
        "fi = avg.tolist()\n",
        "cols= df.columns[1:].tolist()\n",
        "dic = {'feature':cols, 'feature importance': avg}\n",
        "df_fi = pd.DataFrame(dic)\n",
        "df_fi"
      ]
    },
    {
      "cell_type": "code",
      "execution_count": null,
      "id": "3621a12c",
      "metadata": {
        "id": "3621a12c"
      },
      "outputs": [],
      "source": [
        "df_fi.sort_values('feature importance',ascending=False, inplace=True)"
      ]
    },
    {
      "cell_type": "code",
      "execution_count": null,
      "id": "0a28dfb0",
      "metadata": {
        "id": "0a28dfb0",
        "outputId": "00fb1c20-8de5-458f-9a4c-cc2669505ee1"
      },
      "outputs": [
        {
          "data": {
            "text/html": [
              "<div>\n",
              "<style scoped>\n",
              "    .dataframe tbody tr th:only-of-type {\n",
              "        vertical-align: middle;\n",
              "    }\n",
              "\n",
              "    .dataframe tbody tr th {\n",
              "        vertical-align: top;\n",
              "    }\n",
              "\n",
              "    .dataframe thead th {\n",
              "        text-align: right;\n",
              "    }\n",
              "</style>\n",
              "<table border=\"1\" class=\"dataframe\">\n",
              "  <thead>\n",
              "    <tr style=\"text-align: right;\">\n",
              "      <th></th>\n",
              "      <th>feature</th>\n",
              "      <th>feature importance</th>\n",
              "    </tr>\n",
              "  </thead>\n",
              "  <tbody>\n",
              "    <tr>\n",
              "      <th>27</th>\n",
              "      <td>concave points_worst</td>\n",
              "      <td>0.137883</td>\n",
              "    </tr>\n",
              "    <tr>\n",
              "      <th>22</th>\n",
              "      <td>perimeter_worst</td>\n",
              "      <td>0.129761</td>\n",
              "    </tr>\n",
              "    <tr>\n",
              "      <th>23</th>\n",
              "      <td>area_worst</td>\n",
              "      <td>0.109395</td>\n",
              "    </tr>\n",
              "    <tr>\n",
              "      <th>20</th>\n",
              "      <td>radius_worst</td>\n",
              "      <td>0.093663</td>\n",
              "    </tr>\n",
              "    <tr>\n",
              "      <th>7</th>\n",
              "      <td>concave points_mean</td>\n",
              "      <td>0.090635</td>\n",
              "    </tr>\n",
              "    <tr>\n",
              "      <th>3</th>\n",
              "      <td>area_mean</td>\n",
              "      <td>0.044791</td>\n",
              "    </tr>\n",
              "    <tr>\n",
              "      <th>6</th>\n",
              "      <td>concavity_mean</td>\n",
              "      <td>0.043196</td>\n",
              "    </tr>\n",
              "    <tr>\n",
              "      <th>26</th>\n",
              "      <td>concavity_worst</td>\n",
              "      <td>0.041133</td>\n",
              "    </tr>\n",
              "    <tr>\n",
              "      <th>2</th>\n",
              "      <td>perimeter_mean</td>\n",
              "      <td>0.040130</td>\n",
              "    </tr>\n",
              "    <tr>\n",
              "      <th>0</th>\n",
              "      <td>radius_mean</td>\n",
              "      <td>0.037076</td>\n",
              "    </tr>\n",
              "    <tr>\n",
              "      <th>13</th>\n",
              "      <td>area_se</td>\n",
              "      <td>0.034254</td>\n",
              "    </tr>\n",
              "    <tr>\n",
              "      <th>21</th>\n",
              "      <td>texture_worst</td>\n",
              "      <td>0.025621</td>\n",
              "    </tr>\n",
              "    <tr>\n",
              "      <th>1</th>\n",
              "      <td>texture_mean</td>\n",
              "      <td>0.018521</td>\n",
              "    </tr>\n",
              "    <tr>\n",
              "      <th>24</th>\n",
              "      <td>smoothness_worst</td>\n",
              "      <td>0.017519</td>\n",
              "    </tr>\n",
              "    <tr>\n",
              "      <th>25</th>\n",
              "      <td>compactness_worst</td>\n",
              "      <td>0.017488</td>\n",
              "    </tr>\n",
              "    <tr>\n",
              "      <th>10</th>\n",
              "      <td>radius_se</td>\n",
              "      <td>0.016246</td>\n",
              "    </tr>\n",
              "    <tr>\n",
              "      <th>12</th>\n",
              "      <td>perimeter_se</td>\n",
              "      <td>0.013030</td>\n",
              "    </tr>\n",
              "    <tr>\n",
              "      <th>5</th>\n",
              "      <td>compactness_mean</td>\n",
              "      <td>0.012731</td>\n",
              "    </tr>\n",
              "    <tr>\n",
              "      <th>28</th>\n",
              "      <td>symmetry_worst</td>\n",
              "      <td>0.010124</td>\n",
              "    </tr>\n",
              "    <tr>\n",
              "      <th>29</th>\n",
              "      <td>fractal_dimension_worst</td>\n",
              "      <td>0.008989</td>\n",
              "    </tr>\n",
              "    <tr>\n",
              "      <th>4</th>\n",
              "      <td>smoothness_mean</td>\n",
              "      <td>0.007662</td>\n",
              "    </tr>\n",
              "    <tr>\n",
              "      <th>17</th>\n",
              "      <td>concave points_se</td>\n",
              "      <td>0.007657</td>\n",
              "    </tr>\n",
              "    <tr>\n",
              "      <th>19</th>\n",
              "      <td>fractal_dimension_se</td>\n",
              "      <td>0.005985</td>\n",
              "    </tr>\n",
              "    <tr>\n",
              "      <th>16</th>\n",
              "      <td>concavity_se</td>\n",
              "      <td>0.005982</td>\n",
              "    </tr>\n",
              "    <tr>\n",
              "      <th>18</th>\n",
              "      <td>symmetry_se</td>\n",
              "      <td>0.005918</td>\n",
              "    </tr>\n",
              "    <tr>\n",
              "      <th>15</th>\n",
              "      <td>compactness_se</td>\n",
              "      <td>0.005840</td>\n",
              "    </tr>\n",
              "    <tr>\n",
              "      <th>14</th>\n",
              "      <td>smoothness_se</td>\n",
              "      <td>0.005075</td>\n",
              "    </tr>\n",
              "    <tr>\n",
              "      <th>11</th>\n",
              "      <td>texture_se</td>\n",
              "      <td>0.004940</td>\n",
              "    </tr>\n",
              "    <tr>\n",
              "      <th>8</th>\n",
              "      <td>symmetry_mean</td>\n",
              "      <td>0.004422</td>\n",
              "    </tr>\n",
              "    <tr>\n",
              "      <th>9</th>\n",
              "      <td>fractal_dimension_mean</td>\n",
              "      <td>0.004334</td>\n",
              "    </tr>\n",
              "  </tbody>\n",
              "</table>\n",
              "</div>"
            ],
            "text/plain": [
              "                    feature  feature importance\n",
              "27     concave points_worst            0.137883\n",
              "22          perimeter_worst            0.129761\n",
              "23               area_worst            0.109395\n",
              "20             radius_worst            0.093663\n",
              "7       concave points_mean            0.090635\n",
              "3                 area_mean            0.044791\n",
              "6            concavity_mean            0.043196\n",
              "26          concavity_worst            0.041133\n",
              "2            perimeter_mean            0.040130\n",
              "0               radius_mean            0.037076\n",
              "13                  area_se            0.034254\n",
              "21            texture_worst            0.025621\n",
              "1              texture_mean            0.018521\n",
              "24         smoothness_worst            0.017519\n",
              "25        compactness_worst            0.017488\n",
              "10                radius_se            0.016246\n",
              "12             perimeter_se            0.013030\n",
              "5          compactness_mean            0.012731\n",
              "28           symmetry_worst            0.010124\n",
              "29  fractal_dimension_worst            0.008989\n",
              "4           smoothness_mean            0.007662\n",
              "17        concave points_se            0.007657\n",
              "19     fractal_dimension_se            0.005985\n",
              "16             concavity_se            0.005982\n",
              "18              symmetry_se            0.005918\n",
              "15           compactness_se            0.005840\n",
              "14            smoothness_se            0.005075\n",
              "11               texture_se            0.004940\n",
              "8             symmetry_mean            0.004422\n",
              "9    fractal_dimension_mean            0.004334"
            ]
          },
          "execution_count": 44,
          "metadata": {},
          "output_type": "execute_result"
        }
      ],
      "source": [
        "df_fi"
      ]
    },
    {
      "cell_type": "markdown",
      "id": "3b2fdbcf",
      "metadata": {
        "id": "3b2fdbcf"
      },
      "source": [
        "There are three versions of NearMiss algorithms.\n",
        "“NearMiss-1 selects the positive samples for which the average distance to the N closest samples of the negative class is the smallest.”\n",
        "“NearMiss-2 selects the positive samples for which the average distance to the N farthest samples of the negative class is the smallest.”\n",
        "“NearMiss-3 is a 2-steps algorithm. First, for each negative sample, their M nearest-neighbors will be kept. Then, the positive samples selected are the one for which the average distance to the N nearest-neighbors is the largest.”"
      ]
    },
    {
      "cell_type": "code",
      "execution_count": null,
      "id": "0aea0020",
      "metadata": {
        "id": "0aea0020",
        "outputId": "0b73da9b-b7bc-4e63-d447-b0187a5062e6"
      },
      "outputs": [
        {
          "name": "stdout",
          "output_type": "stream",
          "text": [
            "[(0, 193), (1, 193)]\n"
          ]
        }
      ],
      "source": [
        "from imblearn.under_sampling import RandomUnderSampler, NearMiss\n",
        "from collections import Counter\n",
        "# Under sample the majority class\n",
        "#nm = NearMiss(version=1)\n",
        "#X_nm, y_nm= nm.fit_resample(X, y)\n",
        "# Check the number of records after over sampling\n",
        "#print(sorted(Counter(y_nm).items()))"
      ]
    },
    {
      "cell_type": "code",
      "execution_count": null,
      "id": "5282fef7",
      "metadata": {
        "id": "5282fef7"
      },
      "outputs": [],
      "source": [
        "#rus = RandomUnderSampler(random_state=42)\n",
        "#X_rus, y_rus= nm.fit_resample(X, y)"
      ]
    },
    {
      "cell_type": "code",
      "execution_count": null,
      "id": "50f28241",
      "metadata": {
        "id": "50f28241"
      },
      "outputs": [],
      "source": [
        "#y_pred_rus = cross_val_predict(RF, X_rus, y_rus, cv=cv)"
      ]
    },
    {
      "cell_type": "code",
      "execution_count": null,
      "id": "eaf7a639",
      "metadata": {
        "id": "eaf7a639",
        "outputId": "259397e1-0ded-48c4-e741-82c41d7ebf14"
      },
      "outputs": [
        {
          "data": {
            "text/plain": [
              "array([[180,  13],\n",
              "       [ 17, 176]], dtype=int64)"
            ]
          },
          "execution_count": 93,
          "metadata": {},
          "output_type": "execute_result"
        }
      ],
      "source": [
        "#cm_rus = confusion_matrix(y_rus, y_pred_rus)\n",
        "#cm_rus"
      ]
    },
    {
      "cell_type": "code",
      "execution_count": null,
      "id": "8a20ec97",
      "metadata": {
        "id": "8a20ec97"
      },
      "outputs": [],
      "source": [
        "#y_pred_nm = cross_val_predict(RF, X_nm, y_nm, cv=cv)"
      ]
    },
    {
      "cell_type": "code",
      "execution_count": null,
      "id": "3c474551",
      "metadata": {
        "id": "3c474551",
        "outputId": "55a967cc-f993-4092-ba9e-7e0e4328103f"
      },
      "outputs": [
        {
          "data": {
            "text/plain": [
              "array([[181,  12],\n",
              "       [ 17, 176]], dtype=int64)"
            ]
          },
          "execution_count": 90,
          "metadata": {},
          "output_type": "execute_result"
        }
      ],
      "source": [
        "#cm_nm = confusion_matrix(y_nm, y_pred_nm)\n",
        "#cm_nm"
      ]
    },
    {
      "cell_type": "code",
      "execution_count": null,
      "id": "74a2b030",
      "metadata": {
        "id": "74a2b030"
      },
      "outputs": [],
      "source": [
        "from imblearn.over_sampling import SMOTE\n",
        "sm = SMOTE()\n",
        "X_sm, y_sm = sm.fit_resample(X, y)"
      ]
    },
    {
      "cell_type": "code",
      "execution_count": null,
      "id": "7ae2c0e1",
      "metadata": {
        "id": "7ae2c0e1"
      },
      "outputs": [],
      "source": [
        "y_pred_sm = cross_val_predict(RF, X_sm, y_sm, cv=cv)"
      ]
    },
    {
      "cell_type": "code",
      "execution_count": null,
      "id": "7018190d",
      "metadata": {
        "id": "7018190d",
        "outputId": "c3214c56-b66f-404e-f51d-3ca057d63aa0"
      },
      "outputs": [
        {
          "data": {
            "text/plain": [
              "array([[307,  12],\n",
              "       [ 12, 307]], dtype=int64)"
            ]
          },
          "execution_count": 98,
          "metadata": {},
          "output_type": "execute_result"
        }
      ],
      "source": [
        "cm_sm = confusion_matrix(y_sm, y_pred_sm)\n",
        "cm_sm"
      ]
    },
    {
      "cell_type": "code",
      "execution_count": null,
      "id": "08631f6c",
      "metadata": {
        "id": "08631f6c",
        "outputId": "02dceed8-d1fd-470d-83c5-b404d7022634"
      },
      "outputs": [
        {
          "name": "stdout",
          "output_type": "stream",
          "text": [
            "              precision    recall  f1-score   support\n",
            "\n",
            "           0       0.96      0.96      0.96       319\n",
            "           1       0.96      0.96      0.96       319\n",
            "\n",
            "    accuracy                           0.96       638\n",
            "   macro avg       0.96      0.96      0.96       638\n",
            "weighted avg       0.96      0.96      0.96       638\n",
            "\n"
          ]
        }
      ],
      "source": [
        "print(classification_report(y_sm, y_pred_sm))"
      ]
    },
    {
      "cell_type": "code",
      "execution_count": null,
      "id": "f0adc6ca",
      "metadata": {
        "id": "f0adc6ca",
        "outputId": "bb62079b-2213-4914-8355-b2a5222a470d"
      },
      "outputs": [
        {
          "data": {
            "text/plain": [
              "Text(0.5, 15.0, 'Predicted Values')"
            ]
          },
          "execution_count": 99,
          "metadata": {},
          "output_type": "execute_result"
        },
        {
          "data": {
            "image/png": "[encoded data removed]",
            "text/plain": [
              "<Figure size 432x288 with 2 Axes>"
            ]
          },
          "metadata": {
            "needs_background": "light"
          },
          "output_type": "display_data"
        }
      ],
      "source": [
        "#plt.figure(figsize=(12,6))\n",
        "plt.title('Confusion Matrix')\n",
        "sns.heatmap(cm_sm, annot=True,fmt='d', cmap='Greens')\n",
        "plt.ylabel('Actual Values')\n",
        "plt.xlabel('Predicted Values')"
      ]
    },
    {
      "cell_type": "code",
      "execution_count": null,
      "id": "93775b0f",
      "metadata": {
        "id": "93775b0f",
        "outputId": "a12f7116-0964-4ef9-d449-b862cd8568ce"
      },
      "outputs": [
        {
          "name": "stdout",
          "output_type": "stream",
          "text": [
            "Parameters currently in use:\n",
            "\n",
            "{'bootstrap': True,\n",
            " 'ccp_alpha': 0.0,\n",
            " 'class_weight': None,\n",
            " 'criterion': 'entropy',\n",
            " 'max_depth': None,\n",
            " 'max_features': 'sqrt',\n",
            " 'max_leaf_nodes': None,\n",
            " 'max_samples': None,\n",
            " 'min_impurity_decrease': 0.0,\n",
            " 'min_samples_leaf': 1,\n",
            " 'min_samples_split': 2,\n",
            " 'min_weight_fraction_leaf': 0.0,\n",
            " 'n_estimators': 100,\n",
            " 'n_jobs': None,\n",
            " 'oob_score': False,\n",
            " 'random_state': None,\n",
            " 'verbose': 0,\n",
            " 'warm_start': False}\n"
          ]
        }
      ],
      "source": [
        "from pprint import pprint\n",
        "# Look at parameters used by our current forest\n",
        "print('Parameters currently in use:\\n')\n",
        "pprint(RF.get_params())"
      ]
    },
    {
      "cell_type": "code",
      "execution_count": null,
      "id": "af33ddbf",
      "metadata": {
        "id": "af33ddbf",
        "outputId": "642a558f-482e-47a9-98e2-6abfe5cb2e7c"
      },
      "outputs": [
        {
          "name": "stdout",
          "output_type": "stream",
          "text": [
            "{'bootstrap': [True, False],\n",
            " 'max_depth': [10, 20, 30, 40, 50, 60, 70, 80, 90, 100, 110, None],\n",
            " 'max_features': ['auto', 'sqrt'],\n",
            " 'min_samples_leaf': [1, 2, 4],\n",
            " 'min_samples_split': [2, 5, 10],\n",
            " 'n_estimators': [200, 400, 600, 800, 1000, 1200, 1400, 1600, 1800, 2000]}\n"
          ]
        }
      ],
      "source": [
        "from sklearn.model_selection import RandomizedSearchCV\n",
        "# Number of trees in random forest\n",
        "n_estimators = [int(x) for x in np.linspace(start = 200, stop = 2000, num = 10)]\n",
        "# Number of features to consider at every split\n",
        "max_features = ['auto', 'sqrt']\n",
        "# Maximum number of levels in tree\n",
        "max_depth = [int(x) for x in np.linspace(10, 110, num = 11)]\n",
        "max_depth.append(None)\n",
        "# Minimum number of samples required to split a node\n",
        "min_samples_split = [2, 5, 10]\n",
        "# Minimum number of samples required at each leaf node\n",
        "min_samples_leaf = [1, 2, 4]\n",
        "# Method of selecting samples for training each tree\n",
        "bootstrap = [True, False]\n",
        "# Create the random grid\n",
        "random_grid = {'n_estimators': n_estimators,\n",
        "               'max_features': max_features,\n",
        "               'max_depth': max_depth,\n",
        "               'min_samples_split': min_samples_split,\n",
        "               'min_samples_leaf': min_samples_leaf,\n",
        "               'bootstrap': bootstrap}\n",
        "pprint(random_grid)"
      ]
    },
    {
      "cell_type": "code",
      "execution_count": null,
      "id": "db697f6b",
      "metadata": {
        "id": "db697f6b",
        "outputId": "d1458805-57e2-49f4-b4cc-927a25bcbf81"
      },
      "outputs": [
        {
          "name": "stdout",
          "output_type": "stream",
          "text": [
            "Fitting 10 folds for each of 100 candidates, totalling 1000 fits\n"
          ]
        },
        {
          "data": {
            "text/html": [
              "<style>#sk-container-id-3 {color: black;background-color: white;}#sk-container-id-3 pre{padding: 0;}#sk-container-id-3 div.sk-toggleable {background-color: white;}#sk-container-id-3 label.sk-toggleable__label {cursor: pointer;display: block;width: 100%;margin-bottom: 0;padding: 0.3em;box-sizing: border-box;text-align: center;}#sk-container-id-3 label.sk-toggleable__label-arrow:before {content: \"▸\";float: left;margin-right: 0.25em;color: #696969;}#sk-container-id-3 label.sk-toggleable__label-arrow:hover:before {color: black;}#sk-container-id-3 div.sk-estimator:hover label.sk-toggleable__label-arrow:before {color: black;}#sk-container-id-3 div.sk-toggleable__content {max-height: 0;max-width: 0;overflow: hidden;text-align: left;background-color: #f0f8ff;}#sk-container-id-3 div.sk-toggleable__content pre {margin: 0.2em;color: black;border-radius: 0.25em;background-color: #f0f8ff;}#sk-container-id-3 input.sk-toggleable__control:checked~div.sk-toggleable__content {max-height: 200px;max-width: 100%;overflow: auto;}#sk-container-id-3 input.sk-toggleable__control:checked~label.sk-toggleable__label-arrow:before {content: \"▾\";}#sk-container-id-3 div.sk-estimator input.sk-toggleable__control:checked~label.sk-toggleable__label {background-color: #d4ebff;}#sk-container-id-3 div.sk-label input.sk-toggleable__control:checked~label.sk-toggleable__label {background-color: #d4ebff;}#sk-container-id-3 input.sk-hidden--visually {border: 0;clip: rect(1px 1px 1px 1px);clip: rect(1px, 1px, 1px, 1px);height: 1px;margin: -1px;overflow: hidden;padding: 0;position: absolute;width: 1px;}#sk-container-id-3 div.sk-estimator {font-family: monospace;background-color: #f0f8ff;border: 1px dotted black;border-radius: 0.25em;box-sizing: border-box;margin-bottom: 0.5em;}#sk-container-id-3 div.sk-estimator:hover {background-color: #d4ebff;}#sk-container-id-3 div.sk-parallel-item::after {content: \"\";width: 100%;border-bottom: 1px solid gray;flex-grow: 1;}#sk-container-id-3 div.sk-label:hover label.sk-toggleable__label {background-color: #d4ebff;}#sk-container-id-3 div.sk-serial::before {content: \"\";position: absolute;border-left: 1px solid gray;box-sizing: border-box;top: 0;bottom: 0;left: 50%;z-index: 0;}#sk-container-id-3 div.sk-serial {display: flex;flex-direction: column;align-items: center;background-color: white;padding-right: 0.2em;padding-left: 0.2em;position: relative;}#sk-container-id-3 div.sk-item {position: relative;z-index: 1;}#sk-container-id-3 div.sk-parallel {display: flex;align-items: stretch;justify-content: center;background-color: white;position: relative;}#sk-container-id-3 div.sk-item::before, #sk-container-id-3 div.sk-parallel-item::before {content: \"\";position: absolute;border-left: 1px solid gray;box-sizing: border-box;top: 0;bottom: 0;left: 50%;z-index: -1;}#sk-container-id-3 div.sk-parallel-item {display: flex;flex-direction: column;z-index: 1;position: relative;background-color: white;}#sk-container-id-3 div.sk-parallel-item:first-child::after {align-self: flex-end;width: 50%;}#sk-container-id-3 div.sk-parallel-item:last-child::after {align-self: flex-start;width: 50%;}#sk-container-id-3 div.sk-parallel-item:only-child::after {width: 0;}#sk-container-id-3 div.sk-dashed-wrapped {border: 1px dashed gray;margin: 0 0.4em 0.5em 0.4em;box-sizing: border-box;padding-bottom: 0.4em;background-color: white;}#sk-container-id-3 div.sk-label label {font-family: monospace;font-weight: bold;display: inline-block;line-height: 1.2em;}#sk-container-id-3 div.sk-label-container {text-align: center;}#sk-container-id-3 div.sk-container {/* jupyter's `normalize.less` sets `[hidden] { display: none; }` but bootstrap.min.css set `[hidden] { display: none !important; }` so we also need the `!important` here to be able to override the default hidden behavior on the sphinx rendered scikit-learn.org. See: https://github.com/scikit-learn/scikit-learn/issues/21755 */display: inline-block !important;position: relative;}#sk-container-id-3 div.sk-text-repr-fallback {display: none;}</style><div id=\"sk-container-id-3\" class=\"sk-top-container\"><div class=\"sk-text-repr-fallback\"><pre>RandomizedSearchCV(cv=10, estimator=RandomForestClassifier(criterion=&#x27;entropy&#x27;),\n",
              "                   n_iter=100, n_jobs=-1,\n",
              "                   param_distributions={&#x27;bootstrap&#x27;: [True, False],\n",
              "                                        &#x27;max_depth&#x27;: [10, 20, 30, 40, 50, 60,\n",
              "                                                      70, 80, 90, 100, 110,\n",
              "                                                      None],\n",
              "                                        &#x27;max_features&#x27;: [&#x27;auto&#x27;, &#x27;sqrt&#x27;],\n",
              "                                        &#x27;min_samples_leaf&#x27;: [1, 2, 4],\n",
              "                                        &#x27;min_samples_split&#x27;: [2, 5, 10],\n",
              "                                        &#x27;n_estimators&#x27;: [200, 400, 600, 800,\n",
              "                                                         1000, 1200, 1400, 1600,\n",
              "                                                         1800, 2000]},\n",
              "                   random_state=42, verbose=2)</pre><b>In a Jupyter environment, please rerun this cell to show the HTML representation or trust the notebook. <br />On GitHub, the HTML representation is unable to render, please try loading this page with nbviewer.org.</b></div><div class=\"sk-container\" hidden><div class=\"sk-item sk-dashed-wrapped\"><div class=\"sk-label-container\"><div class=\"sk-label sk-toggleable\"><input class=\"sk-toggleable__control sk-hidden--visually\" id=\"sk-estimator-id-7\" type=\"checkbox\" ><label for=\"sk-estimator-id-7\" class=\"sk-toggleable__label sk-toggleable__label-arrow\">RandomizedSearchCV</label><div class=\"sk-toggleable__content\"><pre>RandomizedSearchCV(cv=10, estimator=RandomForestClassifier(criterion=&#x27;entropy&#x27;),\n",
              "                   n_iter=100, n_jobs=-1,\n",
              "                   param_distributions={&#x27;bootstrap&#x27;: [True, False],\n",
              "                                        &#x27;max_depth&#x27;: [10, 20, 30, 40, 50, 60,\n",
              "                                                      70, 80, 90, 100, 110,\n",
              "                                                      None],\n",
              "                                        &#x27;max_features&#x27;: [&#x27;auto&#x27;, &#x27;sqrt&#x27;],\n",
              "                                        &#x27;min_samples_leaf&#x27;: [1, 2, 4],\n",
              "                                        &#x27;min_samples_split&#x27;: [2, 5, 10],\n",
              "                                        &#x27;n_estimators&#x27;: [200, 400, 600, 800,\n",
              "                                                         1000, 1200, 1400, 1600,\n",
              "                                                         1800, 2000]},\n",
              "                   random_state=42, verbose=2)</pre></div></div></div><div class=\"sk-parallel\"><div class=\"sk-parallel-item\"><div class=\"sk-item\"><div class=\"sk-label-container\"><div class=\"sk-label sk-toggleable\"><input class=\"sk-toggleable__control sk-hidden--visually\" id=\"sk-estimator-id-8\" type=\"checkbox\" ><label for=\"sk-estimator-id-8\" class=\"sk-toggleable__label sk-toggleable__label-arrow\">estimator: RandomForestClassifier</label><div class=\"sk-toggleable__content\"><pre>RandomForestClassifier(criterion=&#x27;entropy&#x27;)</pre></div></div></div><div class=\"sk-serial\"><div class=\"sk-item\"><div class=\"sk-estimator sk-toggleable\"><input class=\"sk-toggleable__control sk-hidden--visually\" id=\"sk-estimator-id-9\" type=\"checkbox\" ><label for=\"sk-estimator-id-9\" class=\"sk-toggleable__label sk-toggleable__label-arrow\">RandomForestClassifier</label><div class=\"sk-toggleable__content\"><pre>RandomForestClassifier(criterion=&#x27;entropy&#x27;)</pre></div></div></div></div></div></div></div></div></div></div>"
            ],
            "text/plain": [
              "RandomizedSearchCV(cv=10, estimator=RandomForestClassifier(criterion='entropy'),\n",
              "                   n_iter=100, n_jobs=-1,\n",
              "                   param_distributions={'bootstrap': [True, False],\n",
              "                                        'max_depth': [10, 20, 30, 40, 50, 60,\n",
              "                                                      70, 80, 90, 100, 110,\n",
              "                                                      None],\n",
              "                                        'max_features': ['auto', 'sqrt'],\n",
              "                                        'min_samples_leaf': [1, 2, 4],\n",
              "                                        'min_samples_split': [2, 5, 10],\n",
              "                                        'n_estimators': [200, 400, 600, 800,\n",
              "                                                         1000, 1200, 1400, 1600,\n",
              "                                                         1800, 2000]},\n",
              "                   random_state=42, verbose=2)"
            ]
          },
          "execution_count": 102,
          "metadata": {},
          "output_type": "execute_result"
        }
      ],
      "source": [
        "# Use the random grid to search for best hyperparameters\n",
        "# First create the base model to tune\n",
        "# Random search of parameters, using 10 fold cross validation, \n",
        "# search across 100 different combinations, and use all available cores\n",
        "RF_random = RandomizedSearchCV(estimator = RF, param_distributions = random_grid, n_iter = 100, cv = 10, verbose=2, random_state=42, n_jobs = -1)\n",
        "# Fit the random search model\n",
        "RF_random.fit(X_sm, y_sm)"
      ]
    },
    {
      "cell_type": "code",
      "execution_count": null,
      "id": "3efb9635",
      "metadata": {
        "id": "3efb9635",
        "outputId": "c9984aa2-7742-4e75-8df8-9417991ccd86"
      },
      "outputs": [
        {
          "data": {
            "text/plain": [
              "{'n_estimators': 1000,\n",
              " 'min_samples_split': 2,\n",
              " 'min_samples_leaf': 1,\n",
              " 'max_features': 'auto',\n",
              " 'max_depth': 50,\n",
              " 'bootstrap': False}"
            ]
          },
          "execution_count": 101,
          "metadata": {},
          "output_type": "execute_result"
        }
      ],
      "source": [
        "RF_random.best_params_"
      ]
    },
    {
      "cell_type": "code",
      "execution_count": null,
      "id": "fe67f61e",
      "metadata": {
        "id": "fe67f61e"
      },
      "outputs": [],
      "source": [
        "rf_para = RandomForestClassifier(criterion='entropy', n_estimators=1000, min_samples_split=2, min_samples_leaf = 1, \n",
        "                                 max_features = 'auto',  max_depth=50, bootstrap =False)"
      ]
    },
    {
      "cell_type": "code",
      "execution_count": null,
      "id": "34730e9b",
      "metadata": {
        "id": "34730e9b"
      },
      "outputs": [],
      "source": [
        "y_pred_para = cross_val_predict(rf_para, X_sm, y_sm, cv=cv)"
      ]
    },
    {
      "cell_type": "code",
      "execution_count": null,
      "id": "5c4d1d8c",
      "metadata": {
        "id": "5c4d1d8c"
      },
      "outputs": [],
      "source": [
        "cm1 = confusion_matrix(y_sm, y_pred_para)"
      ]
    },
    {
      "cell_type": "code",
      "execution_count": null,
      "id": "1b7e4bbc",
      "metadata": {
        "id": "1b7e4bbc",
        "outputId": "0fa923e8-49e0-437b-ed26-69b71af048f1"
      },
      "outputs": [
        {
          "name": "stdout",
          "output_type": "stream",
          "text": [
            "              precision    recall  f1-score   support\n",
            "\n",
            "           0       0.96      0.97      0.97       319\n",
            "           1       0.97      0.96      0.97       319\n",
            "\n",
            "    accuracy                           0.97       638\n",
            "   macro avg       0.97      0.97      0.97       638\n",
            "weighted avg       0.97      0.97      0.97       638\n",
            "\n"
          ]
        }
      ],
      "source": [
        "print(classification_report(y_sm, y_pred_para))"
      ]
    },
    {
      "cell_type": "code",
      "execution_count": null,
      "id": "9b322287",
      "metadata": {
        "id": "9b322287",
        "outputId": "483d6cc6-058f-44d9-ba5e-b723c6ee23b0"
      },
      "outputs": [
        {
          "data": {
            "text/plain": [
              "Text(0.5, 15.0, 'Predicted Values')"
            ]
          },
          "execution_count": 107,
          "metadata": {},
          "output_type": "execute_result"
        },
        {
          "data": {
            "image/png": "[encoded data removed]",
            "text/plain": [
              "<Figure size 432x288 with 2 Axes>"
            ]
          },
          "metadata": {
            "needs_background": "light"
          },
          "output_type": "display_data"
        }
      ],
      "source": [
        "plt.title('Confusion Matrix')\n",
        "sns.heatmap(cm1, annot=True,fmt='d', cmap='Greens')\n",
        "plt.ylabel('Actual Values')\n",
        "plt.xlabel('Predicted Values')"
      ]
    },
    {
      "cell_type": "code",
      "execution_count": null,
      "id": "ba063148",
      "metadata": {
        "id": "ba063148"
      },
      "outputs": [],
      "source": [
        "from sklearn.model_selection import cross_validate\n",
        "cv_para = cross_validate(rf_para, X_sm,y_sm, cv=10, return_estimator=True)\n",
        "sum_para = [0] * 30\n",
        "for model in cv_para['estimator']:\n",
        "    sum = sum + model.feature_importances_\n",
        "avg_para = sum/10"
      ]
    },
    {
      "cell_type": "code",
      "execution_count": null,
      "id": "a7c8c734",
      "metadata": {
        "id": "a7c8c734",
        "outputId": "8d5307e6-8fee-4d9c-b03b-f521ebe977ed"
      },
      "outputs": [
        {
          "data": {
            "text/html": [
              "<div>\n",
              "<style scoped>\n",
              "    .dataframe tbody tr th:only-of-type {\n",
              "        vertical-align: middle;\n",
              "    }\n",
              "\n",
              "    .dataframe tbody tr th {\n",
              "        vertical-align: top;\n",
              "    }\n",
              "\n",
              "    .dataframe thead th {\n",
              "        text-align: right;\n",
              "    }\n",
              "</style>\n",
              "<table border=\"1\" class=\"dataframe\">\n",
              "  <thead>\n",
              "    <tr style=\"text-align: right;\">\n",
              "      <th></th>\n",
              "      <th>feature</th>\n",
              "      <th>feature importance</th>\n",
              "    </tr>\n",
              "  </thead>\n",
              "  <tbody>\n",
              "    <tr>\n",
              "      <th>0</th>\n",
              "      <td>radius_mean</td>\n",
              "      <td>0.163652</td>\n",
              "    </tr>\n",
              "    <tr>\n",
              "      <th>1</th>\n",
              "      <td>texture_mean</td>\n",
              "      <td>0.072716</td>\n",
              "    </tr>\n",
              "    <tr>\n",
              "      <th>2</th>\n",
              "      <td>perimeter_mean</td>\n",
              "      <td>0.146889</td>\n",
              "    </tr>\n",
              "    <tr>\n",
              "      <th>3</th>\n",
              "      <td>area_mean</td>\n",
              "      <td>0.209475</td>\n",
              "    </tr>\n",
              "    <tr>\n",
              "      <th>4</th>\n",
              "      <td>smoothness_mean</td>\n",
              "      <td>0.032192</td>\n",
              "    </tr>\n",
              "    <tr>\n",
              "      <th>5</th>\n",
              "      <td>compactness_mean</td>\n",
              "      <td>0.052216</td>\n",
              "    </tr>\n",
              "    <tr>\n",
              "      <th>6</th>\n",
              "      <td>concavity_mean</td>\n",
              "      <td>0.182715</td>\n",
              "    </tr>\n",
              "    <tr>\n",
              "      <th>7</th>\n",
              "      <td>concave points_mean</td>\n",
              "      <td>0.359934</td>\n",
              "    </tr>\n",
              "    <tr>\n",
              "      <th>8</th>\n",
              "      <td>symmetry_mean</td>\n",
              "      <td>0.018347</td>\n",
              "    </tr>\n",
              "    <tr>\n",
              "      <th>9</th>\n",
              "      <td>fractal_dimension_mean</td>\n",
              "      <td>0.015079</td>\n",
              "    </tr>\n",
              "    <tr>\n",
              "      <th>10</th>\n",
              "      <td>radius_se</td>\n",
              "      <td>0.050857</td>\n",
              "    </tr>\n",
              "    <tr>\n",
              "      <th>11</th>\n",
              "      <td>texture_se</td>\n",
              "      <td>0.019773</td>\n",
              "    </tr>\n",
              "    <tr>\n",
              "      <th>12</th>\n",
              "      <td>perimeter_se</td>\n",
              "      <td>0.043473</td>\n",
              "    </tr>\n",
              "    <tr>\n",
              "      <th>13</th>\n",
              "      <td>area_se</td>\n",
              "      <td>0.113183</td>\n",
              "    </tr>\n",
              "    <tr>\n",
              "      <th>14</th>\n",
              "      <td>smoothness_se</td>\n",
              "      <td>0.018632</td>\n",
              "    </tr>\n",
              "    <tr>\n",
              "      <th>15</th>\n",
              "      <td>compactness_se</td>\n",
              "      <td>0.023851</td>\n",
              "    </tr>\n",
              "    <tr>\n",
              "      <th>16</th>\n",
              "      <td>concavity_se</td>\n",
              "      <td>0.023606</td>\n",
              "    </tr>\n",
              "    <tr>\n",
              "      <th>17</th>\n",
              "      <td>concave points_se</td>\n",
              "      <td>0.024681</td>\n",
              "    </tr>\n",
              "    <tr>\n",
              "      <th>18</th>\n",
              "      <td>symmetry_se</td>\n",
              "      <td>0.025458</td>\n",
              "    </tr>\n",
              "    <tr>\n",
              "      <th>19</th>\n",
              "      <td>fractal_dimension_se</td>\n",
              "      <td>0.021185</td>\n",
              "    </tr>\n",
              "    <tr>\n",
              "      <th>20</th>\n",
              "      <td>radius_worst</td>\n",
              "      <td>0.373950</td>\n",
              "    </tr>\n",
              "    <tr>\n",
              "      <th>21</th>\n",
              "      <td>texture_worst</td>\n",
              "      <td>0.102860</td>\n",
              "    </tr>\n",
              "    <tr>\n",
              "      <th>22</th>\n",
              "      <td>perimeter_worst</td>\n",
              "      <td>0.547516</td>\n",
              "    </tr>\n",
              "    <tr>\n",
              "      <th>23</th>\n",
              "      <td>area_worst</td>\n",
              "      <td>0.412293</td>\n",
              "    </tr>\n",
              "    <tr>\n",
              "      <th>24</th>\n",
              "      <td>smoothness_worst</td>\n",
              "      <td>0.073476</td>\n",
              "    </tr>\n",
              "    <tr>\n",
              "      <th>25</th>\n",
              "      <td>compactness_worst</td>\n",
              "      <td>0.062430</td>\n",
              "    </tr>\n",
              "    <tr>\n",
              "      <th>26</th>\n",
              "      <td>concavity_worst</td>\n",
              "      <td>0.173147</td>\n",
              "    </tr>\n",
              "    <tr>\n",
              "      <th>27</th>\n",
              "      <td>concave points_worst</td>\n",
              "      <td>0.561286</td>\n",
              "    </tr>\n",
              "    <tr>\n",
              "      <th>28</th>\n",
              "      <td>symmetry_worst</td>\n",
              "      <td>0.040491</td>\n",
              "    </tr>\n",
              "    <tr>\n",
              "      <th>29</th>\n",
              "      <td>fractal_dimension_worst</td>\n",
              "      <td>0.034636</td>\n",
              "    </tr>\n",
              "  </tbody>\n",
              "</table>\n",
              "</div>"
            ],
            "text/plain": [
              "                    feature  feature importance\n",
              "0               radius_mean            0.163652\n",
              "1              texture_mean            0.072716\n",
              "2            perimeter_mean            0.146889\n",
              "3                 area_mean            0.209475\n",
              "4           smoothness_mean            0.032192\n",
              "5          compactness_mean            0.052216\n",
              "6            concavity_mean            0.182715\n",
              "7       concave points_mean            0.359934\n",
              "8             symmetry_mean            0.018347\n",
              "9    fractal_dimension_mean            0.015079\n",
              "10                radius_se            0.050857\n",
              "11               texture_se            0.019773\n",
              "12             perimeter_se            0.043473\n",
              "13                  area_se            0.113183\n",
              "14            smoothness_se            0.018632\n",
              "15           compactness_se            0.023851\n",
              "16             concavity_se            0.023606\n",
              "17        concave points_se            0.024681\n",
              "18              symmetry_se            0.025458\n",
              "19     fractal_dimension_se            0.021185\n",
              "20             radius_worst            0.373950\n",
              "21            texture_worst            0.102860\n",
              "22          perimeter_worst            0.547516\n",
              "23               area_worst            0.412293\n",
              "24         smoothness_worst            0.073476\n",
              "25        compactness_worst            0.062430\n",
              "26          concavity_worst            0.173147\n",
              "27     concave points_worst            0.561286\n",
              "28           symmetry_worst            0.040491\n",
              "29  fractal_dimension_worst            0.034636"
            ]
          },
          "execution_count": 109,
          "metadata": {},
          "output_type": "execute_result"
        }
      ],
      "source": [
        "fi_para = avg_para.tolist()\n",
        "fi_para\n",
        "cols = df.columns[1:].tolist()\n",
        "dic_para = {'feature':cols, 'feature importance': fi_para}\n",
        "df_para = pd.DataFrame(dic_para)\n",
        "df_para"
      ]
    },
    {
      "cell_type": "code",
      "execution_count": null,
      "id": "e850a76e",
      "metadata": {
        "id": "e850a76e"
      },
      "outputs": [],
      "source": [
        "df_para.sort_values('feature importance',ascending=False, inplace=True )"
      ]
    },
    {
      "cell_type": "code",
      "execution_count": null,
      "id": "b0144313",
      "metadata": {
        "id": "b0144313",
        "outputId": "0dd6a2a4-a49c-4c51-8826-88a0effc03c3"
      },
      "outputs": [
        {
          "data": {
            "text/html": [
              "<div>\n",
              "<style scoped>\n",
              "    .dataframe tbody tr th:only-of-type {\n",
              "        vertical-align: middle;\n",
              "    }\n",
              "\n",
              "    .dataframe tbody tr th {\n",
              "        vertical-align: top;\n",
              "    }\n",
              "\n",
              "    .dataframe thead th {\n",
              "        text-align: right;\n",
              "    }\n",
              "</style>\n",
              "<table border=\"1\" class=\"dataframe\">\n",
              "  <thead>\n",
              "    <tr style=\"text-align: right;\">\n",
              "      <th></th>\n",
              "      <th>feature</th>\n",
              "      <th>feature importance</th>\n",
              "    </tr>\n",
              "  </thead>\n",
              "  <tbody>\n",
              "    <tr>\n",
              "      <th>27</th>\n",
              "      <td>concave points_worst</td>\n",
              "      <td>0.561286</td>\n",
              "    </tr>\n",
              "    <tr>\n",
              "      <th>22</th>\n",
              "      <td>perimeter_worst</td>\n",
              "      <td>0.547516</td>\n",
              "    </tr>\n",
              "    <tr>\n",
              "      <th>23</th>\n",
              "      <td>area_worst</td>\n",
              "      <td>0.412293</td>\n",
              "    </tr>\n",
              "    <tr>\n",
              "      <th>20</th>\n",
              "      <td>radius_worst</td>\n",
              "      <td>0.373950</td>\n",
              "    </tr>\n",
              "    <tr>\n",
              "      <th>7</th>\n",
              "      <td>concave points_mean</td>\n",
              "      <td>0.359934</td>\n",
              "    </tr>\n",
              "    <tr>\n",
              "      <th>3</th>\n",
              "      <td>area_mean</td>\n",
              "      <td>0.209475</td>\n",
              "    </tr>\n",
              "    <tr>\n",
              "      <th>6</th>\n",
              "      <td>concavity_mean</td>\n",
              "      <td>0.182715</td>\n",
              "    </tr>\n",
              "    <tr>\n",
              "      <th>26</th>\n",
              "      <td>concavity_worst</td>\n",
              "      <td>0.173147</td>\n",
              "    </tr>\n",
              "    <tr>\n",
              "      <th>0</th>\n",
              "      <td>radius_mean</td>\n",
              "      <td>0.163652</td>\n",
              "    </tr>\n",
              "    <tr>\n",
              "      <th>2</th>\n",
              "      <td>perimeter_mean</td>\n",
              "      <td>0.146889</td>\n",
              "    </tr>\n",
              "    <tr>\n",
              "      <th>13</th>\n",
              "      <td>area_se</td>\n",
              "      <td>0.113183</td>\n",
              "    </tr>\n",
              "    <tr>\n",
              "      <th>21</th>\n",
              "      <td>texture_worst</td>\n",
              "      <td>0.102860</td>\n",
              "    </tr>\n",
              "    <tr>\n",
              "      <th>24</th>\n",
              "      <td>smoothness_worst</td>\n",
              "      <td>0.073476</td>\n",
              "    </tr>\n",
              "    <tr>\n",
              "      <th>1</th>\n",
              "      <td>texture_mean</td>\n",
              "      <td>0.072716</td>\n",
              "    </tr>\n",
              "    <tr>\n",
              "      <th>25</th>\n",
              "      <td>compactness_worst</td>\n",
              "      <td>0.062430</td>\n",
              "    </tr>\n",
              "    <tr>\n",
              "      <th>5</th>\n",
              "      <td>compactness_mean</td>\n",
              "      <td>0.052216</td>\n",
              "    </tr>\n",
              "    <tr>\n",
              "      <th>10</th>\n",
              "      <td>radius_se</td>\n",
              "      <td>0.050857</td>\n",
              "    </tr>\n",
              "    <tr>\n",
              "      <th>12</th>\n",
              "      <td>perimeter_se</td>\n",
              "      <td>0.043473</td>\n",
              "    </tr>\n",
              "    <tr>\n",
              "      <th>28</th>\n",
              "      <td>symmetry_worst</td>\n",
              "      <td>0.040491</td>\n",
              "    </tr>\n",
              "    <tr>\n",
              "      <th>29</th>\n",
              "      <td>fractal_dimension_worst</td>\n",
              "      <td>0.034636</td>\n",
              "    </tr>\n",
              "    <tr>\n",
              "      <th>4</th>\n",
              "      <td>smoothness_mean</td>\n",
              "      <td>0.032192</td>\n",
              "    </tr>\n",
              "    <tr>\n",
              "      <th>18</th>\n",
              "      <td>symmetry_se</td>\n",
              "      <td>0.025458</td>\n",
              "    </tr>\n",
              "    <tr>\n",
              "      <th>17</th>\n",
              "      <td>concave points_se</td>\n",
              "      <td>0.024681</td>\n",
              "    </tr>\n",
              "    <tr>\n",
              "      <th>15</th>\n",
              "      <td>compactness_se</td>\n",
              "      <td>0.023851</td>\n",
              "    </tr>\n",
              "    <tr>\n",
              "      <th>16</th>\n",
              "      <td>concavity_se</td>\n",
              "      <td>0.023606</td>\n",
              "    </tr>\n",
              "    <tr>\n",
              "      <th>19</th>\n",
              "      <td>fractal_dimension_se</td>\n",
              "      <td>0.021185</td>\n",
              "    </tr>\n",
              "    <tr>\n",
              "      <th>11</th>\n",
              "      <td>texture_se</td>\n",
              "      <td>0.019773</td>\n",
              "    </tr>\n",
              "    <tr>\n",
              "      <th>14</th>\n",
              "      <td>smoothness_se</td>\n",
              "      <td>0.018632</td>\n",
              "    </tr>\n",
              "    <tr>\n",
              "      <th>8</th>\n",
              "      <td>symmetry_mean</td>\n",
              "      <td>0.018347</td>\n",
              "    </tr>\n",
              "    <tr>\n",
              "      <th>9</th>\n",
              "      <td>fractal_dimension_mean</td>\n",
              "      <td>0.015079</td>\n",
              "    </tr>\n",
              "  </tbody>\n",
              "</table>\n",
              "</div>"
            ],
            "text/plain": [
              "                    feature  feature importance\n",
              "27     concave points_worst            0.561286\n",
              "22          perimeter_worst            0.547516\n",
              "23               area_worst            0.412293\n",
              "20             radius_worst            0.373950\n",
              "7       concave points_mean            0.359934\n",
              "3                 area_mean            0.209475\n",
              "6            concavity_mean            0.182715\n",
              "26          concavity_worst            0.173147\n",
              "0               radius_mean            0.163652\n",
              "2            perimeter_mean            0.146889\n",
              "13                  area_se            0.113183\n",
              "21            texture_worst            0.102860\n",
              "24         smoothness_worst            0.073476\n",
              "1              texture_mean            0.072716\n",
              "25        compactness_worst            0.062430\n",
              "5          compactness_mean            0.052216\n",
              "10                radius_se            0.050857\n",
              "12             perimeter_se            0.043473\n",
              "28           symmetry_worst            0.040491\n",
              "29  fractal_dimension_worst            0.034636\n",
              "4           smoothness_mean            0.032192\n",
              "18              symmetry_se            0.025458\n",
              "17        concave points_se            0.024681\n",
              "15           compactness_se            0.023851\n",
              "16             concavity_se            0.023606\n",
              "19     fractal_dimension_se            0.021185\n",
              "11               texture_se            0.019773\n",
              "14            smoothness_se            0.018632\n",
              "8             symmetry_mean            0.018347\n",
              "9    fractal_dimension_mean            0.015079"
            ]
          },
          "execution_count": 113,
          "metadata": {},
          "output_type": "execute_result"
        }
      ],
      "source": [
        "df_para"
      ]
    },
    {
      "cell_type": "code",
      "execution_count": null,
      "id": "f416f636",
      "metadata": {
        "id": "f416f636"
      },
      "outputs": [],
      "source": [
        "df_test = pd.read_csv('bc_test_data_10.csv')"
      ]
    },
    {
      "cell_type": "code",
      "execution_count": null,
      "id": "e2c8b3ea",
      "metadata": {
        "id": "e2c8b3ea",
        "outputId": "8966f2aa-9222-4ca2-cbf7-cb4f40380dd6"
      },
      "outputs": [
        {
          "data": {
            "text/plain": [
              "B    38\n",
              "M    19\n",
              "Name: diagnosis, dtype: int64"
            ]
          },
          "execution_count": 115,
          "metadata": {},
          "output_type": "execute_result"
        }
      ],
      "source": [
        "df_test['diagnosis'].value_counts()"
      ]
    },
    {
      "cell_type": "code",
      "execution_count": null,
      "id": "28e4aa34",
      "metadata": {
        "id": "28e4aa34",
        "outputId": "06f6ea99-3400-4191-dc36-af6639e8a144"
      },
      "outputs": [
        {
          "data": {
            "text/html": [
              "<div>\n",
              "<style scoped>\n",
              "    .dataframe tbody tr th:only-of-type {\n",
              "        vertical-align: middle;\n",
              "    }\n",
              "\n",
              "    .dataframe tbody tr th {\n",
              "        vertical-align: top;\n",
              "    }\n",
              "\n",
              "    .dataframe thead th {\n",
              "        text-align: right;\n",
              "    }\n",
              "</style>\n",
              "<table border=\"1\" class=\"dataframe\">\n",
              "  <thead>\n",
              "    <tr style=\"text-align: right;\">\n",
              "      <th></th>\n",
              "      <th>id</th>\n",
              "      <th>diagnosis</th>\n",
              "      <th>radius_mean</th>\n",
              "      <th>texture_mean</th>\n",
              "      <th>perimeter_mean</th>\n",
              "      <th>area_mean</th>\n",
              "      <th>smoothness_mean</th>\n",
              "      <th>compactness_mean</th>\n",
              "      <th>concavity_mean</th>\n",
              "      <th>concave points_mean</th>\n",
              "      <th>...</th>\n",
              "      <th>radius_worst</th>\n",
              "      <th>texture_worst</th>\n",
              "      <th>perimeter_worst</th>\n",
              "      <th>area_worst</th>\n",
              "      <th>smoothness_worst</th>\n",
              "      <th>compactness_worst</th>\n",
              "      <th>concavity_worst</th>\n",
              "      <th>concave points_worst</th>\n",
              "      <th>symmetry_worst</th>\n",
              "      <th>fractal_dimension_worst</th>\n",
              "    </tr>\n",
              "  </thead>\n",
              "  <tbody>\n",
              "    <tr>\n",
              "      <th>0</th>\n",
              "      <td>901288</td>\n",
              "      <td>1</td>\n",
              "      <td>20.64</td>\n",
              "      <td>17.35</td>\n",
              "      <td>134.80</td>\n",
              "      <td>1335.0</td>\n",
              "      <td>0.09446</td>\n",
              "      <td>0.10760</td>\n",
              "      <td>0.1527</td>\n",
              "      <td>0.08941</td>\n",
              "      <td>...</td>\n",
              "      <td>25.37</td>\n",
              "      <td>23.17</td>\n",
              "      <td>166.80</td>\n",
              "      <td>1946.0</td>\n",
              "      <td>0.1562</td>\n",
              "      <td>0.3055</td>\n",
              "      <td>0.41590</td>\n",
              "      <td>0.21120</td>\n",
              "      <td>0.2689</td>\n",
              "      <td>0.07055</td>\n",
              "    </tr>\n",
              "    <tr>\n",
              "      <th>1</th>\n",
              "      <td>8860702</td>\n",
              "      <td>1</td>\n",
              "      <td>17.30</td>\n",
              "      <td>17.08</td>\n",
              "      <td>113.00</td>\n",
              "      <td>928.2</td>\n",
              "      <td>0.10080</td>\n",
              "      <td>0.10410</td>\n",
              "      <td>0.1266</td>\n",
              "      <td>0.08353</td>\n",
              "      <td>...</td>\n",
              "      <td>19.85</td>\n",
              "      <td>25.09</td>\n",
              "      <td>130.90</td>\n",
              "      <td>1222.0</td>\n",
              "      <td>0.1416</td>\n",
              "      <td>0.2405</td>\n",
              "      <td>0.33780</td>\n",
              "      <td>0.18570</td>\n",
              "      <td>0.3138</td>\n",
              "      <td>0.08113</td>\n",
              "    </tr>\n",
              "    <tr>\n",
              "      <th>2</th>\n",
              "      <td>877500</td>\n",
              "      <td>1</td>\n",
              "      <td>14.45</td>\n",
              "      <td>20.22</td>\n",
              "      <td>94.49</td>\n",
              "      <td>642.7</td>\n",
              "      <td>0.09872</td>\n",
              "      <td>0.12060</td>\n",
              "      <td>0.1180</td>\n",
              "      <td>0.05980</td>\n",
              "      <td>...</td>\n",
              "      <td>18.33</td>\n",
              "      <td>30.12</td>\n",
              "      <td>117.90</td>\n",
              "      <td>1044.0</td>\n",
              "      <td>0.1552</td>\n",
              "      <td>0.4056</td>\n",
              "      <td>0.49670</td>\n",
              "      <td>0.18380</td>\n",
              "      <td>0.4753</td>\n",
              "      <td>0.10130</td>\n",
              "    </tr>\n",
              "    <tr>\n",
              "      <th>3</th>\n",
              "      <td>859575</td>\n",
              "      <td>1</td>\n",
              "      <td>18.94</td>\n",
              "      <td>21.31</td>\n",
              "      <td>123.60</td>\n",
              "      <td>1130.0</td>\n",
              "      <td>0.09009</td>\n",
              "      <td>0.10290</td>\n",
              "      <td>0.1080</td>\n",
              "      <td>0.07951</td>\n",
              "      <td>...</td>\n",
              "      <td>24.86</td>\n",
              "      <td>26.58</td>\n",
              "      <td>165.90</td>\n",
              "      <td>1866.0</td>\n",
              "      <td>0.1193</td>\n",
              "      <td>0.2336</td>\n",
              "      <td>0.26870</td>\n",
              "      <td>0.17890</td>\n",
              "      <td>0.2551</td>\n",
              "      <td>0.06589</td>\n",
              "    </tr>\n",
              "    <tr>\n",
              "      <th>4</th>\n",
              "      <td>914102</td>\n",
              "      <td>0</td>\n",
              "      <td>13.16</td>\n",
              "      <td>20.54</td>\n",
              "      <td>84.06</td>\n",
              "      <td>538.7</td>\n",
              "      <td>0.07335</td>\n",
              "      <td>0.05275</td>\n",
              "      <td>0.0180</td>\n",
              "      <td>0.01256</td>\n",
              "      <td>...</td>\n",
              "      <td>14.50</td>\n",
              "      <td>28.46</td>\n",
              "      <td>95.29</td>\n",
              "      <td>648.3</td>\n",
              "      <td>0.1118</td>\n",
              "      <td>0.1646</td>\n",
              "      <td>0.07698</td>\n",
              "      <td>0.04195</td>\n",
              "      <td>0.2687</td>\n",
              "      <td>0.07429</td>\n",
              "    </tr>\n",
              "  </tbody>\n",
              "</table>\n",
              "<p>5 rows × 32 columns</p>\n",
              "</div>"
            ],
            "text/plain": [
              "        id  diagnosis  radius_mean  texture_mean  perimeter_mean  area_mean  \\\n",
              "0   901288          1        20.64         17.35          134.80     1335.0   \n",
              "1  8860702          1        17.30         17.08          113.00      928.2   \n",
              "2   877500          1        14.45         20.22           94.49      642.7   \n",
              "3   859575          1        18.94         21.31          123.60     1130.0   \n",
              "4   914102          0        13.16         20.54           84.06      538.7   \n",
              "\n",
              "   smoothness_mean  compactness_mean  concavity_mean  concave points_mean  \\\n",
              "0          0.09446           0.10760          0.1527              0.08941   \n",
              "1          0.10080           0.10410          0.1266              0.08353   \n",
              "2          0.09872           0.12060          0.1180              0.05980   \n",
              "3          0.09009           0.10290          0.1080              0.07951   \n",
              "4          0.07335           0.05275          0.0180              0.01256   \n",
              "\n",
              "   ...  radius_worst  texture_worst  perimeter_worst  area_worst  \\\n",
              "0  ...         25.37          23.17           166.80      1946.0   \n",
              "1  ...         19.85          25.09           130.90      1222.0   \n",
              "2  ...         18.33          30.12           117.90      1044.0   \n",
              "3  ...         24.86          26.58           165.90      1866.0   \n",
              "4  ...         14.50          28.46            95.29       648.3   \n",
              "\n",
              "   smoothness_worst  compactness_worst  concavity_worst  concave points_worst  \\\n",
              "0            0.1562             0.3055          0.41590               0.21120   \n",
              "1            0.1416             0.2405          0.33780               0.18570   \n",
              "2            0.1552             0.4056          0.49670               0.18380   \n",
              "3            0.1193             0.2336          0.26870               0.17890   \n",
              "4            0.1118             0.1646          0.07698               0.04195   \n",
              "\n",
              "   symmetry_worst  fractal_dimension_worst  \n",
              "0          0.2689                  0.07055  \n",
              "1          0.3138                  0.08113  \n",
              "2          0.4753                  0.10130  \n",
              "3          0.2551                  0.06589  \n",
              "4          0.2687                  0.07429  \n",
              "\n",
              "[5 rows x 32 columns]"
            ]
          },
          "execution_count": 116,
          "metadata": {},
          "output_type": "execute_result"
        }
      ],
      "source": [
        "df_test.diagnosis = df_test.diagnosis.replace({'M':1, 'B':0})\n",
        "df_test.head()"
      ]
    },
    {
      "cell_type": "code",
      "execution_count": null,
      "id": "706fe78f",
      "metadata": {
        "id": "706fe78f"
      },
      "outputs": [],
      "source": [
        "X_test = df_test.iloc[:, 2:]\n",
        "y_test = df_test.iloc[:, 1]"
      ]
    },
    {
      "cell_type": "code",
      "execution_count": null,
      "id": "4068b75d",
      "metadata": {
        "id": "4068b75d",
        "outputId": "fe0eeb14-3dad-4759-b86f-b8d742ad8931"
      },
      "outputs": [
        {
          "data": {
            "text/html": [
              "<style>#sk-container-id-4 {color: black;background-color: white;}#sk-container-id-4 pre{padding: 0;}#sk-container-id-4 div.sk-toggleable {background-color: white;}#sk-container-id-4 label.sk-toggleable__label {cursor: pointer;display: block;width: 100%;margin-bottom: 0;padding: 0.3em;box-sizing: border-box;text-align: center;}#sk-container-id-4 label.sk-toggleable__label-arrow:before {content: \"▸\";float: left;margin-right: 0.25em;color: #696969;}#sk-container-id-4 label.sk-toggleable__label-arrow:hover:before {color: black;}#sk-container-id-4 div.sk-estimator:hover label.sk-toggleable__label-arrow:before {color: black;}#sk-container-id-4 div.sk-toggleable__content {max-height: 0;max-width: 0;overflow: hidden;text-align: left;background-color: #f0f8ff;}#sk-container-id-4 div.sk-toggleable__content pre {margin: 0.2em;color: black;border-radius: 0.25em;background-color: #f0f8ff;}#sk-container-id-4 input.sk-toggleable__control:checked~div.sk-toggleable__content {max-height: 200px;max-width: 100%;overflow: auto;}#sk-container-id-4 input.sk-toggleable__control:checked~label.sk-toggleable__label-arrow:before {content: \"▾\";}#sk-container-id-4 div.sk-estimator input.sk-toggleable__control:checked~label.sk-toggleable__label {background-color: #d4ebff;}#sk-container-id-4 div.sk-label input.sk-toggleable__control:checked~label.sk-toggleable__label {background-color: #d4ebff;}#sk-container-id-4 input.sk-hidden--visually {border: 0;clip: rect(1px 1px 1px 1px);clip: rect(1px, 1px, 1px, 1px);height: 1px;margin: -1px;overflow: hidden;padding: 0;position: absolute;width: 1px;}#sk-container-id-4 div.sk-estimator {font-family: monospace;background-color: #f0f8ff;border: 1px dotted black;border-radius: 0.25em;box-sizing: border-box;margin-bottom: 0.5em;}#sk-container-id-4 div.sk-estimator:hover {background-color: #d4ebff;}#sk-container-id-4 div.sk-parallel-item::after {content: \"\";width: 100%;border-bottom: 1px solid gray;flex-grow: 1;}#sk-container-id-4 div.sk-label:hover label.sk-toggleable__label {background-color: #d4ebff;}#sk-container-id-4 div.sk-serial::before {content: \"\";position: absolute;border-left: 1px solid gray;box-sizing: border-box;top: 0;bottom: 0;left: 50%;z-index: 0;}#sk-container-id-4 div.sk-serial {display: flex;flex-direction: column;align-items: center;background-color: white;padding-right: 0.2em;padding-left: 0.2em;position: relative;}#sk-container-id-4 div.sk-item {position: relative;z-index: 1;}#sk-container-id-4 div.sk-parallel {display: flex;align-items: stretch;justify-content: center;background-color: white;position: relative;}#sk-container-id-4 div.sk-item::before, #sk-container-id-4 div.sk-parallel-item::before {content: \"\";position: absolute;border-left: 1px solid gray;box-sizing: border-box;top: 0;bottom: 0;left: 50%;z-index: -1;}#sk-container-id-4 div.sk-parallel-item {display: flex;flex-direction: column;z-index: 1;position: relative;background-color: white;}#sk-container-id-4 div.sk-parallel-item:first-child::after {align-self: flex-end;width: 50%;}#sk-container-id-4 div.sk-parallel-item:last-child::after {align-self: flex-start;width: 50%;}#sk-container-id-4 div.sk-parallel-item:only-child::after {width: 0;}#sk-container-id-4 div.sk-dashed-wrapped {border: 1px dashed gray;margin: 0 0.4em 0.5em 0.4em;box-sizing: border-box;padding-bottom: 0.4em;background-color: white;}#sk-container-id-4 div.sk-label label {font-family: monospace;font-weight: bold;display: inline-block;line-height: 1.2em;}#sk-container-id-4 div.sk-label-container {text-align: center;}#sk-container-id-4 div.sk-container {/* jupyter's `normalize.less` sets `[hidden] { display: none; }` but bootstrap.min.css set `[hidden] { display: none !important; }` so we also need the `!important` here to be able to override the default hidden behavior on the sphinx rendered scikit-learn.org. See: https://github.com/scikit-learn/scikit-learn/issues/21755 */display: inline-block !important;position: relative;}#sk-container-id-4 div.sk-text-repr-fallback {display: none;}</style><div id=\"sk-container-id-4\" class=\"sk-top-container\"><div class=\"sk-text-repr-fallback\"><pre>RandomForestClassifier(bootstrap=False, criterion=&#x27;entropy&#x27;, max_depth=50,\n",
              "                       max_features=&#x27;auto&#x27;, n_estimators=1000)</pre><b>In a Jupyter environment, please rerun this cell to show the HTML representation or trust the notebook. <br />On GitHub, the HTML representation is unable to render, please try loading this page with nbviewer.org.</b></div><div class=\"sk-container\" hidden><div class=\"sk-item\"><div class=\"sk-estimator sk-toggleable\"><input class=\"sk-toggleable__control sk-hidden--visually\" id=\"sk-estimator-id-10\" type=\"checkbox\" checked><label for=\"sk-estimator-id-10\" class=\"sk-toggleable__label sk-toggleable__label-arrow\">RandomForestClassifier</label><div class=\"sk-toggleable__content\"><pre>RandomForestClassifier(bootstrap=False, criterion=&#x27;entropy&#x27;, max_depth=50,\n",
              "                       max_features=&#x27;auto&#x27;, n_estimators=1000)</pre></div></div></div></div></div>"
            ],
            "text/plain": [
              "RandomForestClassifier(bootstrap=False, criterion='entropy', max_depth=50,\n",
              "                       max_features='auto', n_estimators=1000)"
            ]
          },
          "execution_count": 119,
          "metadata": {},
          "output_type": "execute_result"
        }
      ],
      "source": [
        "rf_para.fit(X_sm, y_sm)"
      ]
    },
    {
      "cell_type": "code",
      "execution_count": null,
      "id": "fe512f66",
      "metadata": {
        "id": "fe512f66",
        "outputId": "ac5f563b-9e16-4fc5-971f-ebd35d6a2ce5"
      },
      "outputs": [
        {
          "data": {
            "text/plain": [
              "array([1, 1, 1, 1, 0, 1, 1, 0, 0, 0, 0, 0, 0, 1, 0, 0, 1, 0, 0, 0, 0, 1,\n",
              "       1, 0, 0, 1, 1, 0, 0, 1, 0, 0, 0, 1, 0, 0, 0, 0, 1, 1, 0, 0, 0, 1,\n",
              "       0, 0, 1, 1, 0, 0, 0, 0, 0, 0, 0, 0, 0], dtype=int64)"
            ]
          },
          "execution_count": 125,
          "metadata": {},
          "output_type": "execute_result"
        }
      ],
      "source": [
        "y_test_pred = rf_para.predict(X_test)\n",
        "y_test_pred"
      ]
    },
    {
      "cell_type": "code",
      "execution_count": null,
      "id": "0706ee35",
      "metadata": {
        "id": "0706ee35",
        "outputId": "c0d635b0-1a1e-4140-aacb-c426ac48fa46"
      },
      "outputs": [
        {
          "data": {
            "text/plain": [
              "array([[38,  0],\n",
              "       [ 0, 19]], dtype=int64)"
            ]
          },
          "execution_count": 126,
          "metadata": {},
          "output_type": "execute_result"
        }
      ],
      "source": [
        "cm2 = confusion_matrix(y_test, y_test_pred)\n",
        "cm2"
      ]
    },
    {
      "cell_type": "code",
      "execution_count": null,
      "id": "07f86b00",
      "metadata": {
        "id": "07f86b00",
        "outputId": "d2469f24-2e3a-4a66-9d5f-b70ac205a9a8"
      },
      "outputs": [
        {
          "name": "stdout",
          "output_type": "stream",
          "text": [
            "              precision    recall  f1-score   support\n",
            "\n",
            "           0       1.00      1.00      1.00        38\n",
            "           1       1.00      1.00      1.00        19\n",
            "\n",
            "    accuracy                           1.00        57\n",
            "   macro avg       1.00      1.00      1.00        57\n",
            "weighted avg       1.00      1.00      1.00        57\n",
            "\n"
          ]
        }
      ],
      "source": [
        "print(classification_report(y_test, y_test_pred))"
      ]
    },
    {
      "cell_type": "code",
      "execution_count": null,
      "id": "5d3a7f31",
      "metadata": {
        "id": "5d3a7f31",
        "outputId": "2618ecaa-bb6d-4b0c-8d9f-47a74464e18f"
      },
      "outputs": [
        {
          "data": {
            "text/plain": [
              "Text(0.5, 15.0, 'Predicted Values')"
            ]
          },
          "execution_count": 122,
          "metadata": {},
          "output_type": "execute_result"
        },
        {
          "data": {
            "image/png": "[encoded data removed]",
            "text/plain": [
              "<Figure size 432x288 with 2 Axes>"
            ]
          },
          "metadata": {
            "needs_background": "light"
          },
          "output_type": "display_data"
        }
      ],
      "source": [
        "plt.title('Confusion Matrix')\n",
        "sns.heatmap(cm2, annot=True,fmt='d', cmap='Greens')\n",
        "plt.ylabel('Actual Values')\n",
        "plt.xlabel('Predicted Values')"
      ]
    },
    {
      "cell_type": "code",
      "execution_count": null,
      "id": "5154ae8b",
      "metadata": {
        "id": "5154ae8b"
      },
      "outputs": [],
      "source": []
    }
  ],
  "metadata": {
    "kernelspec": {
      "display_name": "Python 3 (ipykernel)",
      "language": "python",
      "name": "python3"
    },
    "language_info": {
      "codemirror_mode": {
        "name": "ipython",
        "version": 3
      },
      "file_extension": ".py",
      "mimetype": "text/x-python",
      "name": "python",
      "nbconvert_exporter": "python",
      "pygments_lexer": "ipython3",
      "version": "3.9.7"
    },
    "colab": {
      "provenance": []
    }
  },
  "nbformat": 4,
  "nbformat_minor": 5
}