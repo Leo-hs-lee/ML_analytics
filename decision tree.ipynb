{
 "cells": [
  {
   "cell_type": "code",
   "execution_count": 3,
   "id": "d5d79022",
   "metadata": {},
   "outputs": [],
   "source": [
    "import matplotlib.pyplot as plt\n",
    "%matplotlib inline\n",
    "from matplotlib import pyplot\n",
    "import seaborn as sns\n",
    "#import graphviz # conda install -c anaconda graphviz\n",
    "import pydotplus\n",
    "\n",
    "import pandas as pd\n",
    "import numpy as np\n",
    "\n",
    "from sklearn import tree\n",
    "from sklearn.tree import DecisionTreeClassifier\n",
    "from sklearn.model_selection import train_test_split # Import train_test_split function\n",
    "from sklearn import metrics #Import scikit-learn metrics module for accuracy calculation\n",
    "from sklearn.metrics import mean_squared_error\n",
    "from sklearn.metrics import confusion_matrix, ConfusionMatrixDisplay, classification_report\n",
    "from sklearn.metrics import roc_curve, RocCurveDisplay, roc_auc_score\n",
    "\n",
    "from sklearn.model_selection import GridSearchCV\n",
    "from sklearn.feature_selection import RFE\n",
    "\n",
    "from sklearn.metrics import precision_recall_curve\n",
    "from sklearn.metrics import PrecisionRecallDisplay\n",
    "from sklearn.ensemble import RandomForestClassifier\n",
    "\n",
    "from collections import Counter\n",
    "from sklearn.datasets import make_classification\n",
    "from imblearn.under_sampling import RandomUnderSampler\n",
    "\n",
    "from numpy import mean\n",
    "from sklearn.datasets import make_classification\n",
    "from sklearn.model_selection import cross_val_score\n",
    "from sklearn.model_selection import cross_validate\n",
    "from sklearn.model_selection import RepeatedStratifiedKFold\n",
    "from sklearn.tree import DecisionTreeClassifier\n",
    "from imblearn.pipeline import Pipeline\n",
    "from imblearn.under_sampling import RandomUnderSampler\n",
    "from sklearn.model_selection import KFold\n",
    "\n",
    "from sklearn.preprocessing import LabelEncoder\n",
    "\n",
    "from sklearn.model_selection import cross_val_predict"
   ]
  },
  {
   "cell_type": "code",
   "execution_count": 2,
   "id": "5641fb2e",
   "metadata": {},
   "outputs": [
    {
     "name": "stdout",
     "output_type": "stream",
     "text": [
      "Collecting package metadata (current_repodata.json): ...working... done\n",
      "Solving environment: ...working... done\n",
      "\n",
      "## Package Plan ##\n",
      "\n",
      "  environment location: C:\\ProgramData\\Anaconda3\n",
      "\n",
      "  added / updated specs:\n",
      "    - graphviz\n",
      "\n",
      "\n",
      "The following packages will be downloaded:\n",
      "\n",
      "    package                    |            build\n",
      "    ---------------------------|-----------------\n",
      "    certifi-2021.10.8          |   py39haa95532_0         155 KB  anaconda\n",
      "    conda-4.13.0               |   py39haa95532_0        1016 KB  anaconda\n",
      "    graphviz-2.38              |       hfd603c8_2        37.7 MB  anaconda\n",
      "    ------------------------------------------------------------\n",
      "                                           Total:        38.9 MB\n",
      "\n",
      "The following NEW packages will be INSTALLED:\n",
      "\n",
      "  graphviz           anaconda/win-64::graphviz-2.38-hfd603c8_2\n",
      "\n",
      "The following packages will be SUPERSEDED by a higher-priority channel:\n",
      "\n",
      "  certifi                                         pkgs/main --> anaconda\n",
      "  conda              conda-forge::conda-4.13.0-py39hcbf530~ --> anaconda::conda-4.13.0-py39haa95532_0\n",
      "\n",
      "\n",
      "\n",
      "Downloading and Extracting Packages\n",
      "\n",
      "certifi-2021.10.8    | 155 KB    |            |   0% \n",
      "certifi-2021.10.8    | 155 KB    | #          |  10% \n",
      "certifi-2021.10.8    | 155 KB    | ########## | 100% \n",
      "certifi-2021.10.8    | 155 KB    | ########## | 100% \n",
      "\n",
      "graphviz-2.38        | 37.7 MB   |            |   0% \n",
      "graphviz-2.38        | 37.7 MB   |            |   0% \n",
      "graphviz-2.38        | 37.7 MB   | 1          |   1% \n",
      "graphviz-2.38        | 37.7 MB   | 2          |   3% \n",
      "graphviz-2.38        | 37.7 MB   | 4          |   4% \n",
      "graphviz-2.38        | 37.7 MB   | 5          |   6% \n",
      "graphviz-2.38        | 37.7 MB   | 7          |   7% \n",
      "graphviz-2.38        | 37.7 MB   | 8          |   9% \n",
      "graphviz-2.38        | 37.7 MB   | #          |  10% \n",
      "graphviz-2.38        | 37.7 MB   | #1         |  12% \n",
      "graphviz-2.38        | 37.7 MB   | #3         |  13% \n",
      "graphviz-2.38        | 37.7 MB   | #5         |  15% \n",
      "graphviz-2.38        | 37.7 MB   | #7         |  17% \n",
      "graphviz-2.38        | 37.7 MB   | #8         |  19% \n",
      "graphviz-2.38        | 37.7 MB   | ##         |  20% \n",
      "graphviz-2.38        | 37.7 MB   | ##2        |  22% \n",
      "graphviz-2.38        | 37.7 MB   | ##4        |  24% \n",
      "graphviz-2.38        | 37.7 MB   | ##6        |  26% \n",
      "graphviz-2.38        | 37.7 MB   | ##7        |  28% \n",
      "graphviz-2.38        | 37.7 MB   | ##9        |  30% \n",
      "graphviz-2.38        | 37.7 MB   | ###1       |  32% \n",
      "graphviz-2.38        | 37.7 MB   | ###3       |  34% \n",
      "graphviz-2.38        | 37.7 MB   | ###5       |  35% \n",
      "Note: you may need to restart the kernel to use updated packages.\n"
     ]
    },
    {
     "name": "stderr",
     "output_type": "stream",
     "text": [
      "\n",
      "\n",
      "==> WARNING: A newer version of conda exists. <==\n",
      "  current version: 4.13.0\n",
      "  latest version: 22.9.0\n",
      "\n",
      "Please update conda by running\n",
      "\n",
      "    $ conda update -n base conda\n",
      "\n",
      "\n",
      "\n",
      "EnvironmentNotWritableError: The current user does not have write permissions to the target environment.\n",
      "  environment location: C:\\ProgramData\\Anaconda3\n",
      "\n",
      "\n"
     ]
    },
    {
     "name": "stdout",
     "output_type": "stream",
     "text": [
      "\n",
      "graphviz-2.38        | 37.7 MB   | ###7       |  37% \n",
      "graphviz-2.38        | 37.7 MB   | ###9       |  39% \n",
      "graphviz-2.38        | 37.7 MB   | ####       |  41% \n",
      "graphviz-2.38        | 37.7 MB   | ####2      |  43% \n",
      "graphviz-2.38        | 37.7 MB   | ####4      |  45% \n",
      "graphviz-2.38        | 37.7 MB   | ####6      |  46% \n",
      "graphviz-2.38        | 37.7 MB   | ####8      |  48% \n",
      "graphviz-2.38        | 37.7 MB   | ####9      |  50% \n",
      "graphviz-2.38        | 37.7 MB   | #####1     |  52% \n",
      "graphviz-2.38        | 37.7 MB   | #####3     |  53% \n",
      "graphviz-2.38        | 37.7 MB   | #####5     |  55% \n",
      "graphviz-2.38        | 37.7 MB   | #####6     |  57% \n",
      "graphviz-2.38        | 37.7 MB   | #####8     |  59% \n",
      "graphviz-2.38        | 37.7 MB   | ######     |  61% \n",
      "graphviz-2.38        | 37.7 MB   | ######2    |  63% \n",
      "graphviz-2.38        | 37.7 MB   | ######4    |  65% \n",
      "graphviz-2.38        | 37.7 MB   | ######6    |  67% \n",
      "graphviz-2.38        | 37.7 MB   | ######8    |  69% \n",
      "graphviz-2.38        | 37.7 MB   | #######    |  70% \n",
      "graphviz-2.38        | 37.7 MB   | #######2   |  72% \n",
      "graphviz-2.38        | 37.7 MB   | #######4   |  74% \n",
      "graphviz-2.38        | 37.7 MB   | #######5   |  76% \n",
      "graphviz-2.38        | 37.7 MB   | #######7   |  78% \n",
      "graphviz-2.38        | 37.7 MB   | #######9   |  80% \n",
      "graphviz-2.38        | 37.7 MB   | ########1  |  82% \n",
      "graphviz-2.38        | 37.7 MB   | ########3  |  83% \n",
      "graphviz-2.38        | 37.7 MB   | ########5  |  85% \n",
      "graphviz-2.38        | 37.7 MB   | ########6  |  87% \n",
      "graphviz-2.38        | 37.7 MB   | ########8  |  89% \n",
      "graphviz-2.38        | 37.7 MB   | #########  |  90% \n",
      "graphviz-2.38        | 37.7 MB   | #########2 |  92% \n",
      "graphviz-2.38        | 37.7 MB   | #########4 |  94% \n",
      "graphviz-2.38        | 37.7 MB   | #########5 |  96% \n",
      "graphviz-2.38        | 37.7 MB   | #########8 |  98% \n",
      "graphviz-2.38        | 37.7 MB   | ########## | 100% \n",
      "graphviz-2.38        | 37.7 MB   | ########## | 100% \n",
      "\n",
      "conda-4.13.0         | 1016 KB   |            |   0% \n",
      "conda-4.13.0         | 1016 KB   | #2         |  13% \n",
      "conda-4.13.0         | 1016 KB   | ########5  |  85% \n",
      "conda-4.13.0         | 1016 KB   | ########## | 100% \n",
      "Preparing transaction: ...working... done\n",
      "Verifying transaction: ...working... failed\n"
     ]
    }
   ],
   "source": [
    "conda install -c anaconda graphviz"
   ]
  },
  {
   "cell_type": "code",
   "execution_count": 4,
   "id": "05dbda0c",
   "metadata": {
    "scrolled": true
   },
   "outputs": [
    {
     "data": {
      "text/html": [
       "<div>\n",
       "<style scoped>\n",
       "    .dataframe tbody tr th:only-of-type {\n",
       "        vertical-align: middle;\n",
       "    }\n",
       "\n",
       "    .dataframe tbody tr th {\n",
       "        vertical-align: top;\n",
       "    }\n",
       "\n",
       "    .dataframe thead th {\n",
       "        text-align: right;\n",
       "    }\n",
       "</style>\n",
       "<table border=\"1\" class=\"dataframe\">\n",
       "  <thead>\n",
       "    <tr style=\"text-align: right;\">\n",
       "      <th></th>\n",
       "      <th>id</th>\n",
       "      <th>diagnosis</th>\n",
       "      <th>radius_mean</th>\n",
       "      <th>texture_mean</th>\n",
       "      <th>perimeter_mean</th>\n",
       "      <th>area_mean</th>\n",
       "      <th>smoothness_mean</th>\n",
       "      <th>compactness_mean</th>\n",
       "      <th>concavity_mean</th>\n",
       "      <th>concave points_mean</th>\n",
       "      <th>...</th>\n",
       "      <th>radius_worst</th>\n",
       "      <th>texture_worst</th>\n",
       "      <th>perimeter_worst</th>\n",
       "      <th>area_worst</th>\n",
       "      <th>smoothness_worst</th>\n",
       "      <th>compactness_worst</th>\n",
       "      <th>concavity_worst</th>\n",
       "      <th>concave points_worst</th>\n",
       "      <th>symmetry_worst</th>\n",
       "      <th>fractal_dimension_worst</th>\n",
       "    </tr>\n",
       "  </thead>\n",
       "  <tbody>\n",
       "    <tr>\n",
       "      <th>0</th>\n",
       "      <td>901288</td>\n",
       "      <td>M</td>\n",
       "      <td>20.64</td>\n",
       "      <td>17.35</td>\n",
       "      <td>134.80</td>\n",
       "      <td>1335.0</td>\n",
       "      <td>0.09446</td>\n",
       "      <td>0.1076</td>\n",
       "      <td>0.1527</td>\n",
       "      <td>0.08941</td>\n",
       "      <td>...</td>\n",
       "      <td>25.37</td>\n",
       "      <td>23.17</td>\n",
       "      <td>166.8</td>\n",
       "      <td>1946.0</td>\n",
       "      <td>0.1562</td>\n",
       "      <td>0.3055</td>\n",
       "      <td>0.4159</td>\n",
       "      <td>0.2112</td>\n",
       "      <td>0.2689</td>\n",
       "      <td>0.07055</td>\n",
       "    </tr>\n",
       "    <tr>\n",
       "      <th>1</th>\n",
       "      <td>8860702</td>\n",
       "      <td>M</td>\n",
       "      <td>17.30</td>\n",
       "      <td>17.08</td>\n",
       "      <td>113.00</td>\n",
       "      <td>928.2</td>\n",
       "      <td>0.10080</td>\n",
       "      <td>0.1041</td>\n",
       "      <td>0.1266</td>\n",
       "      <td>0.08353</td>\n",
       "      <td>...</td>\n",
       "      <td>19.85</td>\n",
       "      <td>25.09</td>\n",
       "      <td>130.9</td>\n",
       "      <td>1222.0</td>\n",
       "      <td>0.1416</td>\n",
       "      <td>0.2405</td>\n",
       "      <td>0.3378</td>\n",
       "      <td>0.1857</td>\n",
       "      <td>0.3138</td>\n",
       "      <td>0.08113</td>\n",
       "    </tr>\n",
       "    <tr>\n",
       "      <th>2</th>\n",
       "      <td>877500</td>\n",
       "      <td>M</td>\n",
       "      <td>14.45</td>\n",
       "      <td>20.22</td>\n",
       "      <td>94.49</td>\n",
       "      <td>642.7</td>\n",
       "      <td>0.09872</td>\n",
       "      <td>0.1206</td>\n",
       "      <td>0.1180</td>\n",
       "      <td>0.05980</td>\n",
       "      <td>...</td>\n",
       "      <td>18.33</td>\n",
       "      <td>30.12</td>\n",
       "      <td>117.9</td>\n",
       "      <td>1044.0</td>\n",
       "      <td>0.1552</td>\n",
       "      <td>0.4056</td>\n",
       "      <td>0.4967</td>\n",
       "      <td>0.1838</td>\n",
       "      <td>0.4753</td>\n",
       "      <td>0.10130</td>\n",
       "    </tr>\n",
       "  </tbody>\n",
       "</table>\n",
       "<p>3 rows × 32 columns</p>\n",
       "</div>"
      ],
      "text/plain": [
       "        id diagnosis  radius_mean  texture_mean  perimeter_mean  area_mean  \\\n",
       "0   901288         M        20.64         17.35          134.80     1335.0   \n",
       "1  8860702         M        17.30         17.08          113.00      928.2   \n",
       "2   877500         M        14.45         20.22           94.49      642.7   \n",
       "\n",
       "   smoothness_mean  compactness_mean  concavity_mean  concave points_mean  \\\n",
       "0          0.09446            0.1076          0.1527              0.08941   \n",
       "1          0.10080            0.1041          0.1266              0.08353   \n",
       "2          0.09872            0.1206          0.1180              0.05980   \n",
       "\n",
       "   ...  radius_worst  texture_worst  perimeter_worst  area_worst  \\\n",
       "0  ...         25.37          23.17            166.8      1946.0   \n",
       "1  ...         19.85          25.09            130.9      1222.0   \n",
       "2  ...         18.33          30.12            117.9      1044.0   \n",
       "\n",
       "   smoothness_worst  compactness_worst  concavity_worst  concave points_worst  \\\n",
       "0            0.1562             0.3055           0.4159                0.2112   \n",
       "1            0.1416             0.2405           0.3378                0.1857   \n",
       "2            0.1552             0.4056           0.4967                0.1838   \n",
       "\n",
       "   symmetry_worst  fractal_dimension_worst  \n",
       "0          0.2689                  0.07055  \n",
       "1          0.3138                  0.08113  \n",
       "2          0.4753                  0.10130  \n",
       "\n",
       "[3 rows x 32 columns]"
      ]
     },
     "execution_count": 4,
     "metadata": {},
     "output_type": "execute_result"
    }
   ],
   "source": [
    "df_test = pd.read_csv(\"bc_test_data_10.csv\")\n",
    "df_test.head(3)"
   ]
  },
  {
   "cell_type": "code",
   "execution_count": 5,
   "id": "dcb461f2",
   "metadata": {},
   "outputs": [
    {
     "data": {
      "text/html": [
       "<div>\n",
       "<style scoped>\n",
       "    .dataframe tbody tr th:only-of-type {\n",
       "        vertical-align: middle;\n",
       "    }\n",
       "\n",
       "    .dataframe tbody tr th {\n",
       "        vertical-align: top;\n",
       "    }\n",
       "\n",
       "    .dataframe thead th {\n",
       "        text-align: right;\n",
       "    }\n",
       "</style>\n",
       "<table border=\"1\" class=\"dataframe\">\n",
       "  <thead>\n",
       "    <tr style=\"text-align: right;\">\n",
       "      <th></th>\n",
       "      <th>id</th>\n",
       "      <th>diagnosis</th>\n",
       "      <th>radius_mean</th>\n",
       "      <th>texture_mean</th>\n",
       "      <th>perimeter_mean</th>\n",
       "      <th>area_mean</th>\n",
       "      <th>smoothness_mean</th>\n",
       "      <th>compactness_mean</th>\n",
       "      <th>concavity_mean</th>\n",
       "      <th>concave points_mean</th>\n",
       "      <th>...</th>\n",
       "      <th>radius_worst</th>\n",
       "      <th>texture_worst</th>\n",
       "      <th>perimeter_worst</th>\n",
       "      <th>area_worst</th>\n",
       "      <th>smoothness_worst</th>\n",
       "      <th>compactness_worst</th>\n",
       "      <th>concavity_worst</th>\n",
       "      <th>concave points_worst</th>\n",
       "      <th>symmetry_worst</th>\n",
       "      <th>fractal_dimension_worst</th>\n",
       "    </tr>\n",
       "  </thead>\n",
       "  <tbody>\n",
       "    <tr>\n",
       "      <th>0</th>\n",
       "      <td>842302</td>\n",
       "      <td>M</td>\n",
       "      <td>17.99</td>\n",
       "      <td>10.38</td>\n",
       "      <td>122.8</td>\n",
       "      <td>1001.0</td>\n",
       "      <td>0.11840</td>\n",
       "      <td>0.27760</td>\n",
       "      <td>0.3001</td>\n",
       "      <td>0.14710</td>\n",
       "      <td>...</td>\n",
       "      <td>25.38</td>\n",
       "      <td>17.33</td>\n",
       "      <td>184.6</td>\n",
       "      <td>2019.0</td>\n",
       "      <td>0.1622</td>\n",
       "      <td>0.6656</td>\n",
       "      <td>0.7119</td>\n",
       "      <td>0.2654</td>\n",
       "      <td>0.4601</td>\n",
       "      <td>0.11890</td>\n",
       "    </tr>\n",
       "    <tr>\n",
       "      <th>1</th>\n",
       "      <td>842517</td>\n",
       "      <td>M</td>\n",
       "      <td>20.57</td>\n",
       "      <td>17.77</td>\n",
       "      <td>132.9</td>\n",
       "      <td>1326.0</td>\n",
       "      <td>0.08474</td>\n",
       "      <td>0.07864</td>\n",
       "      <td>0.0869</td>\n",
       "      <td>0.07017</td>\n",
       "      <td>...</td>\n",
       "      <td>24.99</td>\n",
       "      <td>23.41</td>\n",
       "      <td>158.8</td>\n",
       "      <td>1956.0</td>\n",
       "      <td>0.1238</td>\n",
       "      <td>0.1866</td>\n",
       "      <td>0.2416</td>\n",
       "      <td>0.1860</td>\n",
       "      <td>0.2750</td>\n",
       "      <td>0.08902</td>\n",
       "    </tr>\n",
       "    <tr>\n",
       "      <th>2</th>\n",
       "      <td>84300903</td>\n",
       "      <td>M</td>\n",
       "      <td>19.69</td>\n",
       "      <td>21.25</td>\n",
       "      <td>130.0</td>\n",
       "      <td>1203.0</td>\n",
       "      <td>0.10960</td>\n",
       "      <td>0.15990</td>\n",
       "      <td>0.1974</td>\n",
       "      <td>0.12790</td>\n",
       "      <td>...</td>\n",
       "      <td>23.57</td>\n",
       "      <td>25.53</td>\n",
       "      <td>152.5</td>\n",
       "      <td>1709.0</td>\n",
       "      <td>0.1444</td>\n",
       "      <td>0.4245</td>\n",
       "      <td>0.4504</td>\n",
       "      <td>0.2430</td>\n",
       "      <td>0.3613</td>\n",
       "      <td>0.08758</td>\n",
       "    </tr>\n",
       "  </tbody>\n",
       "</table>\n",
       "<p>3 rows × 32 columns</p>\n",
       "</div>"
      ],
      "text/plain": [
       "         id diagnosis  radius_mean  texture_mean  perimeter_mean  area_mean  \\\n",
       "0    842302         M        17.99         10.38           122.8     1001.0   \n",
       "1    842517         M        20.57         17.77           132.9     1326.0   \n",
       "2  84300903         M        19.69         21.25           130.0     1203.0   \n",
       "\n",
       "   smoothness_mean  compactness_mean  concavity_mean  concave points_mean  \\\n",
       "0          0.11840           0.27760          0.3001              0.14710   \n",
       "1          0.08474           0.07864          0.0869              0.07017   \n",
       "2          0.10960           0.15990          0.1974              0.12790   \n",
       "\n",
       "   ...  radius_worst  texture_worst  perimeter_worst  area_worst  \\\n",
       "0  ...         25.38          17.33            184.6      2019.0   \n",
       "1  ...         24.99          23.41            158.8      1956.0   \n",
       "2  ...         23.57          25.53            152.5      1709.0   \n",
       "\n",
       "   smoothness_worst  compactness_worst  concavity_worst  concave points_worst  \\\n",
       "0            0.1622             0.6656           0.7119                0.2654   \n",
       "1            0.1238             0.1866           0.2416                0.1860   \n",
       "2            0.1444             0.4245           0.4504                0.2430   \n",
       "\n",
       "   symmetry_worst  fractal_dimension_worst  \n",
       "0          0.4601                  0.11890  \n",
       "1          0.2750                  0.08902  \n",
       "2          0.3613                  0.08758  \n",
       "\n",
       "[3 rows x 32 columns]"
      ]
     },
     "execution_count": 5,
     "metadata": {},
     "output_type": "execute_result"
    }
   ],
   "source": [
    "df = pd.read_csv(\"bc_data_90.csv\")\n",
    "df.head(3)"
   ]
  },
  {
   "cell_type": "code",
   "execution_count": 6,
   "id": "dbaa11a9",
   "metadata": {},
   "outputs": [
    {
     "name": "stdout",
     "output_type": "stream",
     "text": [
      "(512, 32)\n",
      "B    319\n",
      "M    193\n",
      "Name: diagnosis, dtype: int64\n"
     ]
    }
   ],
   "source": [
    "print(df.shape)\n",
    "\n",
    "print(df.diagnosis.value_counts())"
   ]
  },
  {
   "cell_type": "code",
   "execution_count": 9,
   "id": "32259a28",
   "metadata": {},
   "outputs": [],
   "source": [
    "features = ['radius_mean', 'texture_mean', 'perimeter_mean',\n",
    "       'area_mean', 'smoothness_mean', 'compactness_mean', 'concavity_mean',\n",
    "       'concave points_mean', 'symmetry_mean', 'fractal_dimension_mean',\n",
    "       'radius_se', 'texture_se', 'perimeter_se', 'area_se', 'smoothness_se',\n",
    "       'compactness_se', 'concavity_se', 'concave points_se', 'symmetry_se',\n",
    "       'fractal_dimension_se', 'radius_worst', 'texture_worst',\n",
    "       'perimeter_worst', 'area_worst', 'smoothness_worst',\n",
    "       'compactness_worst', 'concavity_worst', 'concave points_worst',\n",
    "       'symmetry_worst', 'fractal_dimension_worst']\n",
    "\n",
    "x = df[features]\n",
    "y = df['diagnosis']"
   ]
  },
  {
   "cell_type": "markdown",
   "id": "c3085c44",
   "metadata": {},
   "source": [
    "###### https://towardsdatascience.com/why-do-we-set-a-random-state-in-machine-learning-models-bb2dc68d8431 \n",
    "###### https://www.datacamp.com/tutorial/decision-tree-classification-python"
   ]
  },
  {
   "cell_type": "markdown",
   "id": "86a25d07",
   "metadata": {},
   "source": [
    "# Building the first decision tree classifier"
   ]
  },
  {
   "cell_type": "markdown",
   "id": "94300023",
   "metadata": {},
   "source": [
    "#### The data is split according to the cross-validation parameter. Each sample belongs to exactly one test set, and its prediction is computed with an estimator fitted on the corresponding training set"
   ]
  },
  {
   "cell_type": "code",
   "execution_count": 11,
   "id": "96a6278e",
   "metadata": {},
   "outputs": [],
   "source": [
    "cv = KFold(n_splits=10, random_state=1, shuffle=True)"
   ]
  },
  {
   "cell_type": "code",
   "execution_count": 12,
   "id": "7365fc00",
   "metadata": {},
   "outputs": [],
   "source": [
    "# # Label Encode the target variable\n",
    "# label_encoder = LabelEncoder()\n",
    "# encoded_y = label_encoder.fit_transform(y)\n",
    "# label_encoder_name_mapping = dict(zip(label_encoder.classes_,\n",
    "#                                          label_encoder.transform(label_encoder.classes_)))\n",
    "# print(\"Mapping of Label Encoded Classes\", label_encoder_name_mapping, sep=\"\\n\")\n",
    "# # print(\"Label Encoded Target Variable\", encoded_y, sep=\"\\n\")"
   ]
  },
  {
   "cell_type": "code",
   "execution_count": 13,
   "id": "ea909ab4",
   "metadata": {},
   "outputs": [],
   "source": [
    "model1 = DecisionTreeClassifier(criterion=\"entropy\")"
   ]
  },
  {
   "cell_type": "code",
   "execution_count": 16,
   "id": "bf37407d",
   "metadata": {},
   "outputs": [],
   "source": [
    "model2= RandomForestClassifier(criterion='entropy')"
   ]
  },
  {
   "cell_type": "code",
   "execution_count": 14,
   "id": "0f419186",
   "metadata": {},
   "outputs": [],
   "source": [
    "y_pred1 = cross_val_predict(model1, x, y, cv=cv)"
   ]
  },
  {
   "cell_type": "code",
   "execution_count": 17,
   "id": "e254e3dd",
   "metadata": {},
   "outputs": [],
   "source": [
    "y_pred2 = cross_val_predict(model2, x, y, cv=cv)"
   ]
  },
  {
   "cell_type": "code",
   "execution_count": 15,
   "id": "b26e5940",
   "metadata": {},
   "outputs": [
    {
     "name": "stdout",
     "output_type": "stream",
     "text": [
      "302 17 20 173\n"
     ]
    },
    {
     "data": {
      "text/html": [
       "<div>\n",
       "<style scoped>\n",
       "    .dataframe tbody tr th:only-of-type {\n",
       "        vertical-align: middle;\n",
       "    }\n",
       "\n",
       "    .dataframe tbody tr th {\n",
       "        vertical-align: top;\n",
       "    }\n",
       "\n",
       "    .dataframe thead th {\n",
       "        text-align: right;\n",
       "    }\n",
       "</style>\n",
       "<table border=\"1\" class=\"dataframe\">\n",
       "  <thead>\n",
       "    <tr style=\"text-align: right;\">\n",
       "      <th></th>\n",
       "      <th>accuracy</th>\n",
       "      <th>type 2 error</th>\n",
       "      <th>recall</th>\n",
       "    </tr>\n",
       "  </thead>\n",
       "  <tbody>\n",
       "    <tr>\n",
       "      <th>0</th>\n",
       "      <td>0.927734</td>\n",
       "      <td>0.103627</td>\n",
       "      <td>0.896373</td>\n",
       "    </tr>\n",
       "  </tbody>\n",
       "</table>\n",
       "</div>"
      ],
      "text/plain": [
       "   accuracy  type 2 error    recall\n",
       "0  0.927734      0.103627  0.896373"
      ]
     },
     "execution_count": 15,
     "metadata": {},
     "output_type": "execute_result"
    },
    {
     "data": {
      "image/png": "[encoded data removed]",
      "text/plain": [
       "<Figure size 432x288 with 2 Axes>"
      ]
     },
     "metadata": {
      "needs_background": "light"
     },
     "output_type": "display_data"
    }
   ],
   "source": [
    "cm1 = confusion_matrix(y, y_pred1)\n",
    "tn1, fp1, fn1, tp1 = cm1.ravel()\n",
    "print(tn1, fp1, fn1, tp1)\n",
    "ConfusionMatrixDisplay(cm1).plot()\n",
    "\n",
    "# accuracy\n",
    "acc1 = (tp1+tn1)/(tn1+fp1+fn1+tp1)\n",
    "# type II error\n",
    "error1 = fn1/(fn1+tp1)\n",
    "# Recall tells us how many of the actual positive cases we were able to predict correctly with our model.\n",
    "#Recall is a useful metric in cases where False Negative trumps False Positive.\n",
    "#Recall is important in medical cases where it doesn’t matter whether we raise a false alarm\n",
    "#but the actual positive cases should not go undetected!\n",
    "#In our example, Recall would be a better metric because we don’t want to accidentally discharge an infected\n",
    "#person and let them mix with the healthy population thereby spreading the contagious virus. \n",
    "recall1 = tp1/(tp1+fn1)\n",
    "\n",
    "df1 = pd.DataFrame({'accuracy':[acc1],'type 2 error': [error1],'recall':[recall1]})\n",
    "df1"
   ]
  },
  {
   "cell_type": "code",
   "execution_count": 19,
   "id": "90ef3150",
   "metadata": {},
   "outputs": [
    {
     "data": {
      "text/plain": [
       "array([[310,   9],\n",
       "       [ 15, 178]], dtype=int64)"
      ]
     },
     "execution_count": 19,
     "metadata": {},
     "output_type": "execute_result"
    }
   ],
   "source": [
    "cm2 = confusion_matrix(y, y_pred2)\n",
    "cm2"
   ]
  },
  {
   "cell_type": "code",
   "execution_count": 23,
   "id": "1ad225f0",
   "metadata": {},
   "outputs": [
    {
     "data": {
      "text/plain": [
       "Text(0.5, 15.0, 'Predicted Values')"
      ]
     },
     "execution_count": 23,
     "metadata": {},
     "output_type": "execute_result"
    },
    {
     "data": {
      "image/png": "[encoded data removed]",
      "text/plain": [
       "<Figure size 432x288 with 2 Axes>"
      ]
     },
     "metadata": {
      "needs_background": "light"
     },
     "output_type": "display_data"
    }
   ],
   "source": [
    "#plt.figure(figsize=(12,6))\n",
    "plt.title('Confusion Matrix')\n",
    "sns.heatmap(cm2, annot=True,fmt='d', cmap='Greens')\n",
    "plt.ylabel('Actual Values')\n",
    "plt.xlabel('Predicted Values')"
   ]
  },
  {
   "cell_type": "code",
   "execution_count": null,
   "id": "705a4484",
   "metadata": {},
   "outputs": [],
   "source": []
  },
  {
   "cell_type": "code",
   "execution_count": null,
   "id": "3e895b6d",
   "metadata": {},
   "outputs": [],
   "source": []
  },
  {
   "cell_type": "markdown",
   "id": "a57a61c1",
   "metadata": {},
   "source": [
    "# Resampling using undersampling technique to balance the class distribution"
   ]
  },
  {
   "cell_type": "markdown",
   "id": "9d2b5e4a",
   "metadata": {},
   "source": [
    "##### https://medium.com/@160shelf/decision-tree-on-imbalanced-dataset-f1575414a6c2\n",
    "##### https://machinelearningmastery.com/random-oversampling-and-undersampling-for-imbalanced-classification/\n",
    "##### Undersampling — Deleting samples from the majority class. This method seeks to randomly select and remove samples from the majority class, consequently reducing the number of examples in the majority class in the transformed data. The result of undersampling is a transformed data set with less examples in the majority class — this process may be repeated until the number of examples in each class is equal.\n",
    "##### https://towardsdatascience.com/oversampling-and-undersampling-5e2bbaf56dcf\n",
    "##### !!! https://www.mastersindatascience.org/learning/statistics-data-science/undersampling/ !!!\n",
    "##### Through an undersampling technique, we can remove certain events from the majority class, which is made up of the benign diagnoses. The goal is to create a balanced dataset that reflects the real world and can most accurately detect malignant cases. "
   ]
  },
  {
   "cell_type": "code",
   "execution_count": 6,
   "id": "94f4e561",
   "metadata": {},
   "outputs": [
    {
     "name": "stdout",
     "output_type": "stream",
     "text": [
      "Counter({'B': 319, 'M': 193})\n",
      "Counter({'B': 193, 'M': 193})\n"
     ]
    }
   ],
   "source": [
    "# example of random undersampling to balance the class distribution\n",
    "\n",
    "# summarize class distribution\n",
    "print(Counter(y))\n",
    "# define undersample strategy\n",
    "undersample = RandomUnderSampler(sampling_strategy='majority')\n",
    "# fit and apply the transform\n",
    "x_over, y_over = undersample.fit_resample(x, y)\n",
    "# summarize class distribution\n",
    "print(Counter(y_over))"
   ]
  },
  {
   "cell_type": "markdown",
   "id": "f8d71be3",
   "metadata": {},
   "source": [
    "## class distribution is balanced"
   ]
  },
  {
   "cell_type": "markdown",
   "id": "70df5665",
   "metadata": {},
   "source": [
    "##### This undersampling transform can also be used in a Pipeline, like the oversampling transform from the previous section. This allows the transform to be applied to the training dataset only using evaluation schemes such as k-fold cross-validation, avoiding any data leakage in the evaluation of a model."
   ]
  },
  {
   "cell_type": "code",
   "execution_count": 12,
   "id": "9421205b",
   "metadata": {},
   "outputs": [],
   "source": [
    "steps1 = [('under', RandomUnderSampler()), ('model', DecisionTreeClassifier(criterion=\"entropy\"))]"
   ]
  },
  {
   "cell_type": "code",
   "execution_count": 13,
   "id": "96c9964a",
   "metadata": {},
   "outputs": [],
   "source": [
    "pipeline1 = Pipeline(steps=steps1)"
   ]
  },
  {
   "cell_type": "code",
   "execution_count": 14,
   "id": "92291a22",
   "metadata": {},
   "outputs": [],
   "source": [
    "# cv = KFold(n_splits=10, random_state=1, shuffle=True)"
   ]
  },
  {
   "cell_type": "code",
   "execution_count": 15,
   "id": "61ce0af7",
   "metadata": {},
   "outputs": [],
   "source": [
    "y_pred2 = cross_val_predict(pipeline1, x_over, y_over, cv=cv)"
   ]
  },
  {
   "cell_type": "code",
   "execution_count": 16,
   "id": "a630117c",
   "metadata": {},
   "outputs": [
    {
     "name": "stdout",
     "output_type": "stream",
     "text": [
      "176 17 19 174\n"
     ]
    },
    {
     "data": {
      "text/html": [
       "<div>\n",
       "<style scoped>\n",
       "    .dataframe tbody tr th:only-of-type {\n",
       "        vertical-align: middle;\n",
       "    }\n",
       "\n",
       "    .dataframe tbody tr th {\n",
       "        vertical-align: top;\n",
       "    }\n",
       "\n",
       "    .dataframe thead th {\n",
       "        text-align: right;\n",
       "    }\n",
       "</style>\n",
       "<table border=\"1\" class=\"dataframe\">\n",
       "  <thead>\n",
       "    <tr style=\"text-align: right;\">\n",
       "      <th></th>\n",
       "      <th>accuracy</th>\n",
       "      <th>type 2 error</th>\n",
       "      <th>recall</th>\n",
       "    </tr>\n",
       "  </thead>\n",
       "  <tbody>\n",
       "    <tr>\n",
       "      <th>0</th>\n",
       "      <td>0.906736</td>\n",
       "      <td>0.098446</td>\n",
       "      <td>0.901554</td>\n",
       "    </tr>\n",
       "  </tbody>\n",
       "</table>\n",
       "</div>"
      ],
      "text/plain": [
       "   accuracy  type 2 error    recall\n",
       "0  0.906736      0.098446  0.901554"
      ]
     },
     "execution_count": 16,
     "metadata": {},
     "output_type": "execute_result"
    },
    {
     "data": {
      "image/png": "[encoded data removed]",
      "text/plain": [
       "<Figure size 432x288 with 2 Axes>"
      ]
     },
     "metadata": {
      "needs_background": "light"
     },
     "output_type": "display_data"
    }
   ],
   "source": [
    "cm2 = confusion_matrix(y_over, y_pred2)\n",
    "tn2, fp2, fn2, tp2 = cm2.ravel()\n",
    "print(tn2, fp2, fn2, tp2)\n",
    "ConfusionMatrixDisplay(cm2).plot()\n",
    "\n",
    "# accuracy\n",
    "acc2 = (tp2+tn2)/(tn2+fp2+fn2+tp2)\n",
    "# type II error\n",
    "error2 = fn2/(fn2+tp2)\n",
    "# Recall tells us how many of the actual positive cases we were able to predict correctly with our model.\n",
    "#Recall is a useful metric in cases where False Negative trumps False Positive.\n",
    "#Recall is important in medical cases where it doesn’t matter whether we raise a false alarm\n",
    "#but the actual positive cases should not go undetected!\n",
    "#In our example, Recall would be a better metric because we don’t want to accidentally discharge an infected\n",
    "#person and let them mix with the healthy population thereby spreading the contagious virus. \n",
    "recall2 = tp2/(tp2+fn2)\n",
    "\n",
    "df2 = pd.DataFrame({'accuracy':[acc2],'type 2 error': [error2],'recall':[recall2]})\n",
    "df2"
   ]
  },
  {
   "cell_type": "markdown",
   "id": "4d745aa5",
   "metadata": {},
   "source": [
    "# "
   ]
  },
  {
   "cell_type": "markdown",
   "id": "f99d9448",
   "metadata": {},
   "source": [
    "# Hyper-Parameter Tuning "
   ]
  },
  {
   "cell_type": "code",
   "execution_count": 17,
   "id": "43e04fca",
   "metadata": {},
   "outputs": [],
   "source": [
    "params = {'max_depth':  [None, 1, 2, 3, 4, 5, 6, 7, 8, 9, 10],\n",
    "          'max_features': [None, 'sqrt', 'log2', 2, 4, 6, 8, 10, 12],\n",
    "#     'max_features': [None, 'sqrt', 'log2', 0.2, 0.4, 0.6, 0.8],\n",
    "    'splitter': ['best', 'random']}"
   ]
  },
  {
   "cell_type": "code",
   "execution_count": null,
   "id": "bf834438",
   "metadata": {},
   "outputs": [],
   "source": []
  },
  {
   "cell_type": "code",
   "execution_count": 18,
   "id": "06bce7a1",
   "metadata": {},
   "outputs": [],
   "source": [
    "# cv = KFold(n_splits=10, random_state=1, shuffle=True)"
   ]
  },
  {
   "cell_type": "code",
   "execution_count": 19,
   "id": "1fc85daf",
   "metadata": {},
   "outputs": [],
   "source": [
    "clf = GridSearchCV(DecisionTreeClassifier(),\n",
    "    param_grid=params,\n",
    "    cv=cv)"
   ]
  },
  {
   "cell_type": "code",
   "execution_count": 20,
   "id": "06ce88b0",
   "metadata": {},
   "outputs": [
    {
     "data": {
      "text/plain": [
       "(10, 10, 'random')"
      ]
     },
     "execution_count": 20,
     "metadata": {},
     "output_type": "execute_result"
    }
   ],
   "source": [
    "clf.fit(x_over, y_over) #fit to the model\n",
    "best_params = list(clf.best_params_.values())\n",
    "best_params[0],best_params[1],best_params[2]"
   ]
  },
  {
   "cell_type": "code",
   "execution_count": 21,
   "id": "26496cca",
   "metadata": {},
   "outputs": [
    {
     "data": {
      "text/plain": [
       "{'max_depth': 10, 'max_features': 10, 'splitter': 'random'}"
      ]
     },
     "execution_count": 21,
     "metadata": {},
     "output_type": "execute_result"
    }
   ],
   "source": [
    "clf.best_params_"
   ]
  },
  {
   "cell_type": "code",
   "execution_count": 20,
   "id": "5f3dd93b",
   "metadata": {},
   "outputs": [],
   "source": [
    "model2_5 = DecisionTreeClassifier(criterion=\"entropy\", \n",
    "                        max_depth=best_params[0], max_features=best_params[1], splitter=best_params[2])"
   ]
  },
  {
   "cell_type": "code",
   "execution_count": 33,
   "id": "cf96f604",
   "metadata": {},
   "outputs": [],
   "source": [
    "output = cross_validate(model2_5, x_over, y_over, cv=cv, scoring = 'accuracy', return_estimator =True)"
   ]
  },
  {
   "cell_type": "code",
   "execution_count": 34,
   "id": "cc3a45b7",
   "metadata": {},
   "outputs": [
    {
     "data": {
      "text/plain": [
       "{'fit_time': array([0.00598979, 0.00298381, 0.00225925, 0.00174212, 0.00173998,\n",
       "        0.00188899, 0.00193501, 0.00196314, 0.00190425, 0.00186706]),\n",
       " 'score_time': array([0.00243831, 0.00187612, 0.00110078, 0.00100803, 0.00121403,\n",
       "        0.00134087, 0.00133896, 0.00113797, 0.00115895, 0.00097775]),\n",
       " 'estimator': [DecisionTreeClassifier(criterion='entropy', max_depth=10, max_features=10,\n",
       "                         splitter='random'),\n",
       "  DecisionTreeClassifier(criterion='entropy', max_depth=10, max_features=10,\n",
       "                         splitter='random'),\n",
       "  DecisionTreeClassifier(criterion='entropy', max_depth=10, max_features=10,\n",
       "                         splitter='random'),\n",
       "  DecisionTreeClassifier(criterion='entropy', max_depth=10, max_features=10,\n",
       "                         splitter='random'),\n",
       "  DecisionTreeClassifier(criterion='entropy', max_depth=10, max_features=10,\n",
       "                         splitter='random'),\n",
       "  DecisionTreeClassifier(criterion='entropy', max_depth=10, max_features=10,\n",
       "                         splitter='random'),\n",
       "  DecisionTreeClassifier(criterion='entropy', max_depth=10, max_features=10,\n",
       "                         splitter='random'),\n",
       "  DecisionTreeClassifier(criterion='entropy', max_depth=10, max_features=10,\n",
       "                         splitter='random'),\n",
       "  DecisionTreeClassifier(criterion='entropy', max_depth=10, max_features=10,\n",
       "                         splitter='random'),\n",
       "  DecisionTreeClassifier(criterion='entropy', max_depth=10, max_features=10,\n",
       "                         splitter='random')],\n",
       " 'test_score': array([1.        , 0.94871795, 0.84615385, 0.92307692, 0.97435897,\n",
       "        0.8974359 , 0.89473684, 0.92105263, 0.92105263, 1.        ])}"
      ]
     },
     "execution_count": 34,
     "metadata": {},
     "output_type": "execute_result"
    }
   ],
   "source": [
    "output"
   ]
  },
  {
   "cell_type": "code",
   "execution_count": 35,
   "id": "70f890f5",
   "metadata": {
    "scrolled": true
   },
   "outputs": [
    {
     "name": "stdout",
     "output_type": "stream",
     "text": [
      "Features sorted by their score for estimator 0:\n",
      "                         importance\n",
      "radius_mean                0.365445\n",
      "area_worst                 0.150665\n",
      "perimeter_se               0.073812\n",
      "concavity_mean             0.052715\n",
      "concavity_worst            0.048410\n",
      "compactness_mean           0.037461\n",
      "area_mean                  0.037280\n",
      "area_se                    0.036250\n",
      "perimeter_worst            0.033689\n",
      "texture_mean               0.029836\n",
      "symmetry_worst             0.029165\n",
      "concave points_mean        0.025148\n",
      "smoothness_se              0.023984\n",
      "texture_worst              0.014304\n",
      "symmetry_mean              0.014139\n",
      "radius_worst               0.008352\n",
      "smoothness_worst           0.007851\n",
      "concavity_se               0.005893\n",
      "texture_se                 0.005599\n",
      "concave points_worst       0.000000\n",
      "compactness_worst          0.000000\n",
      "compactness_se             0.000000\n",
      "fractal_dimension_se       0.000000\n",
      "symmetry_se                0.000000\n",
      "concave points_se          0.000000\n",
      "radius_se                  0.000000\n",
      "fractal_dimension_mean     0.000000\n",
      "smoothness_mean            0.000000\n",
      "perimeter_mean             0.000000\n",
      "fractal_dimension_worst    0.000000\n",
      "Features sorted by their score for estimator 1:\n",
      "                         importance\n",
      "concave points_mean        0.175561\n",
      "concave points_se          0.168089\n",
      "area_mean                  0.145641\n",
      "radius_worst               0.123763\n",
      "concavity_mean             0.061374\n",
      "perimeter_worst            0.052112\n",
      "area_worst                 0.042914\n",
      "texture_worst              0.038247\n",
      "smoothness_se              0.036178\n",
      "texture_mean               0.028871\n",
      "smoothness_mean            0.022113\n",
      "compactness_se             0.019936\n",
      "compactness_worst          0.016620\n",
      "texture_se                 0.013175\n",
      "concave points_worst       0.011485\n",
      "fractal_dimension_mean     0.010463\n",
      "fractal_dimension_worst    0.008945\n",
      "concavity_se               0.007985\n",
      "smoothness_worst           0.005957\n",
      "symmetry_se                0.004598\n",
      "compactness_mean           0.003965\n",
      "radius_mean                0.002008\n",
      "fractal_dimension_se       0.000000\n",
      "area_se                    0.000000\n",
      "perimeter_se               0.000000\n",
      "radius_se                  0.000000\n",
      "symmetry_mean              0.000000\n",
      "concavity_worst            0.000000\n",
      "perimeter_mean             0.000000\n",
      "symmetry_worst             0.000000\n",
      "Features sorted by their score for estimator 2:\n",
      "                         importance\n",
      "perimeter_worst            0.314075\n",
      "concavity_mean             0.267540\n",
      "area_se                    0.105686\n",
      "concave points_worst       0.057192\n",
      "radius_mean                0.043331\n",
      "perimeter_mean             0.035331\n",
      "radius_worst               0.028223\n",
      "area_worst                 0.022148\n",
      "smoothness_se              0.020754\n",
      "compactness_se             0.019835\n",
      "area_mean                  0.015666\n",
      "smoothness_mean            0.014718\n",
      "fractal_dimension_worst    0.012875\n",
      "perimeter_se               0.011536\n",
      "texture_se                 0.009796\n",
      "compactness_worst          0.009759\n",
      "texture_mean               0.005768\n",
      "concavity_se               0.005768\n",
      "compactness_mean           0.000000\n",
      "symmetry_worst             0.000000\n",
      "concavity_worst            0.000000\n",
      "smoothness_worst           0.000000\n",
      "radius_se                  0.000000\n",
      "texture_worst              0.000000\n",
      "fractal_dimension_se       0.000000\n",
      "symmetry_se                0.000000\n",
      "concave points_se          0.000000\n",
      "symmetry_mean              0.000000\n",
      "fractal_dimension_mean     0.000000\n",
      "concave points_mean        0.000000\n",
      "Features sorted by their score for estimator 3:\n",
      "                         importance\n",
      "concave points_worst       0.330034\n",
      "area_worst                 0.314803\n",
      "perimeter_worst            0.127859\n",
      "radius_worst               0.035901\n",
      "compactness_se             0.033704\n",
      "concavity_worst            0.029691\n",
      "texture_worst              0.028166\n",
      "area_se                    0.023354\n",
      "smoothness_worst           0.019306\n",
      "perimeter_se               0.011640\n",
      "symmetry_worst             0.009726\n",
      "symmetry_se                0.009726\n",
      "concavity_se               0.008256\n",
      "concave points_se          0.008256\n",
      "fractal_dimension_se       0.006316\n",
      "fractal_dimension_worst    0.003262\n",
      "texture_mean               0.000000\n",
      "smoothness_se              0.000000\n",
      "texture_se                 0.000000\n",
      "radius_se                  0.000000\n",
      "fractal_dimension_mean     0.000000\n",
      "symmetry_mean              0.000000\n",
      "concave points_mean        0.000000\n",
      "concavity_mean             0.000000\n",
      "compactness_mean           0.000000\n",
      "compactness_worst          0.000000\n",
      "smoothness_mean            0.000000\n",
      "area_mean                  0.000000\n",
      "perimeter_mean             0.000000\n",
      "radius_mean                0.000000\n",
      "Features sorted by their score for estimator 4:\n",
      "                         importance\n",
      "radius_worst               0.301167\n",
      "radius_mean                0.273305\n",
      "concave points_worst       0.113402\n",
      "compactness_worst          0.056586\n",
      "concavity_worst            0.037412\n",
      "area_mean                  0.031281\n",
      "texture_worst              0.022038\n",
      "area_se                    0.019898\n",
      "fractal_dimension_se       0.018296\n",
      "fractal_dimension_mean     0.016108\n",
      "smoothness_se              0.013516\n",
      "texture_se                 0.012097\n",
      "compactness_mean           0.011769\n",
      "texture_mean               0.010469\n",
      "perimeter_mean             0.009869\n",
      "radius_se                  0.009789\n",
      "compactness_se             0.007743\n",
      "fractal_dimension_worst    0.005884\n",
      "concave points_se          0.005884\n",
      "symmetry_mean              0.005765\n",
      "perimeter_worst            0.005764\n",
      "concave points_mean        0.004639\n",
      "symmetry_se                0.004578\n",
      "concavity_se               0.002743\n",
      "perimeter_se               0.000000\n",
      "area_worst                 0.000000\n",
      "smoothness_worst           0.000000\n",
      "concavity_mean             0.000000\n",
      "smoothness_mean            0.000000\n",
      "symmetry_worst             0.000000\n",
      "Features sorted by their score for estimator 5:\n",
      "                         importance\n",
      "area_mean                  0.342680\n",
      "texture_mean               0.119294\n",
      "concave points_worst       0.082065\n",
      "concavity_worst            0.075369\n",
      "radius_se                  0.046005\n",
      "perimeter_mean             0.043963\n",
      "concavity_se               0.041287\n",
      "compactness_se             0.041172\n",
      "radius_worst               0.040881\n",
      "smoothness_worst           0.031945\n",
      "area_worst                 0.031270\n",
      "concavity_mean             0.022196\n",
      "texture_worst              0.014313\n",
      "smoothness_se              0.013055\n",
      "perimeter_worst            0.010958\n",
      "fractal_dimension_worst    0.010308\n",
      "area_se                    0.009353\n",
      "texture_se                 0.008802\n",
      "concave points_mean        0.006630\n",
      "symmetry_mean              0.005173\n",
      "perimeter_se               0.003281\n",
      "concave points_se          0.000000\n",
      "symmetry_se                0.000000\n",
      "fractal_dimension_se       0.000000\n",
      "fractal_dimension_mean     0.000000\n",
      "compactness_worst          0.000000\n",
      "compactness_mean           0.000000\n",
      "smoothness_mean            0.000000\n",
      "symmetry_worst             0.000000\n",
      "radius_mean                0.000000\n",
      "Features sorted by their score for estimator 6:\n",
      "                         importance\n",
      "area_worst                 0.391240\n",
      "concavity_mean             0.272894\n",
      "area_se                    0.056804\n",
      "texture_mean               0.040138\n",
      "symmetry_worst             0.037329\n",
      "radius_worst               0.028687\n",
      "fractal_dimension_mean     0.023591\n",
      "concave points_worst       0.022521\n",
      "symmetry_se                0.019978\n",
      "concavity_se               0.015041\n",
      "radius_mean                0.013253\n",
      "compactness_se             0.012796\n",
      "texture_worst              0.012071\n",
      "smoothness_se              0.010723\n",
      "perimeter_worst            0.010617\n",
      "concavity_worst            0.008029\n",
      "perimeter_se               0.007939\n",
      "compactness_worst          0.005829\n",
      "radius_se                  0.005829\n",
      "texture_se                 0.004691\n",
      "concave points_se          0.000000\n",
      "concave points_mean        0.000000\n",
      "fractal_dimension_se       0.000000\n",
      "compactness_mean           0.000000\n",
      "symmetry_mean              0.000000\n",
      "smoothness_mean            0.000000\n",
      "smoothness_worst           0.000000\n",
      "area_mean                  0.000000\n",
      "perimeter_mean             0.000000\n",
      "fractal_dimension_worst    0.000000\n",
      "Features sorted by their score for estimator 7:\n",
      "                         importance\n",
      "radius_mean                0.392066\n",
      "concavity_mean             0.164654\n",
      "smoothness_mean            0.094804\n",
      "radius_worst               0.072160\n",
      "concave points_mean        0.063595\n",
      "area_worst                 0.025972\n",
      "concave points_worst       0.022912\n",
      "perimeter_worst            0.022377\n",
      "texture_worst              0.021110\n",
      "symmetry_se                0.017253\n",
      "texture_se                 0.016552\n",
      "texture_mean               0.015872\n",
      "compactness_se             0.014139\n",
      "compactness_worst          0.012903\n",
      "concavity_worst            0.011265\n",
      "perimeter_mean             0.010894\n",
      "concave points_se          0.010258\n",
      "area_se                    0.006261\n",
      "fractal_dimension_se       0.004954\n",
      "area_mean                  0.000000\n",
      "symmetry_worst             0.000000\n",
      "smoothness_worst           0.000000\n",
      "symmetry_mean              0.000000\n",
      "compactness_mean           0.000000\n",
      "smoothness_se              0.000000\n",
      "fractal_dimension_mean     0.000000\n",
      "radius_se                  0.000000\n",
      "concavity_se               0.000000\n",
      "perimeter_se               0.000000\n",
      "fractal_dimension_worst    0.000000\n",
      "Features sorted by their score for estimator 8:\n",
      "                         importance\n",
      "radius_worst               0.552355\n",
      "concavity_mean             0.172137\n",
      "texture_mean               0.038770\n",
      "symmetry_worst             0.035181\n",
      "smoothness_mean            0.030165\n",
      "perimeter_worst            0.023620\n",
      "area_worst                 0.022204\n",
      "smoothness_se              0.021347\n",
      "texture_worst              0.020745\n",
      "perimeter_se               0.018970\n",
      "concave points_worst       0.018263\n",
      "fractal_dimension_worst    0.007916\n",
      "texture_se                 0.007916\n",
      "area_mean                  0.007916\n",
      "compactness_worst          0.007304\n",
      "concavity_worst            0.006034\n",
      "concave points_mean        0.005747\n",
      "compactness_se             0.003408\n",
      "symmetry_se                0.000000\n",
      "fractal_dimension_se       0.000000\n",
      "concave points_se          0.000000\n",
      "concavity_se               0.000000\n",
      "area_se                    0.000000\n",
      "radius_se                  0.000000\n",
      "smoothness_worst           0.000000\n",
      "fractal_dimension_mean     0.000000\n",
      "symmetry_mean              0.000000\n",
      "compactness_mean           0.000000\n",
      "perimeter_mean             0.000000\n",
      "radius_mean                0.000000\n",
      "Features sorted by their score for estimator 9:\n",
      "                         importance\n",
      "concave points_worst       0.360197\n",
      "radius_worst               0.217834\n",
      "area_worst                 0.075037\n",
      "area_mean                  0.052989\n",
      "concave points_mean        0.037637\n",
      "perimeter_mean             0.036433\n",
      "compactness_worst          0.032876\n",
      "concavity_worst            0.030634\n",
      "smoothness_mean            0.022001\n",
      "smoothness_worst           0.021152\n",
      "concave points_se          0.019104\n",
      "area_se                    0.018752\n",
      "perimeter_se               0.017016\n",
      "texture_mean               0.016530\n",
      "symmetry_worst             0.013893\n",
      "symmetry_mean              0.008270\n",
      "texture_worst              0.007048\n",
      "compactness_mean           0.007034\n",
      "concavity_se               0.005561\n",
      "perimeter_worst            0.000000\n",
      "radius_mean                0.000000\n",
      "compactness_se             0.000000\n",
      "fractal_dimension_se       0.000000\n",
      "symmetry_se                0.000000\n",
      "smoothness_se              0.000000\n",
      "texture_se                 0.000000\n",
      "radius_se                  0.000000\n",
      "fractal_dimension_mean     0.000000\n",
      "concavity_mean             0.000000\n",
      "fractal_dimension_worst    0.000000\n"
     ]
    }
   ],
   "source": [
    "for idx,estimator in enumerate(output['estimator']):\n",
    "    print(\"Features sorted by their score for estimator {}:\".format(idx))\n",
    "    feature_importances = pd.DataFrame(estimator.feature_importances_,\n",
    "                                       index = features,\n",
    "                                        columns=['importance']).sort_values('importance', ascending=False)\n",
    "    print(feature_importances)"
   ]
  },
  {
   "cell_type": "code",
   "execution_count": 36,
   "id": "6c5326a4",
   "metadata": {},
   "outputs": [
    {
     "data": {
      "text/html": [
       "<div>\n",
       "<style scoped>\n",
       "    .dataframe tbody tr th:only-of-type {\n",
       "        vertical-align: middle;\n",
       "    }\n",
       "\n",
       "    .dataframe tbody tr th {\n",
       "        vertical-align: top;\n",
       "    }\n",
       "\n",
       "    .dataframe thead th {\n",
       "        text-align: right;\n",
       "    }\n",
       "</style>\n",
       "<table border=\"1\" class=\"dataframe\">\n",
       "  <thead>\n",
       "    <tr style=\"text-align: right;\">\n",
       "      <th></th>\n",
       "      <th>importance</th>\n",
       "    </tr>\n",
       "  </thead>\n",
       "  <tbody>\n",
       "    <tr>\n",
       "      <th>concave points_worst</th>\n",
       "      <td>0.360197</td>\n",
       "    </tr>\n",
       "    <tr>\n",
       "      <th>radius_worst</th>\n",
       "      <td>0.217834</td>\n",
       "    </tr>\n",
       "    <tr>\n",
       "      <th>area_worst</th>\n",
       "      <td>0.075037</td>\n",
       "    </tr>\n",
       "    <tr>\n",
       "      <th>area_mean</th>\n",
       "      <td>0.052989</td>\n",
       "    </tr>\n",
       "    <tr>\n",
       "      <th>concave points_mean</th>\n",
       "      <td>0.037637</td>\n",
       "    </tr>\n",
       "    <tr>\n",
       "      <th>perimeter_mean</th>\n",
       "      <td>0.036433</td>\n",
       "    </tr>\n",
       "    <tr>\n",
       "      <th>compactness_worst</th>\n",
       "      <td>0.032876</td>\n",
       "    </tr>\n",
       "    <tr>\n",
       "      <th>concavity_worst</th>\n",
       "      <td>0.030634</td>\n",
       "    </tr>\n",
       "    <tr>\n",
       "      <th>smoothness_mean</th>\n",
       "      <td>0.022001</td>\n",
       "    </tr>\n",
       "    <tr>\n",
       "      <th>smoothness_worst</th>\n",
       "      <td>0.021152</td>\n",
       "    </tr>\n",
       "    <tr>\n",
       "      <th>concave points_se</th>\n",
       "      <td>0.019104</td>\n",
       "    </tr>\n",
       "    <tr>\n",
       "      <th>area_se</th>\n",
       "      <td>0.018752</td>\n",
       "    </tr>\n",
       "    <tr>\n",
       "      <th>perimeter_se</th>\n",
       "      <td>0.017016</td>\n",
       "    </tr>\n",
       "    <tr>\n",
       "      <th>texture_mean</th>\n",
       "      <td>0.016530</td>\n",
       "    </tr>\n",
       "    <tr>\n",
       "      <th>symmetry_worst</th>\n",
       "      <td>0.013893</td>\n",
       "    </tr>\n",
       "    <tr>\n",
       "      <th>symmetry_mean</th>\n",
       "      <td>0.008270</td>\n",
       "    </tr>\n",
       "    <tr>\n",
       "      <th>texture_worst</th>\n",
       "      <td>0.007048</td>\n",
       "    </tr>\n",
       "    <tr>\n",
       "      <th>compactness_mean</th>\n",
       "      <td>0.007034</td>\n",
       "    </tr>\n",
       "    <tr>\n",
       "      <th>concavity_se</th>\n",
       "      <td>0.005561</td>\n",
       "    </tr>\n",
       "    <tr>\n",
       "      <th>perimeter_worst</th>\n",
       "      <td>0.000000</td>\n",
       "    </tr>\n",
       "    <tr>\n",
       "      <th>radius_mean</th>\n",
       "      <td>0.000000</td>\n",
       "    </tr>\n",
       "    <tr>\n",
       "      <th>compactness_se</th>\n",
       "      <td>0.000000</td>\n",
       "    </tr>\n",
       "    <tr>\n",
       "      <th>fractal_dimension_se</th>\n",
       "      <td>0.000000</td>\n",
       "    </tr>\n",
       "    <tr>\n",
       "      <th>symmetry_se</th>\n",
       "      <td>0.000000</td>\n",
       "    </tr>\n",
       "    <tr>\n",
       "      <th>smoothness_se</th>\n",
       "      <td>0.000000</td>\n",
       "    </tr>\n",
       "    <tr>\n",
       "      <th>texture_se</th>\n",
       "      <td>0.000000</td>\n",
       "    </tr>\n",
       "    <tr>\n",
       "      <th>radius_se</th>\n",
       "      <td>0.000000</td>\n",
       "    </tr>\n",
       "    <tr>\n",
       "      <th>fractal_dimension_mean</th>\n",
       "      <td>0.000000</td>\n",
       "    </tr>\n",
       "    <tr>\n",
       "      <th>concavity_mean</th>\n",
       "      <td>0.000000</td>\n",
       "    </tr>\n",
       "    <tr>\n",
       "      <th>fractal_dimension_worst</th>\n",
       "      <td>0.000000</td>\n",
       "    </tr>\n",
       "  </tbody>\n",
       "</table>\n",
       "</div>"
      ],
      "text/plain": [
       "                         importance\n",
       "concave points_worst       0.360197\n",
       "radius_worst               0.217834\n",
       "area_worst                 0.075037\n",
       "area_mean                  0.052989\n",
       "concave points_mean        0.037637\n",
       "perimeter_mean             0.036433\n",
       "compactness_worst          0.032876\n",
       "concavity_worst            0.030634\n",
       "smoothness_mean            0.022001\n",
       "smoothness_worst           0.021152\n",
       "concave points_se          0.019104\n",
       "area_se                    0.018752\n",
       "perimeter_se               0.017016\n",
       "texture_mean               0.016530\n",
       "symmetry_worst             0.013893\n",
       "symmetry_mean              0.008270\n",
       "texture_worst              0.007048\n",
       "compactness_mean           0.007034\n",
       "concavity_se               0.005561\n",
       "perimeter_worst            0.000000\n",
       "radius_mean                0.000000\n",
       "compactness_se             0.000000\n",
       "fractal_dimension_se       0.000000\n",
       "symmetry_se                0.000000\n",
       "smoothness_se              0.000000\n",
       "texture_se                 0.000000\n",
       "radius_se                  0.000000\n",
       "fractal_dimension_mean     0.000000\n",
       "concavity_mean             0.000000\n",
       "fractal_dimension_worst    0.000000"
      ]
     },
     "execution_count": 36,
     "metadata": {},
     "output_type": "execute_result"
    }
   ],
   "source": [
    "feature_importances"
   ]
  },
  {
   "cell_type": "code",
   "execution_count": null,
   "id": "6135b4b9",
   "metadata": {},
   "outputs": [],
   "source": []
  },
  {
   "cell_type": "markdown",
   "id": "dd4f30a4",
   "metadata": {},
   "source": [
    "# Apply these parameters to the model"
   ]
  },
  {
   "cell_type": "code",
   "execution_count": 22,
   "id": "abd9759f",
   "metadata": {},
   "outputs": [],
   "source": [
    "steps2 = [('under', RandomUnderSampler()), ('model', DecisionTreeClassifier(criterion=\"entropy\", \n",
    "                        max_depth=best_params[0], max_features=best_params[1], splitter=best_params[2]))]"
   ]
  },
  {
   "cell_type": "code",
   "execution_count": 23,
   "id": "47eb517b",
   "metadata": {},
   "outputs": [],
   "source": [
    "pipeline2 = Pipeline(steps=steps2)"
   ]
  },
  {
   "cell_type": "code",
   "execution_count": 24,
   "id": "e35035a5",
   "metadata": {},
   "outputs": [],
   "source": [
    "# cv = KFold(n_splits=10, random_state=1, shuffle=True)"
   ]
  },
  {
   "cell_type": "code",
   "execution_count": 25,
   "id": "2275db57",
   "metadata": {},
   "outputs": [],
   "source": [
    "y_pred3 = cross_val_predict(pipeline2, x_over, y_over, cv=cv)"
   ]
  },
  {
   "cell_type": "code",
   "execution_count": 26,
   "id": "3b63aa48",
   "metadata": {},
   "outputs": [
    {
     "name": "stdout",
     "output_type": "stream",
     "text": [
      "174 19 17 176\n"
     ]
    },
    {
     "data": {
      "text/html": [
       "<div>\n",
       "<style scoped>\n",
       "    .dataframe tbody tr th:only-of-type {\n",
       "        vertical-align: middle;\n",
       "    }\n",
       "\n",
       "    .dataframe tbody tr th {\n",
       "        vertical-align: top;\n",
       "    }\n",
       "\n",
       "    .dataframe thead th {\n",
       "        text-align: right;\n",
       "    }\n",
       "</style>\n",
       "<table border=\"1\" class=\"dataframe\">\n",
       "  <thead>\n",
       "    <tr style=\"text-align: right;\">\n",
       "      <th></th>\n",
       "      <th>accuracy</th>\n",
       "      <th>type 2 error</th>\n",
       "      <th>recall</th>\n",
       "    </tr>\n",
       "  </thead>\n",
       "  <tbody>\n",
       "    <tr>\n",
       "      <th>0</th>\n",
       "      <td>0.906736</td>\n",
       "      <td>0.088083</td>\n",
       "      <td>0.911917</td>\n",
       "    </tr>\n",
       "  </tbody>\n",
       "</table>\n",
       "</div>"
      ],
      "text/plain": [
       "   accuracy  type 2 error    recall\n",
       "0  0.906736      0.088083  0.911917"
      ]
     },
     "execution_count": 26,
     "metadata": {},
     "output_type": "execute_result"
    },
    {
     "data": {
      "image/png": "[encoded data removed]",
      "text/plain": [
       "<Figure size 432x288 with 2 Axes>"
      ]
     },
     "metadata": {
      "needs_background": "light"
     },
     "output_type": "display_data"
    }
   ],
   "source": [
    "cm3 = confusion_matrix(y_over, y_pred3)\n",
    "tn3, fp3, fn3, tp3 = cm3.ravel()\n",
    "print(tn3, fp3, fn3, tp3)\n",
    "ConfusionMatrixDisplay(cm3).plot()\n",
    "\n",
    "# accuracy\n",
    "acc3 = (tp3+tn3)/(tn3+fp3+fn3+tp3)\n",
    "# type II error\n",
    "error3 = fn3/(fn3+tp3)\n",
    "# Recall tells us how many of the actual positive cases we were able to predict correctly with our model.\n",
    "#Recall is a useful metric in cases where False Negative trumps False Positive.\n",
    "#Recall is important in medical cases where it doesn’t matter whether we raise a false alarm\n",
    "#but the actual positive cases should not go undetected!\n",
    "#In our example, Recall would be a better metric because we don’t want to accidentally discharge an infected\n",
    "#person and let them mix with the healthy population thereby spreading the contagious virus. \n",
    "recall3 = tp3/(tp3+fn3)\n",
    "\n",
    "df3 = pd.DataFrame({'accuracy':[acc3],'type 2 error': [error3],'recall':[recall3]})\n",
    "df3"
   ]
  },
  {
   "cell_type": "markdown",
   "id": "c78b30ed",
   "metadata": {},
   "source": [
    "##### the other 10% of the original data"
   ]
  },
  {
   "cell_type": "code",
   "execution_count": 27,
   "id": "a8a1eb3b",
   "metadata": {},
   "outputs": [],
   "source": [
    "x2 = df_test[features]\n",
    "y2 = df_test['diagnosis']"
   ]
  },
  {
   "cell_type": "code",
   "execution_count": 28,
   "id": "81cc3e85",
   "metadata": {},
   "outputs": [],
   "source": [
    "model2 = DecisionTreeClassifier(criterion=\"entropy\", \n",
    "                        max_depth=best_params[0], max_features=best_params[1], splitter=best_params[2])"
   ]
  },
  {
   "cell_type": "code",
   "execution_count": 29,
   "id": "10b9d56a",
   "metadata": {},
   "outputs": [],
   "source": [
    "y_pred4 = cross_val_predict(model2, x2, y2, cv=cv)"
   ]
  },
  {
   "cell_type": "code",
   "execution_count": 30,
   "id": "1c1b5d02",
   "metadata": {},
   "outputs": [
    {
     "name": "stdout",
     "output_type": "stream",
     "text": [
      "36 2 1 18\n"
     ]
    },
    {
     "data": {
      "text/html": [
       "<div>\n",
       "<style scoped>\n",
       "    .dataframe tbody tr th:only-of-type {\n",
       "        vertical-align: middle;\n",
       "    }\n",
       "\n",
       "    .dataframe tbody tr th {\n",
       "        vertical-align: top;\n",
       "    }\n",
       "\n",
       "    .dataframe thead th {\n",
       "        text-align: right;\n",
       "    }\n",
       "</style>\n",
       "<table border=\"1\" class=\"dataframe\">\n",
       "  <thead>\n",
       "    <tr style=\"text-align: right;\">\n",
       "      <th></th>\n",
       "      <th>accuracy</th>\n",
       "      <th>type 2 error</th>\n",
       "      <th>recall</th>\n",
       "    </tr>\n",
       "  </thead>\n",
       "  <tbody>\n",
       "    <tr>\n",
       "      <th>0</th>\n",
       "      <td>0.947368</td>\n",
       "      <td>0.052632</td>\n",
       "      <td>0.947368</td>\n",
       "    </tr>\n",
       "  </tbody>\n",
       "</table>\n",
       "</div>"
      ],
      "text/plain": [
       "   accuracy  type 2 error    recall\n",
       "0  0.947368      0.052632  0.947368"
      ]
     },
     "execution_count": 30,
     "metadata": {},
     "output_type": "execute_result"
    },
    {
     "data": {
      "image/png": "[encoded data removed]",
      "text/plain": [
       "<Figure size 432x288 with 2 Axes>"
      ]
     },
     "metadata": {
      "needs_background": "light"
     },
     "output_type": "display_data"
    }
   ],
   "source": [
    "cm4 = confusion_matrix(y2, y_pred4)\n",
    "tn4, fp4, fn4, tp4 = cm4.ravel()\n",
    "print(tn4, fp4, fn4, tp4)\n",
    "ConfusionMatrixDisplay(cm4).plot()\n",
    "\n",
    "# accuracy\n",
    "acc4 = (tp4+tn4)/(tn4+fp4+fn4+tp4)\n",
    "# type II error\n",
    "error4 = fn4/(fn4+tp4)\n",
    "# Recall tells us how many of the actual positive cases we were able to predict correctly with our model.\n",
    "#Recall is a useful metric in cases where False Negative trumps False Positive.\n",
    "#Recall is important in medical cases where it doesn’t matter whether we raise a false alarm\n",
    "#but the actual positive cases should not go undetected!\n",
    "#In our example, Recall would be a better metric because we don’t want to accidentally discharge an infected\n",
    "#person and let them mix with the healthy population thereby spreading the contagious virus. \n",
    "recall4 = tp4/(tp4+fn4)\n",
    "\n",
    "df4 = pd.DataFrame({'accuracy':[acc4],'type 2 error': [error4],'recall':[recall4]})\n",
    "df4"
   ]
  },
  {
   "cell_type": "code",
   "execution_count": null,
   "id": "3a49ced6",
   "metadata": {},
   "outputs": [],
   "source": []
  }
 ],
 "metadata": {
  "kernelspec": {
   "display_name": "Python 3 (ipykernel)",
   "language": "python",
   "name": "python3"
  },
  "language_info": {
   "codemirror_mode": {
    "name": "ipython",
    "version": 3
   },
   "file_extension": ".py",
   "mimetype": "text/x-python",
   "name": "python",
   "nbconvert_exporter": "python",
   "pygments_lexer": "ipython3",
   "version": "3.9.7"
  }
 },
 "nbformat": 4,
 "nbformat_minor": 5
}
